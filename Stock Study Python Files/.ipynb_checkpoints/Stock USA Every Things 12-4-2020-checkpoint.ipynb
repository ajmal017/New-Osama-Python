{
 "cells": [
  {
   "cell_type": "markdown",
   "metadata": {},
   "source": [
    "#  A study on the efficiency of the various indicators of the USA Stock"
   ]
  },
  {
   "cell_type": "markdown",
   "metadata": {},
   "source": [
    "## No4 Stock USA import data 12-4-2020"
   ]
  },
  {
   "cell_type": "code",
   "execution_count": null,
   "metadata": {},
   "outputs": [],
   "source": [
    "import talib as ta\n",
    "import yfinance as yf\n",
    "stock = 'V'\n",
    "aapl = yf.download(stock, '2010-1-1', '2020-4-10')"
   ]
  },
  {
   "cell_type": "code",
   "execution_count": null,
   "metadata": {},
   "outputs": [],
   "source": [
    "aapl.head(25)"
   ]
  },
  {
   "cell_type": "markdown",
   "metadata": {},
   "source": [
    "### Adjustments Excel File Befor Export to PC"
   ]
  },
  {
   "cell_type": "code",
   "execution_count": null,
   "metadata": {},
   "outputs": [],
   "source": [
    "del aapl['Adj Close'] #active if you need\n",
    "aapl.rename(columns={'Volume': 'Volume_BTC'}, inplace=True)\n",
    "aapl "
   ]
  },
  {
   "cell_type": "markdown",
   "metadata": {},
   "source": [
    "### Export File to PC"
   ]
  },
  {
   "cell_type": "code",
   "execution_count": null,
   "metadata": {},
   "outputs": [],
   "source": [
    "#Dont Forget Change file name in folder path\n",
    "folder_path=\"D:\\Stock Study Excel Files\\Input Excel Files\\Stock USA\\V.xlsx\"\n",
    "aapl.to_excel(folder_path, sheet_name=stock, index=True)\n",
    "print(f'Ok file Export To ({folder_path})folder' )"
   ]
  },
  {
   "cell_type": "markdown",
   "metadata": {},
   "source": [
    "## No5 Stock USA Ta-Lib all features 12-4-2020"
   ]
  },
  {
   "cell_type": "code",
   "execution_count": null,
   "metadata": {},
   "outputs": [],
   "source": [
    "import pandas as pd\n",
    "import ta\n",
    "import glob\n",
    "import numpy as np\n",
    "# Import Built-Ins\n",
    "import logging\n",
    "#Import Third-Party\n",
    "# Import Homebrew\n",
    "import matplotlib.pyplot as plt\n",
    "\n",
    "plt.style.use('bmh')\n",
    "# Init Logging Facilities\n",
    "log = logging.getLogger(__name__)\n",
    "#################################################################\n",
    "# 1- Load data\n",
    "indicators_value = []\n",
    "ticker_name = []\n",
    "folder_path2=\"D:\\Stock Study Excel Files\\Input Excel Files\\Stock USA\\*.xlsx\"\n",
    "glob.glob(folder_path2)\n",
    "for f in glob.glob(folder_path2):\n",
    "    df = pd.read_excel(f)\n",
    "    tike = f.split('\\\\')[-1].split('.')[0]\n",
    "    print(f'Ticker Name: {tike}')\n",
    "    df.insert(1, 'TICKER', tike)  # to bring excel file name\n",
    "    # Clean nan values\n",
    "    df = ta.utils.dropna(df)\n",
    "    ####################################################################\n",
    "    # 2-Add all ta features filling nans values (from Ta-Lib Except SuperTrend Because not in Ta-Lib)\n",
    "    df = ta.add_all_ta_features(df, \"Open\", \"High\", \"Low\", \"Close\", \"Volume_BTC\", fillna=True)\n",
    "    df.index +=1 # to make index start 1 insted o\n",
    "    df.round(2).to_excel(f'{f}.xlsx', sheet_name=tike, index=True)\n",
    "    print(f'Ok file Export To ({folder_path2})folder' )"
   ]
  },
  {
   "cell_type": "code",
   "execution_count": null,
   "metadata": {},
   "outputs": [],
   "source": [
    "df"
   ]
  },
  {
   "cell_type": "code",
   "execution_count": null,
   "metadata": {},
   "outputs": [],
   "source": [
    "df"
   ]
  },
  {
   "cell_type": "markdown",
   "metadata": {},
   "source": [
    "## No7 Stock USA Study 12-4-2020"
   ]
  },
  {
   "cell_type": "code",
   "execution_count": null,
   "metadata": {},
   "outputs": [],
   "source": [
    "import pandas as pd\n",
    "import ta\n",
    "import glob\n",
    "# Import Built-Ins\n",
    "import logging\n",
    "# Import Third-Party\n",
    "# Import Homebrew\n",
    "import matplotlib.pyplot as plt\n",
    "\n",
    "plt.style.use('bmh')\n",
    "# Init Logging Facilities\n",
    "log = logging.getLogger(__name__)\n",
    "#################################################################\n",
    "# 1- Load data\n",
    "indicators_value = []\n",
    "ticker_name = []\n",
    "folder_path3=\"D:\\Stock Study Excel Files\\Input Excel Files\\Stock USA\\*.xlsx\"\n",
    "glob.glob(folder_path3)\n",
    "for f in glob.glob(folder_path3):\n",
    "    df = pd.read_excel(f)\n",
    "   # df.columns = map(str.capitalize, df.columns)\n",
    "    #df.rename(columns={'Volume': 'Volume_BTC'}, inplace=True)\n",
    "    tike = f.split('\\\\')[-1].split('.')[0]\n",
    "    print(f'Ticker Name: {tike}')\n",
    "    df.insert(1, 'TICKER', tike)  # to bring excel file name\n",
    "    # Clean nan values\n",
    "    df = ta.utils.dropna(df)\n",
    "    ####################################################################\n",
    "    # 2-Add all ta features filling nans values (from Ta-Lib Except SuperTrend Because not in Ta-Lib)\n",
    "    df = ta.add_all_ta_features(df, \"Open\", \"High\", \"Low\", \"Close\", \"Volume_BTC\", fillna=True)\n",
    "\n",
    "    #####################################################################\n",
    "    # 3- Calculate\n",
    "    df['Signal'] = 0\n",
    "    sell = []\n",
    "    buy = []\n",
    "    date_sell = []\n",
    "    date_buy = []\n",
    "    indicators = ['trend_psar']  # The indicators to be studied\n",
    "    for indicator in indicators:\n",
    "        # 3.1 Determine the Date of  first buy signal and then exit the loop\n",
    "        for y in range(10, len(df.index)):\n",
    "            if df[indicator].iloc[y] <= df['Close'].iloc[y] and (df[indicator].iloc[y - 1] > df['Close'].iloc[y - 1]):\n",
    "                first_buy_signal = y\n",
    "                break\n",
    "        '''\n",
    "        # 3.2 Beginning of the study of buying and selling signals from the day before the date of the first purchase\n",
    "        signal(identified from the previous step) to ensure that the study begins with a buy signal, not selling   '''\n",
    "\n",
    "        for x in range(first_buy_signal - 1, len(df.index)):\n",
    "            if df[indicator].iloc[x] >= df['Close'].iloc[x] and (df[indicator].iloc[x - 1] < df['Close'].iloc[x - 1]):\n",
    "                df['Signal'].iloc[x] = 'Sell'\n",
    "                sell.append(df['Close'].iloc[x])\n",
    "                date_sell.append(df['Date'].iloc[x])\n",
    "            elif df[indicator].iloc[x] <= df['Close'].iloc[x] and (df[indicator].iloc[x - 1] > df['Close'].iloc[x - 1]):\n",
    "                df['Signal'].iloc[x] = 'Buy'\n",
    "                buy.append(df['Close'].iloc[x])\n",
    "                date_buy.append(df['Date'].iloc[x])\n",
    "        print(f'The Number of Buy signals :{len(buy)}')\n",
    "        print(f'The Number of Sell signals:{len(sell)}')\n",
    "        ''' To avoid the presence of a buy signal at the end of operations without the presence of a buy signal, \n",
    "        therefore the two columns do not contain the same number and the accounts are stopped '''\n",
    "        if len(buy) != len(sell):  \n",
    "            del buy[-1]\n",
    "            del date_buy[-1]\n",
    "        profits = pd.DataFrame()\n",
    "        profits['Buy Price'] = buy\n",
    "        profits['Buy Date'] = date_buy\n",
    "        profits['Sell Price'] = sell\n",
    "        profits['Sell Date'] = date_sell\n",
    "        profits['Profits'] = ((profits['Sell Price'] - profits['Buy Price']) / profits['Buy Price']) * 100\n",
    "        # profits.drop(profits.tail(1).index, inplace=True)  # drop last n rows\n",
    "        sum(profits['Profits'])\n",
    "        profits.index +=1\n",
    "        profits.round(2).to_excel(f'{f}.xlsx', sheet_name=\"Efficiency of the indicator\", index=True, index_label=\"No.\")\n",
    "        indicators_value.append(sum(profits['Profits']))\n",
    "        print(f'Ok Profits summary file Export To ({folder_path3})folder' )\n",
    "    #########################################################################\n",
    "    tik = df.iloc[0]['TICKER']\n",
    "    ticker_name.append(tik)\n",
    "dictionary = dict(zip(ticker_name, indicators_value))\n",
    "basic = pd.DataFrame(indicators_value, ticker_name)\n",
    "indicators_na = pd.DataFrame(indicators, index=[0])\n",
    "final_results = pd.concat([indicators_na, basic], axis=0)\n",
    "# final_results.insert(0, 'TICKER', tike)\n",
    "final_results.round(2).to_excel('D:\\Stock Study Excel Files\\Output Excel Files\\Stock USA\\indicators.xlsx',\n",
    "                                sheet_name=\"indicators value\", index=True,index_label=\"Ticker\")\n",
    "print(f'Ok Final Results file Export To ({folder_path3})folder' )"
   ]
  },
  {
   "cell_type": "code",
   "execution_count": null,
   "metadata": {},
   "outputs": [],
   "source": [
    "\n",
    "profits.head(10)"
   ]
  },
  {
   "cell_type": "code",
   "execution_count": null,
   "metadata": {},
   "outputs": [],
   "source": [
    "final_results.round(2)"
   ]
  },
  {
   "cell_type": "code",
   "execution_count": null,
   "metadata": {},
   "outputs": [],
   "source": []
  }
 ],
 "metadata": {
  "kernelspec": {
   "display_name": "Python 3",
   "language": "python",
   "name": "python3"
  },
  "language_info": {
   "codemirror_mode": {
    "name": "ipython",
    "version": 3
   },
   "file_extension": ".py",
   "mimetype": "text/x-python",
   "name": "python",
   "nbconvert_exporter": "python",
   "pygments_lexer": "ipython3",
   "version": "3.8.2"
  },
  "toc": {
   "base_numbering": 1,
   "nav_menu": {},
   "number_sections": true,
   "sideBar": true,
   "skip_h1_title": false,
   "title_cell": "Table of Contents",
   "title_sidebar": "Contents",
   "toc_cell": false,
   "toc_position": {},
   "toc_section_display": true,
   "toc_window_display": false
  },
  "varInspector": {
   "cols": {
    "lenName": 16,
    "lenType": 16,
    "lenVar": 40
   },
   "kernels_config": {
    "python": {
     "delete_cmd_postfix": "",
     "delete_cmd_prefix": "del ",
     "library": "var_list.py",
     "varRefreshCmd": "print(var_dic_list())"
    },
    "r": {
     "delete_cmd_postfix": ") ",
     "delete_cmd_prefix": "rm(",
     "library": "var_list.r",
     "varRefreshCmd": "cat(var_dic_list()) "
    }
   },
   "types_to_exclude": [
    "module",
    "function",
    "builtin_function_or_method",
    "instance",
    "_Feature"
   ],
   "window_display": false
  }
 },
 "nbformat": 4,
 "nbformat_minor": 4
}
