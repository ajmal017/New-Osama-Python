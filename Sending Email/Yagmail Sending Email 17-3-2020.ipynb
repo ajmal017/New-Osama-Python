{
 "cells": [
  {
   "cell_type": "code",
   "execution_count": 25,
   "metadata": {},
   "outputs": [],
   "source": [
    "import  yagmail\n",
    "\n",
    "# connect to smtp server.\n",
    "yag_smtp_connection = yagmail.SMTP(user=\"osamapython@gmail.com\", password=\"Os01265065()\", host='smtp.gmail.com')\n",
    "# email subject\n",
    "subject = 'Hello from osama'\n",
    "# email content with attached file path.\n",
    "contents = ['Hello tom this is richard speaking', 'An image file is attached.', 'D:\\Python\\Project\\OsamaPython\\image.jpg',\n",
    "            'D:\\Python\\Project\\OsamaPython\\message.txt']\n",
    "# send the email\n",
    "for email in emails:\n",
    "    yag_smtp_connection.send(email, subject, contents)\n",
    "#yag_smtp_connection.send('sgrcairo@gmail.com',subject, contents)"
   ]
  },
  {
   "cell_type": "markdown",
   "metadata": {},
   "source": [
    "# 1-Send Multiple Emails (Placed Directly) and Multiple Attachments"
   ]
  },
  {
   "cell_type": "code",
   "execution_count": 7,
   "metadata": {},
   "outputs": [
    {
     "data": {
      "text/plain": [
       "{}"
      ]
     },
     "execution_count": 7,
     "metadata": {},
     "output_type": "execute_result"
    }
   ],
   "source": [
    "import  yagmail\n",
    "\n",
    "yag_smtp_connection = yagmail.SMTP(user=\"osamapython@gmail.com\", password=\"Os01265065()\", host='smtp.gmail.com')\n",
    "subject = 'Hello from osama'\n",
    "contents = ['Hello tom this is richard speaking', 'An image file is attached.', 'D:\\Python\\Project\\OsamaPython\\image.jpg',\n",
    "            'D:\\Python\\Project\\OsamaPython\\message.txt']\n",
    "yag_smtp_connection.send(['sgrcairo@gmail.com','osama33033@yahoo.com','groupohn@gmail.com'], subject, contents)"
   ]
  },
  {
   "cell_type": "markdown",
   "metadata": {},
   "source": [
    "# 2-Send Multiple Emails (Taken from CSV File) and Multiple Attachments"
   ]
  },
  {
   "cell_type": "code",
   "execution_count": 1,
   "metadata": {},
   "outputs": [
    {
     "ename": "ModuleNotFoundError",
     "evalue": "No module named 'yagmail'",
     "output_type": "error",
     "traceback": [
      "\u001b[1;31m---------------------------------------------------------------------------\u001b[0m",
      "\u001b[1;31mModuleNotFoundError\u001b[0m                       Traceback (most recent call last)",
      "\u001b[1;32m<ipython-input-1-7c2a265f097d>\u001b[0m in \u001b[0;36m<module>\u001b[1;34m\u001b[0m\n\u001b[0;32m      1\u001b[0m \u001b[1;32mimport\u001b[0m \u001b[0mcsv\u001b[0m\u001b[1;33m\u001b[0m\u001b[1;33m\u001b[0m\u001b[0m\n\u001b[1;32m----> 2\u001b[1;33m \u001b[1;32mimport\u001b[0m \u001b[0myagmail\u001b[0m\u001b[1;33m\u001b[0m\u001b[1;33m\u001b[0m\u001b[0m\n\u001b[0m\u001b[0;32m      3\u001b[0m \u001b[0memails\u001b[0m\u001b[1;33m=\u001b[0m\u001b[1;33m[\u001b[0m\u001b[1;33m]\u001b[0m\u001b[1;33m\u001b[0m\u001b[1;33m\u001b[0m\u001b[0m\n\u001b[0;32m      4\u001b[0m \u001b[1;32mwith\u001b[0m \u001b[0mopen\u001b[0m\u001b[1;33m(\u001b[0m\u001b[1;34m\"contacts_file.csv\"\u001b[0m\u001b[1;33m)\u001b[0m \u001b[1;32mas\u001b[0m \u001b[0mfile\u001b[0m\u001b[1;33m:\u001b[0m\u001b[1;33m\u001b[0m\u001b[1;33m\u001b[0m\u001b[0m\n\u001b[0;32m      5\u001b[0m     \u001b[0mreader\u001b[0m \u001b[1;33m=\u001b[0m \u001b[0mcsv\u001b[0m\u001b[1;33m.\u001b[0m\u001b[0mreader\u001b[0m\u001b[1;33m(\u001b[0m\u001b[0mfile\u001b[0m\u001b[1;33m)\u001b[0m\u001b[1;33m\u001b[0m\u001b[1;33m\u001b[0m\u001b[0m\n",
      "\u001b[1;31mModuleNotFoundError\u001b[0m: No module named 'yagmail'"
     ]
    }
   ],
   "source": [
    "import csv\n",
    "import yagmail\n",
    "emails=[]\n",
    "with open(\"contacts_file.csv\") as file:\n",
    "    reader = csv.reader(file)\n",
    "    next(reader)  # Skip header row\n",
    "    for name, email, grade in reader:\n",
    "        emails.append(email)        \n",
    "yag_smtp_connection = yagmail.SMTP(user=\"osamapython@gmail.com\", password=\"Os01265065()\", host='smtp.gmail.com')\n",
    "subject = 'Hello from osama'\n",
    "message='Hello tom this is osama speaking'\n",
    "contents = [message,'D:\\Python\\Project\\OsamaPython\\image.jpg','D:\\Python\\Project\\OsamaPython\\message.txt']\n",
    "for email in emails:\n",
    "    yag_smtp_connection.send(email, subject, contents)   "
   ]
  },
  {
   "cell_type": "markdown",
   "metadata": {},
   "source": [
    "# 3-Send Multiple Emails (Taken from CSV File) and Multiple Attachments with change the name to match the owner of the email "
   ]
  },
  {
   "cell_type": "code",
   "execution_count": 2,
   "metadata": {},
   "outputs": [
    {
     "ename": "ModuleNotFoundError",
     "evalue": "No module named 'yagmail'",
     "output_type": "error",
     "traceback": [
      "\u001b[1;31m---------------------------------------------------------------------------\u001b[0m",
      "\u001b[1;31mModuleNotFoundError\u001b[0m                       Traceback (most recent call last)",
      "\u001b[1;32m<ipython-input-2-a405dfab7543>\u001b[0m in \u001b[0;36m<module>\u001b[1;34m\u001b[0m\n\u001b[0;32m      1\u001b[0m \u001b[1;32mimport\u001b[0m \u001b[0mcsv\u001b[0m\u001b[1;33m\u001b[0m\u001b[1;33m\u001b[0m\u001b[0m\n\u001b[1;32m----> 2\u001b[1;33m \u001b[1;32mimport\u001b[0m \u001b[0myagmail\u001b[0m\u001b[1;33m\u001b[0m\u001b[1;33m\u001b[0m\u001b[0m\n\u001b[0m\u001b[0;32m      3\u001b[0m \u001b[1;33m\u001b[0m\u001b[0m\n\u001b[0;32m      4\u001b[0m \u001b[0memails\u001b[0m \u001b[1;33m=\u001b[0m \u001b[1;33m[\u001b[0m\u001b[1;33m]\u001b[0m\u001b[1;33m\u001b[0m\u001b[1;33m\u001b[0m\u001b[0m\n\u001b[0;32m      5\u001b[0m \u001b[0mnames\u001b[0m \u001b[1;33m=\u001b[0m \u001b[1;33m[\u001b[0m\u001b[1;33m]\u001b[0m\u001b[1;33m\u001b[0m\u001b[1;33m\u001b[0m\u001b[0m\n",
      "\u001b[1;31mModuleNotFoundError\u001b[0m: No module named 'yagmail'"
     ]
    }
   ],
   "source": [
    "import csv\n",
    "import yagmail\n",
    "\n",
    "emails = []\n",
    "names = []\n",
    "with open(\"contacts_file.csv\") as file:\n",
    "    reader = csv.reader(file)\n",
    "    next(reader)  # Skip header row\n",
    "    for name, email, grade in reader:\n",
    "        emails.append(email)\n",
    "        names.append(name)\n",
    "yag_smtp_connection = yagmail.SMTP(user=\"osamapython@gmail.com\", password=\"Os01265065()\", host='smtp.gmail.com')\n",
    "subject = 'Hello from Osama'#Type your subject here\n",
    "for x in range(len(names)): #Loop to change the name to match the owner of the email\n",
    "    message = f\"Hi Mr. {names[x].capitalize()}, it's just a test Message.\" #Type your message here\n",
    "    contents = [message, 'D:\\Python\\Project\\OsamaPython\\image.jpg', 'D:\\Python\\Project\\OsamaPython\\message.txt'] #Put the attached files here\n",
    "    yag_smtp_connection.send(emails[x], subject, contents)\n",
    "print('Sent ........')"
   ]
  },
  {
   "cell_type": "markdown",
   "metadata": {},
   "source": [
    "# 4-Make it as app"
   ]
  },
  {
   "cell_type": "code",
   "execution_count": null,
   "metadata": {},
   "outputs": [],
   "source": [
    "import yagmail\n",
    "import csv\n",
    "\n",
    "attachments = []\n",
    "emails = []\n",
    "names = []\n",
    "# receiver_file = input(\"Please enter a Path of  file containing the e-mails to be sent like this 'D:\\document\\mycontact.cvs ' :\")\n",
    "receiver_file = input(\"Please enter a Path of  file containing the e-mails to be sent like this 'D:\\document\\mycontact.cvs ' :\")\n",
    "with open(receiver_file) as file:\n",
    "    reader = csv.reader(file)\n",
    "    next(reader)  # Skip header row\n",
    "    for name, email, grade in reader:\n",
    "        emails.append(email)\n",
    "        names.append(name)\n",
    "your_email = input('Please Enter Your Email:')\n",
    "your_password = input('Please Enter Your Password:')\n",
    "yag_smtp_connection = yagmail.SMTP(user=your_email, password=your_password, host='smtp.gmail.com')\n",
    "subject = input(\"Please Enter Subject Here:\")\n",
    "no_of_attachments = int(input(\"Please Enter No.of Attachments\"))\n",
    "for x in range(no_of_attachments):\n",
    "    attached = input(f'Please Enter path for  attached No.{x + 1}:')\n",
    "    attachments.append(attached)\n",
    "message = input(\"Enter Your message Here:\")\n",
    "for x in range(0, len(names)):  # Loop to change the name to match the owner of the email\n",
    "    attachments.insert(0, f'Hi {names[x].capitalize()} {message.capitalize()}')\n",
    "    contents = attachments.copy()\n",
    "    attachments.pop(0)\n",
    "    yag_smtp_connection.send(emails[x], subject, contents)\n",
    "print('Sent ........')"
   ]
  }
 ],
 "metadata": {
  "kernelspec": {
   "display_name": "Python 3",
   "language": "python",
   "name": "python3"
  },
  "language_info": {
   "codemirror_mode": {
    "name": "ipython",
    "version": 3
   },
   "file_extension": ".py",
   "mimetype": "text/x-python",
   "name": "python",
   "nbconvert_exporter": "python",
   "pygments_lexer": "ipython3",
   "version": "3.7.6"
  }
 },
 "nbformat": 4,
 "nbformat_minor": 4
}
