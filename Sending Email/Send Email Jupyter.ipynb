{
 "cells": [
  {
   "cell_type": "code",
   "execution_count": null,
   "metadata": {},
   "outputs": [],
   "source": []
  },
  {
   "cell_type": "code",
   "execution_count": 11,
   "metadata": {},
   "outputs": [
    {
     "name": "stdout",
     "output_type": "stream",
     "text": [
      "Sending the email...\n",
      "Email sent!\n",
      "Closing the server...\n",
      "Sending the email...\n",
      "Email sent!\n",
      "Closing the server...\n"
     ]
    }
   ],
   "source": [
    "import smtplib\n",
    "import ssl\n",
    "from email.mime.text import MIMEText  # New line\n",
    "from email.utils import formataddr  # New line\n",
    "\n",
    "# User configuration\n",
    "sender_email ='osamapython@gmail.com' \n",
    "sender_name = 'osama'\n",
    "password = 'Os01265065()'\n",
    "\n",
    "receiver_emails = ['sgrcairo@gmail.com', 'groupohn@gmail.com']\n",
    "receiver_names = ['RECEIVER_NAME_1', 'RECEIVER_NAME_2']\n",
    "\n",
    "# Email text\n",
    "email_body = '''\n",
    "    This is a test email sent by Python. Isn't that cool?\n",
    "'''\n",
    "\n",
    "for receiver_email, receiver_name in zip(receiver_emails, receiver_names):\n",
    "    print(\"Sending the email...\")\n",
    "    # Configurating user's info\n",
    "    msg = MIMEText(email_body, 'plain')\n",
    "    msg['To'] = formataddr((receiver_name, receiver_email))\n",
    "    msg['From'] = formataddr((sender_name, sender_email))\n",
    "    msg['Subject'] = 'Hello, my friend ' + receiver_name\n",
    "    try:\n",
    "        # Creating a SMTP session | use 587 with TLS, 465 SSL and 25\n",
    "        server = smtplib.SMTP('smtp.gmail.com', 587)\n",
    "        # Encrypts the email\n",
    "        context = ssl.create_default_context()\n",
    "        server.starttls(context=context)\n",
    "        # We log in into our Google account\n",
    "        server.login(sender_email, password)\n",
    "        # Sending email from sender, to receiver with the email body\n",
    "        server.sendmail(sender_email, receiver_email, msg.as_string())\n",
    "        print('Email sent!')\n",
    "    except Exception as e:\n",
    "        print(f'Oh no! Something bad happened!n {e}')\n",
    "    finally:\n",
    "        print('Closing the server...')\n",
    "        server.quit()"
   ]
  },
  {
   "cell_type": "code",
   "execution_count": 14,
   "metadata": {},
   "outputs": [
    {
     "ename": "FileNotFoundError",
     "evalue": "[Errno 2] No such file or directory: 'email.html'",
     "output_type": "error",
     "traceback": [
      "\u001b[1;31m---------------------------------------------------------------------------\u001b[0m",
      "\u001b[1;31mFileNotFoundError\u001b[0m                         Traceback (most recent call last)",
      "\u001b[1;32m<ipython-input-14-77b37151fd74>\u001b[0m in \u001b[0;36m<module>\u001b[1;34m\u001b[0m\n\u001b[0;32m     16\u001b[0m \u001b[1;33m\u001b[0m\u001b[0m\n\u001b[0;32m     17\u001b[0m \u001b[1;31m# Email body\u001b[0m\u001b[1;33m\u001b[0m\u001b[1;33m\u001b[0m\u001b[1;33m\u001b[0m\u001b[0m\n\u001b[1;32m---> 18\u001b[1;33m \u001b[0memail_html\u001b[0m \u001b[1;33m=\u001b[0m \u001b[0mopen\u001b[0m\u001b[1;33m(\u001b[0m\u001b[1;34m'email.html'\u001b[0m\u001b[1;33m)\u001b[0m\u001b[1;33m\u001b[0m\u001b[1;33m\u001b[0m\u001b[0m\n\u001b[0m\u001b[0;32m     19\u001b[0m \u001b[0memail_body\u001b[0m \u001b[1;33m=\u001b[0m \u001b[0memail_html\u001b[0m\u001b[1;33m.\u001b[0m\u001b[0mread\u001b[0m\u001b[1;33m(\u001b[0m\u001b[1;33m)\u001b[0m\u001b[1;33m\u001b[0m\u001b[1;33m\u001b[0m\u001b[0m\n\u001b[0;32m     20\u001b[0m \u001b[1;33m\u001b[0m\u001b[0m\n",
      "\u001b[1;31mFileNotFoundError\u001b[0m: [Errno 2] No such file or directory: 'email.html'"
     ]
    }
   ],
   "source": [
    "import smtplib\n",
    "import ssl\n",
    "from email.mime.text import MIMEText\n",
    "from email.utils import formataddr\n",
    "from email.mime.multipart import MIMEMultipart  # New line\n",
    "from email.mime.base import MIMEBase  # New line\n",
    "from email import encoders  # New line\n",
    "\n",
    "# User configuration\n",
    "sender_email = 'osamapython@gmail.com' \n",
    "sender_name = 'osama'\n",
    "password = 'Os01265065()'\n",
    "\n",
    "receiver_emails = ['sgrcairo@gmail.com', 'groupohn@gmail.com']\n",
    "receiver_names = ['RECEIVER_NAME_1', 'RECEIVER_NAME_2']\n",
    "\n",
    "# Email body\n",
    "email_html = open('email.html')\n",
    "email_body = email_html.read()\n",
    "\n",
    "filename = 'cat.gif'\n",
    "\n",
    "for receiver_email, receiver_name in zip(receiver_emails, receiver_names):\n",
    "        print(\"Sending the email...\")\n",
    "        # Configurating user's info\n",
    "        msg = MIMEMultipart()\n",
    "        msg['To'] = formataddr((receiver_name, receiver_email))\n",
    "        msg['From'] = formataddr((sender_name, sender_email))\n",
    "        msg['Subject'] = 'Hello, my friend ' + receiver_name\n",
    "\n",
    "        msg.attach(MIMEText(email_body, 'html'))\n",
    "\n",
    "        try:\n",
    "            # Open PDF file in binary mode\n",
    "            with open(filename, \"rb\") as attachment:\n",
    "                            part = MIMEBase(\"application\", \"octet-stream\")\n",
    "                            part.set_payload(attachment.read())\n",
    "\n",
    "            # Encode file in ASCII characters to send by email\n",
    "            encoders.encode_base64(part)\n",
    "\n",
    "            # Add header as key/value pair to attachment part\n",
    "            part.add_header(\n",
    "                    \"Content-Disposition\",\n",
    "                    f\"attachment; filename= {filename}\",\n",
    "            )\n",
    "\n",
    "            msg.attach(part)\n",
    "        except Exception as e:\n",
    "                print(f\"Oh no! We didn't found the attachment!n{e}\")\n",
    "                break\n",
    "\n",
    "        try:\n",
    "                # Creating a SMTP session | use 587 with TLS, 465 SSL and 25\n",
    "                server = smtplib.SMTP('smtp.gmail.com', 587)\n",
    "                # Encrypts the email\n",
    "                context = ssl.create_default_context()\n",
    "                server.starttls(context=context)\n",
    "                # We log in into our Google account\n",
    "                server.login(sender_email, password)\n",
    "                # Sending email from sender, to receiver with the email body\n",
    "                server.sendmail(sender_email, receiver_email, msg.as_string())\n",
    "                print('Email sent!')\n",
    "        except Exception as e:\n",
    "                print(f'Oh no! Something bad happened!n{e}')\n",
    "                break\n",
    "        finally:\n",
    "                print('Closing the server...')\n",
    "                server.quit()"
   ]
  },
  {
   "cell_type": "code",
   "execution_count": 15,
   "metadata": {},
   "outputs": [
    {
     "ename": "ModuleNotFoundError",
     "evalue": "No module named 'twilio'",
     "output_type": "error",
     "traceback": [
      "\u001b[1;31m---------------------------------------------------------------------------\u001b[0m",
      "\u001b[1;31mModuleNotFoundError\u001b[0m                       Traceback (most recent call last)",
      "\u001b[1;32m<ipython-input-15-0e4323d5f04a>\u001b[0m in \u001b[0;36m<module>\u001b[1;34m\u001b[0m\n\u001b[0;32m      1\u001b[0m \u001b[1;31m# importing twilio\u001b[0m\u001b[1;33m\u001b[0m\u001b[1;33m\u001b[0m\u001b[1;33m\u001b[0m\u001b[0m\n\u001b[1;32m----> 2\u001b[1;33m \u001b[1;32mfrom\u001b[0m \u001b[0mtwilio\u001b[0m\u001b[1;33m.\u001b[0m\u001b[0mrest\u001b[0m \u001b[1;32mimport\u001b[0m \u001b[0mClient\u001b[0m\u001b[1;33m\u001b[0m\u001b[1;33m\u001b[0m\u001b[0m\n\u001b[0m\u001b[0;32m      3\u001b[0m \u001b[1;33m\u001b[0m\u001b[0m\n\u001b[0;32m      4\u001b[0m \u001b[1;31m# Your Account Sid and Auth Token from twilio.com / console\u001b[0m\u001b[1;33m\u001b[0m\u001b[1;33m\u001b[0m\u001b[1;33m\u001b[0m\u001b[0m\n\u001b[0;32m      5\u001b[0m \u001b[0maccount_sid\u001b[0m \u001b[1;33m=\u001b[0m \u001b[1;34m'AC22183f99c22b4f89ec22f54e6834a15d'\u001b[0m\u001b[1;33m\u001b[0m\u001b[1;33m\u001b[0m\u001b[0m\n",
      "\u001b[1;31mModuleNotFoundError\u001b[0m: No module named 'twilio'"
     ]
    }
   ],
   "source": [
    "# importing twilio \n",
    "from twilio.rest import Client \n",
    "\n",
    "# Your Account Sid and Auth Token from twilio.com / console \n",
    "account_sid = 'AC22183f99c22b4f89ec22f54e6834a15d'\n",
    "auth_token = '4dec5864320b03e0880eb3af689e18ae'\n",
    "\n",
    "client = Client(account_sid, auth_token) \n",
    "\n",
    "''' Change the value of 'from' with the number \n",
    "received from Twilio and the value of 'to' \n",
    "with the number in which you want to send message.'''\n",
    "message = client.messages.create( \n",
    "\t\t\t\t\t\t\tfrom_='+(202) 930-9408', \n",
    "\t\t\t\t\t\t\tbody ='body', \n",
    "\t\t\t\t\t\t\tto ='+201152882092'\n",
    "\t\t\t\t\t\t) \n",
    "\n",
    "print(message.sid) \n"
   ]
  },
  {
   "cell_type": "code",
   "execution_count": null,
   "metadata": {},
   "outputs": [],
   "source": []
  }
 ],
 "metadata": {
  "kernelspec": {
   "display_name": "Python 3",
   "language": "python",
   "name": "python3"
  },
  "language_info": {
   "codemirror_mode": {
    "name": "ipython",
    "version": 3
   },
   "file_extension": ".py",
   "mimetype": "text/x-python",
   "name": "python",
   "nbconvert_exporter": "python",
   "pygments_lexer": "ipython3",
   "version": "3.8.2"
  }
 },
 "nbformat": 4,
 "nbformat_minor": 4
}
