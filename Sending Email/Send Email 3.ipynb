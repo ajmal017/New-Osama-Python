{
 "cells": [
  {
   "cell_type": "code",
   "execution_count": 280,
   "metadata": {},
   "outputs": [
    {
     "name": "stdout",
     "output_type": "stream",
     "text": [
      "The names is :['groupohn', 'osama33033']\n",
      "The Emails is:['groupohn@gmail.com', 'osama33033@yahoo.com']\n"
     ]
    }
   ],
   "source": [
    "def get_contacts(filename):\n",
    "    emails = []\n",
    "    names = []\n",
    "\n",
    "    with open(filename) as contacts_file:\n",
    "        for a_contact in contacts_file.readlines():\n",
    "            txt = a_contact.strip().split(',')\n",
    "            emails.append(txt[0])\n",
    "            name = txt[0].split('@')[0]\n",
    "            names.append(name)\n",
    "            \n",
    "\n",
    "\n",
    "\n",
    "    return names,emails\n",
    "\n",
    "\n",
    "# When you call the function, pass the file path as an argument\n",
    "print(f\"The names is :{get_contacts('mycontacts.txt')[0]}\\nThe Emails is:{get_contacts('mycontacts.txt')[1]}\") "
   ]
  },
  {
   "cell_type": "code",
   "execution_count": 237,
   "metadata": {},
   "outputs": [
    {
     "name": "stdout",
     "output_type": "stream",
     "text": [
      "<string.Template object at 0x000001C17A07D220>\n"
     ]
    }
   ],
   "source": [
    "from string import Template\n",
    "\n",
    "def read_template(filename):\n",
    "    with open(filename, 'r', encoding='utf-8') as template_file:\n",
    "        template_file_content = template_file.read()\n",
    "    return Template(template_file_content)\n",
    "\n",
    "\n",
    "print(read_template('message.txt'))"
   ]
  },
  {
   "cell_type": "code",
   "execution_count": 282,
   "metadata": {},
   "outputs": [
    {
     "ename": "NameError",
     "evalue": "name 'osamapython' is not defined",
     "output_type": "error",
     "traceback": [
      "\u001b[1;31m---------------------------------------------------------------------------\u001b[0m",
      "\u001b[1;31mNameError\u001b[0m                                 Traceback (most recent call last)",
      "\u001b[1;32m<ipython-input-282-39734a38e31e>\u001b[0m in \u001b[0;36m<module>\u001b[1;34m\u001b[0m\n\u001b[0;32m     73\u001b[0m \u001b[1;33m\u001b[0m\u001b[0m\n\u001b[0;32m     74\u001b[0m \u001b[1;32mif\u001b[0m \u001b[0m__name__\u001b[0m \u001b[1;33m==\u001b[0m \u001b[1;34m'__main__'\u001b[0m\u001b[1;33m:\u001b[0m\u001b[1;33m\u001b[0m\u001b[1;33m\u001b[0m\u001b[0m\n\u001b[1;32m---> 75\u001b[1;33m     \u001b[0mmain\u001b[0m\u001b[1;33m(\u001b[0m\u001b[1;33m)\u001b[0m\u001b[1;33m\u001b[0m\u001b[1;33m\u001b[0m\u001b[0m\n\u001b[0m",
      "\u001b[1;32m<ipython-input-282-39734a38e31e>\u001b[0m in \u001b[0;36mmain\u001b[1;34m()\u001b[0m\n\u001b[0;32m     45\u001b[0m     \u001b[0ms\u001b[0m \u001b[1;33m=\u001b[0m \u001b[0msmtplib\u001b[0m\u001b[1;33m.\u001b[0m\u001b[0mSMTP\u001b[0m\u001b[1;33m(\u001b[0m\u001b[0mhost\u001b[0m\u001b[1;33m=\u001b[0m\u001b[1;34m'smtp.gmail.com'\u001b[0m\u001b[1;33m,\u001b[0m \u001b[0mport\u001b[0m\u001b[1;33m=\u001b[0m\u001b[1;36m587\u001b[0m\u001b[1;33m)\u001b[0m\u001b[1;33m\u001b[0m\u001b[1;33m\u001b[0m\u001b[0m\n\u001b[0;32m     46\u001b[0m     \u001b[0ms\u001b[0m\u001b[1;33m.\u001b[0m\u001b[0mstarttls\u001b[0m\u001b[1;33m(\u001b[0m\u001b[1;33m)\u001b[0m\u001b[1;33m\u001b[0m\u001b[1;33m\u001b[0m\u001b[0m\n\u001b[1;32m---> 47\u001b[1;33m     \u001b[0ms\u001b[0m\u001b[1;33m.\u001b[0m\u001b[0mlogin\u001b[0m\u001b[1;33m(\u001b[0m\u001b[0mosamapython\u001b[0m\u001b[1;33m@\u001b[0m\u001b[0mgmail\u001b[0m\u001b[1;33m.\u001b[0m\u001b[0mcom\u001b[0m \u001b[1;33m,\u001b[0m \u001b[0mOs01265065\u001b[0m\u001b[1;33m(\u001b[0m\u001b[1;33m)\u001b[0m\u001b[1;33m)\u001b[0m\u001b[1;33m\u001b[0m\u001b[1;33m\u001b[0m\u001b[0m\n\u001b[0m\u001b[0;32m     48\u001b[0m \u001b[1;33m\u001b[0m\u001b[0m\n\u001b[0;32m     49\u001b[0m     \u001b[1;31m# For each contact, send the email:\u001b[0m\u001b[1;33m\u001b[0m\u001b[1;33m\u001b[0m\u001b[1;33m\u001b[0m\u001b[0m\n",
      "\u001b[1;31mNameError\u001b[0m: name 'osamapython' is not defined"
     ]
    }
   ],
   "source": [
    "import smtplib\n",
    "\n",
    "from string import Template\n",
    "\n",
    "from email.mime.multipart import MIMEMultipart\n",
    "from email.mime.text import MIMEText\n",
    "\n",
    "MY_ADDRESS = 'osamapython@gmail.com'\n",
    "PASSWORD = 'Os01265065()'\n",
    "\n",
    "def get_contacts(filename):\n",
    "    \"\"\"\n",
    "    Return two lists names, emails containing names and email addresses\n",
    "    read from a file specified by filename.\n",
    "    \"\"\"\n",
    "    emails = []\n",
    "    names = []\n",
    "\n",
    "    with open(filename) as contacts_file:\n",
    "        for a_contact in contacts_file.readlines():\n",
    "            txt = a_contact.strip().split(',')\n",
    "            emails.append(txt[0])\n",
    "            name = txt[0].split('@')[0]\n",
    "            names.append(name)\n",
    "\n",
    "\n",
    "    return names,emails\n",
    "\n",
    "\n",
    "def read_template(filename):\n",
    "    \"\"\"\n",
    "    Returns a Template object comprising the contents of the \n",
    "    file specified by filename.\n",
    "    \"\"\"\n",
    "    \n",
    "    with open(filename, 'r', encoding='utf-8') as template_file:\n",
    "        template_file_content = template_file.read()\n",
    "    return Template(template_file_content)\n",
    "\n",
    "def main():\n",
    "    names, emails = get_contacts('mycontacts.txt') # read contacts\n",
    "    message_template = read_template('message.txt')\n",
    "\n",
    "    # set up the SMTP server\n",
    "    s = smtplib.SMTP(host='smtp.gmail.com', port=587)\n",
    "    s.starttls()\n",
    "    s.login(osamapython@gmail.com , Os01265065())\n",
    "\n",
    "    # For each contact, send the email:\n",
    "    for name, email in zip(names, emails):\n",
    "        msg = MIMEMultipart()       # create a message\n",
    "\n",
    "        # add in the actual person name to the message template\n",
    "        message = message_template.substitute(PERSON_NAME=name.title())\n",
    "\n",
    "        # Prints out the message body for our sake\n",
    "        print(message)\n",
    "\n",
    "        # setup the parameters of the message\n",
    "        msg['From']=osamapython@gmail.com\n",
    "        msg['To']=get_contacts('mycontacts.txt')[0]\n",
    "        msg['Subject']=\"This is TEST\"\n",
    "        \n",
    "        # add in the message body\n",
    "        msg.attach(MIMEText(message, 'plain'))\n",
    "        \n",
    "        # send the message via the server set up earlier.\n",
    "        s.send_message(msg)\n",
    "        del msg\n",
    "        \n",
    "    # Terminate the SMTP session and close the connection\n",
    "    s.quit()\n",
    "    \n",
    "if __name__ == '__main__':\n",
    "    main()"
   ]
  },
  {
   "cell_type": "code",
   "execution_count": null,
   "metadata": {},
   "outputs": [],
   "source": []
  }
 ],
 "metadata": {
  "kernelspec": {
   "display_name": "Python 3",
   "language": "python",
   "name": "python3"
  },
  "language_info": {
   "codemirror_mode": {
    "name": "ipython",
    "version": 3
   },
   "file_extension": ".py",
   "mimetype": "text/x-python",
   "name": "python",
   "nbconvert_exporter": "python",
   "pygments_lexer": "ipython3",
   "version": "3.8.2"
  }
 },
 "nbformat": 4,
 "nbformat_minor": 4
}
