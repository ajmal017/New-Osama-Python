{
 "cells": [
  {
   "cell_type": "code",
   "execution_count": null,
   "metadata": {},
   "outputs": [],
   "source": [
    "# Sending email with Multi files as attached from gmail.\n",
    "import smtplib\n",
    "from email.mime.text import MIMEText\n",
    "from email.MIMEMultipart import MIMEMultipart\n",
    "from email.MIMEBase import MIMEBase\n",
    "from email import Encoders\n",
    "# Create the attachment file (only do it once)\n",
    "filename = os.path.basename(file_location)\n",
    "attachment = open(file_location, \"rb\")\n",
    "part = MIMEBase('application', 'octet-stream')\n",
    "part.set_payload(attachment.read())\n",
    "encoders.encode_base64(part)\n",
    "part.add_header('Content-Disposition', \"attachment; filename= %s\" % filename)\n",
    "\n",
    "def send_mail_gmail(username,password,toaddrs_list,msg_text,fromaddr=None,subject=\"Test mail\",attachment_path_list=None):\n",
    "\n",
    "    s = smtplib.SMTP('smtp.gmail.com:587')\n",
    "    s.starttls()\n",
    "    s.login(username, password)\n",
    "    #s.set_debuglevel(1)\n",
    "    msg = MIMEMultipart()\n",
    "    sender = fromaddr\n",
    "    recipients = toaddrs_list\n",
    "    msg['Subject'] = subject\n",
    "    if fromaddr is not None:\n",
    "        msg['From'] = sender\n",
    "    msg['To'] = \", \".join(recipients)\n",
    "    if attachment_path_list is not None:\n",
    "        for each_file_path in attachment_path_list:\n",
    "            try:\n",
    "                file_name=each_file_path.split(\"/\")[-1]\n",
    "                part = MIMEBase('application', \"octet-stream\")\n",
    "                part.set_payload(open(each_file_path, \"rb\").read())\n",
    "\n",
    "                Encoders.encode_base64(part)\n",
    "                part.add_header('Content-Disposition', 'attachment' ,filename=file_name)\n",
    "                msg.attach(part)\n",
    "            except:\n",
    "                print \"could not attache file\"\n",
    "    msg.attach(MIMEText(msg_text,'html'))\n",
    "    s.sendmail(sender, recipients, msg.as_string())\n",
    "    "
   ]
  },
  {
   "cell_type": "code",
   "execution_count": 14,
   "metadata": {},
   "outputs": [
    {
     "name": "stdout",
     "output_type": "stream",
     "text": [
      "Sending email to OSAMA YOUSSEF\n",
      "Sending email to Killer Rabbit of CaerbannogA\n",
      "Sending email to Brian Cohen\n"
     ]
    }
   ],
   "source": [
    "#import emails and names from csv\n",
    "import csv\n",
    "\n",
    "with open(\"contacts_file.csv\") as file:\n",
    "    reader = csv.reader(file)\n",
    "    next(reader)  # Skip header row\n",
    "    for name, email, grade in reader:\n",
    "        print(f\"Sending email to {name}\")\n",
    "        # Send email here"
   ]
  },
  {
   "cell_type": "code",
   "execution_count": null,
   "metadata": {},
   "outputs": [],
   "source": []
  }
 ],
 "metadata": {
  "kernelspec": {
   "display_name": "Python 3",
   "language": "python",
   "name": "python3"
  },
  "language_info": {
   "codemirror_mode": {
    "name": "ipython",
    "version": 3
   },
   "file_extension": ".py",
   "mimetype": "text/x-python",
   "name": "python",
   "nbconvert_exporter": "python",
   "pygments_lexer": "ipython3",
   "version": "3.7.6"
  }
 },
 "nbformat": 4,
 "nbformat_minor": 4
}
