{
 "cells": [
  {
   "cell_type": "markdown",
   "metadata": {},
   "source": [
    "#### Importing necessary libraries"
   ]
  },
  {
   "cell_type": "code",
   "execution_count": 1,
   "metadata": {
    "collapsed": true
   },
   "outputs": [],
   "source": [
    "import pandas as pd\n",
    "pd.options.mode.chained_assignment = None # This avoids SettingWithCopyWarnings\n",
    "import numpy as np"
   ]
  },
  {
   "cell_type": "code",
   "execution_count": 3,
   "metadata": {
    "scrolled": true
   },
   "outputs": [],
   "source": [
    "from pandas_datareader import data as pdr\n",
    "import fix_yahoo_finance as yf\n",
    "yf.pdr_override()"
   ]
  },
  {
   "cell_type": "markdown",
   "metadata": {},
   "source": [
    "#### Initializing Variables\n"
   ]
  },
  {
   "cell_type": "code",
   "execution_count": 4,
   "metadata": {
    "collapsed": true
   },
   "outputs": [],
   "source": [
    "data={} # Dictionary to contain pandas dataframe for all the stocks. This is to avoid creating variable for each stock \n",
    "        # to store data\n",
    "f=3 # f indicates factor/ multiplier\n",
    "n=7 # Period for ATR"
   ]
  },
  {
   "cell_type": "markdown",
   "metadata": {},
   "source": [
    "### Average True Range"
   ]
  },
  {
   "cell_type": "code",
   "execution_count": 5,
   "metadata": {
    "collapsed": true
   },
   "outputs": [],
   "source": [
    "def ATR(df,n): #df is the DataFrame, n is the period 7,14 ,etc\n",
    "    df['H-L']=abs(df['High']-df['Low'])\n",
    "    df['H-PC']=abs(df['High']-df['Close'].shift(1))\n",
    "    df['L-PC']=abs(df['Low']-df['Close'].shift(1))\n",
    "    df['TR']=df[['H-L','H-PC','L-PC']].max(axis=1)\n",
    "    df['ATR']=np.nan\n",
    "    df.ix[n-1,'ATR']=df['TR'][:n-1].mean() #.ix is deprecated from pandas version- 0.19\n",
    "    for i in range(n,len(df)):\n",
    "        df['ATR'][i]=(df['ATR'][i-1]*(n-1)+ df['TR'][i])/n\n",
    "    return"
   ]
  },
  {
   "cell_type": "markdown",
   "metadata": {},
   "source": [
    "### Supertrend is a trend-following indicator and it is plotted on prices and their placement indicates the current trend. "
   ]
  },
  {
   "cell_type": "code",
   "execution_count": 6,
   "metadata": {
    "collapsed": true
   },
   "outputs": [],
   "source": [
    "def ST(df,f,n): #df is the dataframe, n is the period, f is the factor; f=3, n=7 are commonly used.\n",
    "    #Calculation of SuperTrend\n",
    "    df['Upper Basic']=(df['High']+df['Low'])/2+(f*df['ATR'])\n",
    "    df['Lower Basic']=(df['High']+df['Low'])/2-(f*df['ATR'])\n",
    "    df['Upper Band']=df['Upper Basic']\n",
    "    df['Lower Band']=df['Lower Basic']\n",
    "    for i in range(n,len(df)):\n",
    "        if df['Close'][i-1]<=df['Upper Band'][i-1]:\n",
    "            df['Upper Band'][i]=min(df['Upper Basic'][i],df['Upper Band'][i-1])\n",
    "        else:\n",
    "            df['Upper Band'][i]=df['Upper Basic'][i]    \n",
    "    for i in range(n,len(df)):\n",
    "        if df['Close'][i-1]>=df['Lower Band'][i-1]:\n",
    "            df['Lower Band'][i]=max(df['Lower Basic'][i],df['Lower Band'][i-1])\n",
    "        else:\n",
    "            df['Lower Band'][i]=df['Lower Basic'][i]   \n",
    "    df['SuperTrend']=np.nan\n",
    "    for i in df['SuperTrend']:\n",
    "        if df['Close'][n-1]<=df['Upper Band'][n-1]:\n",
    "            df['SuperTrend'][n-1]=df['Upper Band'][n-1]\n",
    "        elif df['Close'][n-1]>df['Upper Band'][i]:\n",
    "            df['SuperTrend'][n-1]=df['Lower Band'][n-1]\n",
    "    for i in range(n,len(df)):\n",
    "        if df['SuperTrend'][i-1]==df['Upper Band'][i-1] and df['Close'][i]<=df['Upper Band'][i]:\n",
    "            df['SuperTrend'][i]=df['Upper Band'][i]\n",
    "        elif  df['SuperTrend'][i-1]==df['Upper Band'][i-1] and df['Close'][i]>=df['Upper Band'][i]:\n",
    "            df['SuperTrend'][i]=df['Lower Band'][i]\n",
    "        elif df['SuperTrend'][i-1]==df['Lower Band'][i-1] and df['Close'][i]>=df['Lower Band'][i]:\n",
    "            df['SuperTrend'][i]=df['Lower Band'][i]\n",
    "        elif df['SuperTrend'][i-1]==df['Lower Band'][i-1] and df['Close'][i]<=df['Lower Band'][i]:\n",
    "            df['SuperTrend'][i]=df['Upper Band'][i]\n",
    "    return\n"
   ]
  },
  {
   "cell_type": "markdown",
   "metadata": {},
   "source": [
    "### Set of Stocks"
   ]
  },
  {
   "cell_type": "code",
   "execution_count": 7,
   "metadata": {
    "collapsed": true
   },
   "outputs": [],
   "source": [
    "StockList=['INFY', 'ICICIBANK'] "
   ]
  },
  {
   "cell_type": "markdown",
   "metadata": {},
   "source": [
    "### Fetching data using Yahoo API,  Setting up Pandas Dataframe in the dictionary 'data' with key as Stock name and Value as DataFrame\n"
   ]
  },
  {
   "cell_type": "code",
   "execution_count": 8,
   "metadata": {},
   "outputs": [
    {
     "name": "stdout",
     "output_type": "stream",
     "text": [
      "[*********************100%***********************]  1 of 1 downloaded"
     ]
    }
   ],
   "source": [
    "start='2016-1-1'\n",
    "for stock in StockList:\n",
    "    data[stock]=pdr.get_data_yahoo(stock+'.NS', start)"
   ]
  },
  {
   "cell_type": "markdown",
   "metadata": {},
   "source": [
    "#### Sometimes due to rate limiting factor, Yahoo api when called yeilds no data. Below cell helps us out in figuring whether we need to ping the api again. "
   ]
  },
  {
   "cell_type": "code",
   "execution_count": 9,
   "metadata": {
    "collapsed": true
   },
   "outputs": [],
   "source": [
    "for stock in data:\n",
    "    if data[stock].empty:\n",
    "        print stock"
   ]
  },
  {
   "cell_type": "code",
   "execution_count": 10,
   "metadata": {
    "scrolled": true
   },
   "outputs": [
    {
     "name": "stdout",
     "output_type": "stream",
     "text": [
      "ICICIBANK                   Open        High         Low       Close   Adj Close  \\\n",
      "Date                                                                     \n",
      "2016-01-01  237.544998  239.636002  234.544998  239.091003  229.999863   \n",
      "2016-01-04  237.272995  237.591003  231.500000  232.317993  223.484390   \n",
      "2016-01-05  232.955002  234.091003  228.817993  233.363998  224.490616   \n",
      "2016-01-06  232.182007  233.408997  226.544998  227.363998  218.718781   \n",
      "2016-01-07  224.000000  225.182007  221.000000  224.317993  215.788589   \n",
      "\n",
      "              Volume  \n",
      "Date                  \n",
      "2016-01-01   5998097  \n",
      "2016-01-04   9435792  \n",
      "2016-01-05   8966978  \n",
      "2016-01-06  17416181  \n",
      "2016-01-07  18240713  \n",
      "INFY                    Open         High          Low        Close    Adj Close  \\\n",
      "Date                                                                          \n",
      "2016-01-01  1100.000000  1108.949951  1093.199951  1105.250000  1049.958252   \n",
      "2016-01-04  1099.949951  1102.449951  1076.050049  1078.900024  1024.926392   \n",
      "2016-01-05  1085.500000  1085.500000  1062.250000  1074.050049  1020.319031   \n",
      "2016-01-06  1074.650024  1074.650024  1058.900024  1069.349976  1015.854126   \n",
      "2016-01-07  1060.050049  1067.900024  1047.900024  1050.800049   998.232239   \n",
      "\n",
      "             Volume  \n",
      "Date                 \n",
      "2016-01-01   903275  \n",
      "2016-01-04  1987681  \n",
      "2016-01-05  2474893  \n",
      "2016-01-06  2794164  \n",
      "2016-01-07  2647044  \n"
     ]
    }
   ],
   "source": [
    "for stock in data:\n",
    "    print stock, data[stock].head()"
   ]
  },
  {
   "cell_type": "markdown",
   "metadata": {},
   "source": [
    "###  Data Cleaning, Column renaming, etc"
   ]
  },
  {
   "cell_type": "code",
   "execution_count": 11,
   "metadata": {
    "collapsed": true
   },
   "outputs": [],
   "source": [
    "for stock in data:\n",
    "    data[stock].drop(data[stock][data[stock].Volume == 0].index, inplace=True) # Data Cleaning\n",
    "    ATR(data[stock],n)\n",
    "    data[stock]=data[stock][['Open','High','Low','Close','ATR']] # Removing unwanted columns"
   ]
  },
  {
   "cell_type": "markdown",
   "metadata": {},
   "source": [
    "### SuperTrend Calculation"
   ]
  },
  {
   "cell_type": "code",
   "execution_count": 12,
   "metadata": {
    "collapsed": true
   },
   "outputs": [],
   "source": [
    "for stock in data:\n",
    "    ST(data[stock],f,n)\n",
    "    data[stock]=data[stock][['Open','High','Low','Close','ATR','SuperTrend']] # Removing unwanted columns\n",
    "    data[stock]=data[stock].round(2)"
   ]
  },
  {
   "cell_type": "code",
   "execution_count": 13,
   "metadata": {
    "scrolled": true
   },
   "outputs": [
    {
     "data": {
      "text/html": [
       "<div>\n",
       "<table border=\"1\" class=\"dataframe\">\n",
       "  <thead>\n",
       "    <tr style=\"text-align: right;\">\n",
       "      <th></th>\n",
       "      <th>Open</th>\n",
       "      <th>High</th>\n",
       "      <th>Low</th>\n",
       "      <th>Close</th>\n",
       "      <th>ATR</th>\n",
       "      <th>SuperTrend</th>\n",
       "    </tr>\n",
       "    <tr>\n",
       "      <th>Date</th>\n",
       "      <th></th>\n",
       "      <th></th>\n",
       "      <th></th>\n",
       "      <th></th>\n",
       "      <th></th>\n",
       "      <th></th>\n",
       "    </tr>\n",
       "  </thead>\n",
       "  <tbody>\n",
       "    <tr>\n",
       "      <th>2016-01-01</th>\n",
       "      <td>1100.00</td>\n",
       "      <td>1108.95</td>\n",
       "      <td>1093.20</td>\n",
       "      <td>1105.25</td>\n",
       "      <td>NaN</td>\n",
       "      <td>NaN</td>\n",
       "    </tr>\n",
       "    <tr>\n",
       "      <th>2016-01-04</th>\n",
       "      <td>1099.95</td>\n",
       "      <td>1102.45</td>\n",
       "      <td>1076.05</td>\n",
       "      <td>1078.90</td>\n",
       "      <td>NaN</td>\n",
       "      <td>NaN</td>\n",
       "    </tr>\n",
       "    <tr>\n",
       "      <th>2016-01-05</th>\n",
       "      <td>1085.50</td>\n",
       "      <td>1085.50</td>\n",
       "      <td>1062.25</td>\n",
       "      <td>1074.05</td>\n",
       "      <td>NaN</td>\n",
       "      <td>NaN</td>\n",
       "    </tr>\n",
       "    <tr>\n",
       "      <th>2016-01-06</th>\n",
       "      <td>1074.65</td>\n",
       "      <td>1074.65</td>\n",
       "      <td>1058.90</td>\n",
       "      <td>1069.35</td>\n",
       "      <td>NaN</td>\n",
       "      <td>NaN</td>\n",
       "    </tr>\n",
       "    <tr>\n",
       "      <th>2016-01-07</th>\n",
       "      <td>1060.05</td>\n",
       "      <td>1067.90</td>\n",
       "      <td>1047.90</td>\n",
       "      <td>1050.80</td>\n",
       "      <td>NaN</td>\n",
       "      <td>NaN</td>\n",
       "    </tr>\n",
       "  </tbody>\n",
       "</table>\n",
       "</div>"
      ],
      "text/plain": [
       "               Open     High      Low    Close  ATR  SuperTrend\n",
       "Date                                                           \n",
       "2016-01-01  1100.00  1108.95  1093.20  1105.25  NaN         NaN\n",
       "2016-01-04  1099.95  1102.45  1076.05  1078.90  NaN         NaN\n",
       "2016-01-05  1085.50  1085.50  1062.25  1074.05  NaN         NaN\n",
       "2016-01-06  1074.65  1074.65  1058.90  1069.35  NaN         NaN\n",
       "2016-01-07  1060.05  1067.90  1047.90  1050.80  NaN         NaN"
      ]
     },
     "execution_count": 13,
     "metadata": {},
     "output_type": "execute_result"
    }
   ],
   "source": [
    "data['INFY'].head() #Since ATR period is 7, we will see atr column filling out from 7th row"
   ]
  },
  {
   "cell_type": "code",
   "execution_count": 14,
   "metadata": {},
   "outputs": [
    {
     "data": {
      "text/html": [
       "<div>\n",
       "<table border=\"1\" class=\"dataframe\">\n",
       "  <thead>\n",
       "    <tr style=\"text-align: right;\">\n",
       "      <th></th>\n",
       "      <th>Open</th>\n",
       "      <th>High</th>\n",
       "      <th>Low</th>\n",
       "      <th>Close</th>\n",
       "      <th>ATR</th>\n",
       "      <th>SuperTrend</th>\n",
       "    </tr>\n",
       "    <tr>\n",
       "      <th>Date</th>\n",
       "      <th></th>\n",
       "      <th></th>\n",
       "      <th></th>\n",
       "      <th></th>\n",
       "      <th></th>\n",
       "      <th></th>\n",
       "    </tr>\n",
       "  </thead>\n",
       "  <tbody>\n",
       "    <tr>\n",
       "      <th>2018-03-08</th>\n",
       "      <td>290.25</td>\n",
       "      <td>298.00</td>\n",
       "      <td>289.25</td>\n",
       "      <td>296.95</td>\n",
       "      <td>9.66</td>\n",
       "      <td>317.74</td>\n",
       "    </tr>\n",
       "    <tr>\n",
       "      <th>2018-03-09</th>\n",
       "      <td>299.00</td>\n",
       "      <td>299.50</td>\n",
       "      <td>290.70</td>\n",
       "      <td>292.70</td>\n",
       "      <td>9.54</td>\n",
       "      <td>317.74</td>\n",
       "    </tr>\n",
       "    <tr>\n",
       "      <th>2018-03-12</th>\n",
       "      <td>295.60</td>\n",
       "      <td>301.90</td>\n",
       "      <td>293.75</td>\n",
       "      <td>300.65</td>\n",
       "      <td>9.49</td>\n",
       "      <td>317.74</td>\n",
       "    </tr>\n",
       "    <tr>\n",
       "      <th>2018-03-13</th>\n",
       "      <td>300.10</td>\n",
       "      <td>307.00</td>\n",
       "      <td>299.60</td>\n",
       "      <td>304.35</td>\n",
       "      <td>9.19</td>\n",
       "      <td>317.74</td>\n",
       "    </tr>\n",
       "    <tr>\n",
       "      <th>2018-03-14</th>\n",
       "      <td>303.15</td>\n",
       "      <td>307.45</td>\n",
       "      <td>297.80</td>\n",
       "      <td>306.05</td>\n",
       "      <td>9.26</td>\n",
       "      <td>317.74</td>\n",
       "    </tr>\n",
       "    <tr>\n",
       "      <th>2018-03-15</th>\n",
       "      <td>305.75</td>\n",
       "      <td>305.75</td>\n",
       "      <td>300.40</td>\n",
       "      <td>301.45</td>\n",
       "      <td>8.74</td>\n",
       "      <td>317.74</td>\n",
       "    </tr>\n",
       "    <tr>\n",
       "      <th>2018-03-16</th>\n",
       "      <td>301.25</td>\n",
       "      <td>301.85</td>\n",
       "      <td>297.40</td>\n",
       "      <td>298.10</td>\n",
       "      <td>8.13</td>\n",
       "      <td>317.74</td>\n",
       "    </tr>\n",
       "    <tr>\n",
       "      <th>2018-03-19</th>\n",
       "      <td>298.10</td>\n",
       "      <td>300.00</td>\n",
       "      <td>291.25</td>\n",
       "      <td>294.55</td>\n",
       "      <td>8.22</td>\n",
       "      <td>317.74</td>\n",
       "    </tr>\n",
       "    <tr>\n",
       "      <th>2018-03-20</th>\n",
       "      <td>293.00</td>\n",
       "      <td>297.20</td>\n",
       "      <td>290.25</td>\n",
       "      <td>292.00</td>\n",
       "      <td>8.04</td>\n",
       "      <td>317.74</td>\n",
       "    </tr>\n",
       "    <tr>\n",
       "      <th>2018-03-21</th>\n",
       "      <td>295.00</td>\n",
       "      <td>295.05</td>\n",
       "      <td>287.35</td>\n",
       "      <td>289.20</td>\n",
       "      <td>7.99</td>\n",
       "      <td>315.17</td>\n",
       "    </tr>\n",
       "    <tr>\n",
       "      <th>2018-03-22</th>\n",
       "      <td>289.50</td>\n",
       "      <td>289.65</td>\n",
       "      <td>280.90</td>\n",
       "      <td>283.25</td>\n",
       "      <td>8.10</td>\n",
       "      <td>309.57</td>\n",
       "    </tr>\n",
       "    <tr>\n",
       "      <th>2018-03-23</th>\n",
       "      <td>277.10</td>\n",
       "      <td>277.85</td>\n",
       "      <td>273.55</td>\n",
       "      <td>275.55</td>\n",
       "      <td>8.33</td>\n",
       "      <td>300.68</td>\n",
       "    </tr>\n",
       "    <tr>\n",
       "      <th>2018-03-26</th>\n",
       "      <td>276.10</td>\n",
       "      <td>283.15</td>\n",
       "      <td>275.95</td>\n",
       "      <td>281.65</td>\n",
       "      <td>8.22</td>\n",
       "      <td>300.68</td>\n",
       "    </tr>\n",
       "    <tr>\n",
       "      <th>2018-03-27</th>\n",
       "      <td>284.50</td>\n",
       "      <td>287.30</td>\n",
       "      <td>281.40</td>\n",
       "      <td>283.90</td>\n",
       "      <td>7.89</td>\n",
       "      <td>300.68</td>\n",
       "    </tr>\n",
       "    <tr>\n",
       "      <th>2018-03-28</th>\n",
       "      <td>283.00</td>\n",
       "      <td>283.30</td>\n",
       "      <td>277.10</td>\n",
       "      <td>278.35</td>\n",
       "      <td>7.73</td>\n",
       "      <td>300.68</td>\n",
       "    </tr>\n",
       "  </tbody>\n",
       "</table>\n",
       "</div>"
      ],
      "text/plain": [
       "              Open    High     Low   Close   ATR  SuperTrend\n",
       "Date                                                        \n",
       "2018-03-08  290.25  298.00  289.25  296.95  9.66      317.74\n",
       "2018-03-09  299.00  299.50  290.70  292.70  9.54      317.74\n",
       "2018-03-12  295.60  301.90  293.75  300.65  9.49      317.74\n",
       "2018-03-13  300.10  307.00  299.60  304.35  9.19      317.74\n",
       "2018-03-14  303.15  307.45  297.80  306.05  9.26      317.74\n",
       "2018-03-15  305.75  305.75  300.40  301.45  8.74      317.74\n",
       "2018-03-16  301.25  301.85  297.40  298.10  8.13      317.74\n",
       "2018-03-19  298.10  300.00  291.25  294.55  8.22      317.74\n",
       "2018-03-20  293.00  297.20  290.25  292.00  8.04      317.74\n",
       "2018-03-21  295.00  295.05  287.35  289.20  7.99      315.17\n",
       "2018-03-22  289.50  289.65  280.90  283.25  8.10      309.57\n",
       "2018-03-23  277.10  277.85  273.55  275.55  8.33      300.68\n",
       "2018-03-26  276.10  283.15  275.95  281.65  8.22      300.68\n",
       "2018-03-27  284.50  287.30  281.40  283.90  7.89      300.68\n",
       "2018-03-28  283.00  283.30  277.10  278.35  7.73      300.68"
      ]
     },
     "execution_count": 14,
     "metadata": {},
     "output_type": "execute_result"
    }
   ],
   "source": [
    "data['ICICIBANK'].tail(15)"
   ]
  },
  {
   "cell_type": "markdown",
   "metadata": {
    "collapsed": true
   },
   "source": [
    "### Taking data to excel"
   ]
  },
  {
   "cell_type": "code",
   "execution_count": 15,
   "metadata": {
    "collapsed": true,
    "scrolled": false
   },
   "outputs": [],
   "source": [
    "writer = pd.ExcelWriter('Data.xlsx')\n",
    "for stock in data:\n",
    "    data[stock].to_excel(writer,stock)\n",
    "writer.save()"
   ]
  }
 ],
 "metadata": {
  "kernelspec": {
   "display_name": "Python 2",
   "language": "python",
   "name": "python2"
  },
  "language_info": {
   "codemirror_mode": {
    "name": "ipython",
    "version": 2
   },
   "file_extension": ".py",
   "mimetype": "text/x-python",
   "name": "python",
   "nbconvert_exporter": "python",
   "pygments_lexer": "ipython2",
   "version": "2.7.13"
  }
 },
 "nbformat": 4,
 "nbformat_minor": 2
}
