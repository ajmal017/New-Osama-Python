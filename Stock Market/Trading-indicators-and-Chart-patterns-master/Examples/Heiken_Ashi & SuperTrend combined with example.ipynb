{
 "cells": [
  {
   "cell_type": "markdown",
   "metadata": {},
   "source": [
    "#### Importing necessary libraries"
   ]
  },
  {
   "cell_type": "code",
   "execution_count": 1,
   "metadata": {
    "collapsed": true
   },
   "outputs": [],
   "source": [
    "import pandas as pd\n",
    "pd.options.mode.chained_assignment = None  # This avoids SettingWithCopyWarnings\n",
    "import numpy as np"
   ]
  },
  {
   "cell_type": "code",
   "execution_count": 3,
   "metadata": {
    "scrolled": true
   },
   "outputs": [],
   "source": [
    "from pandas_datareader import data as pdr\n",
    "import fix_yahoo_finance as yf\n",
    "yf.pdr_override()"
   ]
  },
  {
   "cell_type": "markdown",
   "metadata": {},
   "source": [
    "#### Initializing Variables\n"
   ]
  },
  {
   "cell_type": "code",
   "execution_count": 4,
   "metadata": {
    "collapsed": true
   },
   "outputs": [],
   "source": [
    "data={} # Dictionary to contain pandas dataframe for all the stocks. This is to avoid creating variable for each stock \n",
    "        # to store data\n",
    "n=7 # Period for ATR\n",
    "f=3 # f is a factor/ multiplier"
   ]
  },
  {
   "cell_type": "markdown",
   "metadata": {},
   "source": [
    "### Average True Range is generally used as Renko bar size. However we can also use a custom bar size"
   ]
  },
  {
   "cell_type": "code",
   "execution_count": 5,
   "metadata": {
    "collapsed": true
   },
   "outputs": [],
   "source": [
    "def ATR(df,n): #df is the DataFrame, n is the period 7,14 ,etc\n",
    "    df['H-L']=abs(df['HA_High']-df['HA_Low'])\n",
    "    df['H-PC']=abs(df['HA_High']-df['HA_Close'].shift(1))\n",
    "    df['L-PC']=abs(df['HA_Low']-df['HA_Close'].shift(1))\n",
    "    df['TR']=df[['H-L','H-PC','L-PC']].max(axis=1)\n",
    "    df['ATR']=np.nan\n",
    "    df.ix[n-1,'ATR']=df['TR'][:n-1].mean()\n",
    "    for i in range(n,len(df)):\n",
    "        df['ATR'][i]=(df['ATR'][i-1]*(n-1)+ df['TR'][i])/n\n",
    "    return "
   ]
  },
  {
   "cell_type": "markdown",
   "metadata": {},
   "source": [
    "### Heiken Ashi is one type of chart pattern from Japan that filters out some noise in an effort to better capture the trend."
   ]
  },
  {
   "cell_type": "code",
   "execution_count": 6,
   "metadata": {
    "collapsed": true
   },
   "outputs": [],
   "source": [
    "def HA(df):\n",
    "    df['HA_Close']=(df['Open']+ df['High']+ df['Low']+ df['Close'])/4\n",
    "    df['HA_Open']=(df['Open']+df['Close'])/2   \n",
    "    \n",
    "    for i in range(1, len(df)):\n",
    "        df['HA_Open'][i]=(df['HA_Open'][i-1]+df['HA_Close'][i-1])/2 \n",
    "    df['HA_High']=df[['HA_Open','HA_Close','High']].max(axis=1)\n",
    "    df['HA_Low']=df[['HA_Open','HA_Close','Low']].min(axis=1)\n",
    "    return "
   ]
  },
  {
   "cell_type": "markdown",
   "metadata": {},
   "source": [
    "### Supertrend is a trend-following indicator and it is plotted on prices and their placement indicates the current trend. "
   ]
  },
  {
   "cell_type": "code",
   "execution_count": 7,
   "metadata": {
    "collapsed": true
   },
   "outputs": [],
   "source": [
    "def ST(df,f,n): #df is the dataframe, n is the period, f is the factor; f=3, n=7 are commonly used.\n",
    "    #Calculation of SuperTrend. We are using Heiken_Ashi OHLC instead of regular OHLC data\n",
    "    df['Upper Basic']=(df['HA_High']+df['HA_Low'])/2+(f*df['ATR'])\n",
    "    df['Lower Basic']=(df['HA_High']+df['HA_Low'])/2-(f*df['ATR'])\n",
    "    df['Upper Band']=df['Upper Basic']\n",
    "    df['Lower Band']=df['Lower Basic']\n",
    "    for i in range(n,len(df)):\n",
    "        if df['HA_Close'][i-1]<=df['Upper Band'][i-1]:\n",
    "            df['Upper Band'][i]=min(df['Upper Basic'][i],df['Upper Band'][i-1])\n",
    "        else:\n",
    "            df['Upper Band'][i]=df['Upper Basic'][i]    \n",
    "    for i in range(n,len(df)):\n",
    "        if df['HA_Close'][i-1]>=df['Lower Band'][i-1]:\n",
    "            df['Lower Band'][i]=max(df['Lower Basic'][i],df['Lower Band'][i-1])\n",
    "        else:\n",
    "            df['Lower Band'][i]=df['Lower Basic'][i]   \n",
    "    df['SuperTrend']=np.nan\n",
    "    for i in df['SuperTrend']:\n",
    "        if df['HA_Close'][n-1]<=df['Upper Band'][n-1]:\n",
    "            df['SuperTrend'][n-1]=df['Upper Band'][n-1]\n",
    "        elif df['HA_Close'][n-1]>df['Upper Band'][i]:\n",
    "            df['SuperTrend'][n-1]=df['Lower Band'][n-1]\n",
    "    for i in range(n,len(df)):\n",
    "        if df['SuperTrend'][i-1]==df['Upper Band'][i-1] and df['HA_Close'][i]<=df['Upper Band'][i]:\n",
    "            df['SuperTrend'][i]=df['Upper Band'][i]\n",
    "        elif  df['SuperTrend'][i-1]==df['Upper Band'][i-1] and df['HA_Close'][i]>=df['Upper Band'][i]:\n",
    "            df['SuperTrend'][i]=df['Lower Band'][i]\n",
    "        elif df['SuperTrend'][i-1]==df['Lower Band'][i-1] and df['HA_Close'][i]>=df['Lower Band'][i]:\n",
    "            df['SuperTrend'][i]=df['Lower Band'][i]\n",
    "        elif df['SuperTrend'][i-1]==df['Lower Band'][i-1] and df['HA_Close'][i]<=df['Lower Band'][i]:\n",
    "            df['SuperTrend'][i]=df['Upper Band'][i]\n",
    "    return "
   ]
  },
  {
   "cell_type": "markdown",
   "metadata": {},
   "source": [
    "### Set of Stocks"
   ]
  },
  {
   "cell_type": "code",
   "execution_count": 8,
   "metadata": {
    "collapsed": true
   },
   "outputs": [],
   "source": [
    "StockList=['INFY', 'ICICIBANK'] "
   ]
  },
  {
   "cell_type": "markdown",
   "metadata": {},
   "source": [
    "### Fetching data using Yahoo API,  Setting up Pandas Dataframe in the dictionary 'data' with key as Stock name and Value as DataFrame\n"
   ]
  },
  {
   "cell_type": "code",
   "execution_count": 9,
   "metadata": {},
   "outputs": [
    {
     "name": "stdout",
     "output_type": "stream",
     "text": [
      "[*********************100%***********************]  1 of 1 downloaded"
     ]
    }
   ],
   "source": [
    "start='2016-1-1'\n",
    "for stock in StockList:\n",
    "    data[stock]=pdr.get_data_yahoo(stock+'.NS', start)"
   ]
  },
  {
   "cell_type": "markdown",
   "metadata": {},
   "source": [
    "#### Sometimes due to rate limiting factor, Yahoo api when called yeilds no data. Below cell helps us out in figuring whether we need to ping the api again. "
   ]
  },
  {
   "cell_type": "code",
   "execution_count": 10,
   "metadata": {
    "collapsed": true
   },
   "outputs": [],
   "source": [
    "for stock in data:\n",
    "    if data[stock].empty:\n",
    "        print stock"
   ]
  },
  {
   "cell_type": "code",
   "execution_count": 11,
   "metadata": {
    "scrolled": true
   },
   "outputs": [
    {
     "name": "stdout",
     "output_type": "stream",
     "text": [
      "ICICIBANK                   Open        High         Low       Close   Adj Close  \\\n",
      "Date                                                                     \n",
      "2016-01-01  237.544998  239.636002  234.544998  239.091003  229.999863   \n",
      "2016-01-04  237.272995  237.591003  231.500000  232.317993  223.484390   \n",
      "2016-01-05  232.955002  234.091003  228.817993  233.363998  224.490616   \n",
      "2016-01-06  232.182007  233.408997  226.544998  227.363998  218.718781   \n",
      "2016-01-07  224.000000  225.182007  221.000000  224.317993  215.788589   \n",
      "\n",
      "              Volume  \n",
      "Date                  \n",
      "2016-01-01   5998097  \n",
      "2016-01-04   9435792  \n",
      "2016-01-05   8966978  \n",
      "2016-01-06  17416181  \n",
      "2016-01-07  18240713  \n",
      "INFY                    Open         High          Low        Close    Adj Close  \\\n",
      "Date                                                                          \n",
      "2016-01-01  1100.000000  1108.949951  1093.199951  1105.250000  1049.958252   \n",
      "2016-01-04  1099.949951  1102.449951  1076.050049  1078.900024  1024.926392   \n",
      "2016-01-05  1085.500000  1085.500000  1062.250000  1074.050049  1020.319031   \n",
      "2016-01-06  1074.650024  1074.650024  1058.900024  1069.349976  1015.854126   \n",
      "2016-01-07  1060.050049  1067.900024  1047.900024  1050.800049   998.232239   \n",
      "\n",
      "             Volume  \n",
      "Date                 \n",
      "2016-01-01   903275  \n",
      "2016-01-04  1987681  \n",
      "2016-01-05  2474893  \n",
      "2016-01-06  2794164  \n",
      "2016-01-07  2647044  \n"
     ]
    }
   ],
   "source": [
    "for stock in data:\n",
    "    print stock, data[stock].head()"
   ]
  },
  {
   "cell_type": "markdown",
   "metadata": {},
   "source": [
    "###  Data Cleaning, HA calculation, etc"
   ]
  },
  {
   "cell_type": "code",
   "execution_count": 12,
   "metadata": {
    "collapsed": true,
    "scrolled": true
   },
   "outputs": [],
   "source": [
    "for stock in data:\n",
    "    data[stock].drop(data[stock][data[stock].Volume == 0].index, inplace=True) # Data Cleaning\n",
    "    HA(data[stock]) # Heiken_Ashi Calculation\n",
    "    ATR(data[stock],n)"
   ]
  },
  {
   "cell_type": "markdown",
   "metadata": {},
   "source": [
    "### SuperTrend calculation on top of Heiken_Ashi"
   ]
  },
  {
   "cell_type": "code",
   "execution_count": 13,
   "metadata": {
    "collapsed": true
   },
   "outputs": [],
   "source": [
    "for stock in data:\n",
    "    ST(data[stock],f,n)\n",
    "    data[stock]=data[stock][['HA_Open','HA_High','HA_Low','HA_Close','ATR','SuperTrend']] # Removing unwanted columns\n",
    "    data[stock]=data[stock].round(2)"
   ]
  },
  {
   "cell_type": "code",
   "execution_count": 14,
   "metadata": {
    "scrolled": false
   },
   "outputs": [
    {
     "data": {
      "text/html": [
       "<div>\n",
       "<table border=\"1\" class=\"dataframe\">\n",
       "  <thead>\n",
       "    <tr style=\"text-align: right;\">\n",
       "      <th></th>\n",
       "      <th>HA_Open</th>\n",
       "      <th>HA_High</th>\n",
       "      <th>HA_Low</th>\n",
       "      <th>HA_Close</th>\n",
       "      <th>ATR</th>\n",
       "      <th>SuperTrend</th>\n",
       "    </tr>\n",
       "    <tr>\n",
       "      <th>Date</th>\n",
       "      <th></th>\n",
       "      <th></th>\n",
       "      <th></th>\n",
       "      <th></th>\n",
       "      <th></th>\n",
       "      <th></th>\n",
       "    </tr>\n",
       "  </thead>\n",
       "  <tbody>\n",
       "    <tr>\n",
       "      <th>2016-01-01</th>\n",
       "      <td>1102.62</td>\n",
       "      <td>1108.95</td>\n",
       "      <td>1093.20</td>\n",
       "      <td>1101.85</td>\n",
       "      <td>NaN</td>\n",
       "      <td>NaN</td>\n",
       "    </tr>\n",
       "    <tr>\n",
       "      <th>2016-01-04</th>\n",
       "      <td>1102.24</td>\n",
       "      <td>1102.45</td>\n",
       "      <td>1076.05</td>\n",
       "      <td>1089.34</td>\n",
       "      <td>NaN</td>\n",
       "      <td>NaN</td>\n",
       "    </tr>\n",
       "    <tr>\n",
       "      <th>2016-01-05</th>\n",
       "      <td>1095.79</td>\n",
       "      <td>1095.79</td>\n",
       "      <td>1062.25</td>\n",
       "      <td>1076.83</td>\n",
       "      <td>NaN</td>\n",
       "      <td>NaN</td>\n",
       "    </tr>\n",
       "    <tr>\n",
       "      <th>2016-01-06</th>\n",
       "      <td>1086.31</td>\n",
       "      <td>1086.31</td>\n",
       "      <td>1058.90</td>\n",
       "      <td>1069.39</td>\n",
       "      <td>NaN</td>\n",
       "      <td>NaN</td>\n",
       "    </tr>\n",
       "    <tr>\n",
       "      <th>2016-01-07</th>\n",
       "      <td>1077.85</td>\n",
       "      <td>1077.85</td>\n",
       "      <td>1047.90</td>\n",
       "      <td>1056.66</td>\n",
       "      <td>NaN</td>\n",
       "      <td>NaN</td>\n",
       "    </tr>\n",
       "  </tbody>\n",
       "</table>\n",
       "</div>"
      ],
      "text/plain": [
       "            HA_Open  HA_High   HA_Low  HA_Close  ATR  SuperTrend\n",
       "Date                                                            \n",
       "2016-01-01  1102.62  1108.95  1093.20   1101.85  NaN         NaN\n",
       "2016-01-04  1102.24  1102.45  1076.05   1089.34  NaN         NaN\n",
       "2016-01-05  1095.79  1095.79  1062.25   1076.83  NaN         NaN\n",
       "2016-01-06  1086.31  1086.31  1058.90   1069.39  NaN         NaN\n",
       "2016-01-07  1077.85  1077.85  1047.90   1056.66  NaN         NaN"
      ]
     },
     "execution_count": 14,
     "metadata": {},
     "output_type": "execute_result"
    }
   ],
   "source": [
    "data['INFY'].head() #Since ATR period is 7, we will see atr column filling out from 7th row"
   ]
  },
  {
   "cell_type": "code",
   "execution_count": 15,
   "metadata": {},
   "outputs": [
    {
     "data": {
      "text/html": [
       "<div>\n",
       "<table border=\"1\" class=\"dataframe\">\n",
       "  <thead>\n",
       "    <tr style=\"text-align: right;\">\n",
       "      <th></th>\n",
       "      <th>HA_Open</th>\n",
       "      <th>HA_High</th>\n",
       "      <th>HA_Low</th>\n",
       "      <th>HA_Close</th>\n",
       "      <th>ATR</th>\n",
       "      <th>SuperTrend</th>\n",
       "    </tr>\n",
       "    <tr>\n",
       "      <th>Date</th>\n",
       "      <th></th>\n",
       "      <th></th>\n",
       "      <th></th>\n",
       "      <th></th>\n",
       "      <th></th>\n",
       "      <th></th>\n",
       "    </tr>\n",
       "  </thead>\n",
       "  <tbody>\n",
       "    <tr>\n",
       "      <th>2018-03-15</th>\n",
       "      <td>301.68</td>\n",
       "      <td>305.75</td>\n",
       "      <td>300.40</td>\n",
       "      <td>303.34</td>\n",
       "      <td>10.06</td>\n",
       "      <td>330.10</td>\n",
       "    </tr>\n",
       "    <tr>\n",
       "      <th>2018-03-16</th>\n",
       "      <td>302.51</td>\n",
       "      <td>302.51</td>\n",
       "      <td>297.40</td>\n",
       "      <td>299.65</td>\n",
       "      <td>9.47</td>\n",
       "      <td>328.37</td>\n",
       "    </tr>\n",
       "    <tr>\n",
       "      <th>2018-03-19</th>\n",
       "      <td>301.08</td>\n",
       "      <td>301.08</td>\n",
       "      <td>291.25</td>\n",
       "      <td>295.97</td>\n",
       "      <td>9.52</td>\n",
       "      <td>324.74</td>\n",
       "    </tr>\n",
       "    <tr>\n",
       "      <th>2018-03-20</th>\n",
       "      <td>298.53</td>\n",
       "      <td>298.53</td>\n",
       "      <td>290.25</td>\n",
       "      <td>293.11</td>\n",
       "      <td>9.35</td>\n",
       "      <td>322.43</td>\n",
       "    </tr>\n",
       "    <tr>\n",
       "      <th>2018-03-21</th>\n",
       "      <td>295.82</td>\n",
       "      <td>295.82</td>\n",
       "      <td>287.35</td>\n",
       "      <td>291.65</td>\n",
       "      <td>9.22</td>\n",
       "      <td>319.25</td>\n",
       "    </tr>\n",
       "    <tr>\n",
       "      <th>2018-03-22</th>\n",
       "      <td>293.73</td>\n",
       "      <td>293.73</td>\n",
       "      <td>280.90</td>\n",
       "      <td>285.82</td>\n",
       "      <td>9.74</td>\n",
       "      <td>316.53</td>\n",
       "    </tr>\n",
       "    <tr>\n",
       "      <th>2018-03-23</th>\n",
       "      <td>289.78</td>\n",
       "      <td>289.78</td>\n",
       "      <td>273.55</td>\n",
       "      <td>276.01</td>\n",
       "      <td>10.66</td>\n",
       "      <td>313.66</td>\n",
       "    </tr>\n",
       "    <tr>\n",
       "      <th>2018-03-26</th>\n",
       "      <td>282.90</td>\n",
       "      <td>283.15</td>\n",
       "      <td>275.95</td>\n",
       "      <td>279.21</td>\n",
       "      <td>10.17</td>\n",
       "      <td>310.06</td>\n",
       "    </tr>\n",
       "    <tr>\n",
       "      <th>2018-03-27</th>\n",
       "      <td>281.05</td>\n",
       "      <td>287.30</td>\n",
       "      <td>281.05</td>\n",
       "      <td>284.27</td>\n",
       "      <td>9.87</td>\n",
       "      <td>310.06</td>\n",
       "    </tr>\n",
       "    <tr>\n",
       "      <th>2018-03-28</th>\n",
       "      <td>282.66</td>\n",
       "      <td>283.30</td>\n",
       "      <td>277.10</td>\n",
       "      <td>280.44</td>\n",
       "      <td>9.49</td>\n",
       "      <td>308.66</td>\n",
       "    </tr>\n",
       "  </tbody>\n",
       "</table>\n",
       "</div>"
      ],
      "text/plain": [
       "            HA_Open  HA_High  HA_Low  HA_Close    ATR  SuperTrend\n",
       "Date                                                             \n",
       "2018-03-15   301.68   305.75  300.40    303.34  10.06      330.10\n",
       "2018-03-16   302.51   302.51  297.40    299.65   9.47      328.37\n",
       "2018-03-19   301.08   301.08  291.25    295.97   9.52      324.74\n",
       "2018-03-20   298.53   298.53  290.25    293.11   9.35      322.43\n",
       "2018-03-21   295.82   295.82  287.35    291.65   9.22      319.25\n",
       "2018-03-22   293.73   293.73  280.90    285.82   9.74      316.53\n",
       "2018-03-23   289.78   289.78  273.55    276.01  10.66      313.66\n",
       "2018-03-26   282.90   283.15  275.95    279.21  10.17      310.06\n",
       "2018-03-27   281.05   287.30  281.05    284.27   9.87      310.06\n",
       "2018-03-28   282.66   283.30  277.10    280.44   9.49      308.66"
      ]
     },
     "execution_count": 15,
     "metadata": {},
     "output_type": "execute_result"
    }
   ],
   "source": [
    "data['ICICIBANK'].tail(10)"
   ]
  },
  {
   "cell_type": "markdown",
   "metadata": {
    "collapsed": true
   },
   "source": [
    "#### Taking data to excel sheet"
   ]
  },
  {
   "cell_type": "code",
   "execution_count": 16,
   "metadata": {
    "collapsed": true,
    "scrolled": false
   },
   "outputs": [],
   "source": [
    "writer = pd.ExcelWriter('Data.xlsx')\n",
    "for stock in data:\n",
    "    data[stock].to_excel(writer,stock)\n",
    "writer.save()"
   ]
  }
 ],
 "metadata": {
  "kernelspec": {
   "display_name": "Python 2",
   "language": "python",
   "name": "python2"
  },
  "language_info": {
   "codemirror_mode": {
    "name": "ipython",
    "version": 2
   },
   "file_extension": ".py",
   "mimetype": "text/x-python",
   "name": "python",
   "nbconvert_exporter": "python",
   "pygments_lexer": "ipython2",
   "version": "2.7.13"
  }
 },
 "nbformat": 4,
 "nbformat_minor": 2
}
