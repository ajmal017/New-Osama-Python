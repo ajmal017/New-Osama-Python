{
 "cells": [
  {
   "cell_type": "markdown",
   "metadata": {},
   "source": [
    "#### Importing necessary libraries"
   ]
  },
  {
   "cell_type": "code",
   "execution_count": 1,
   "metadata": {
    "collapsed": true
   },
   "outputs": [],
   "source": [
    "import pandas as pd\n",
    "pd.options.mode.chained_assignment = None # This avoids SettingWithCopyWarnings\n",
    "import numpy as np"
   ]
  },
  {
   "cell_type": "code",
   "execution_count": 4,
   "metadata": {
    "scrolled": true
   },
   "outputs": [],
   "source": [
    "from pandas_datareader import data as pdr\n",
    "import fix_yahoo_finance as yf\n",
    "yf.pdr_override()"
   ]
  },
  {
   "cell_type": "markdown",
   "metadata": {},
   "source": [
    "#### Initializing Variables\n"
   ]
  },
  {
   "cell_type": "code",
   "execution_count": 3,
   "metadata": {
    "collapsed": true
   },
   "outputs": [],
   "source": [
    "data={} # Dictionary to contain pandas dataframe for all the stocks. This is to avoid creating variable for each stock \n",
    "        # to store data\n"
   ]
  },
  {
   "cell_type": "markdown",
   "metadata": {},
   "source": [
    "### Heiken Ashi is one type of chart pattern from Japan that filters out some noise in an effort to better capture the trend. "
   ]
  },
  {
   "cell_type": "code",
   "execution_count": 5,
   "metadata": {
    "collapsed": true
   },
   "outputs": [],
   "source": [
    "def HA(df):\n",
    "    df['HA_Close']=(df['Open']+ df['High']+ df['Low']+ df['Close'])/4\n",
    "    df['HA_Open']=(df['Open']+df['Close'])/2   \n",
    "    \n",
    "    for i in range(1, len(df)):\n",
    "        df['HA_Open'][i]=(df['HA_Open'][i-1]+df['HA_Close'][i-1])/2 \n",
    "    df['HA_High']=df[['HA_Open','HA_Close','High']].max(axis=1)\n",
    "    df['HA_Low']=df[['HA_Open','HA_Close','Low']].min(axis=1)\n",
    "    return "
   ]
  },
  {
   "cell_type": "markdown",
   "metadata": {},
   "source": [
    "### Set of Stocks"
   ]
  },
  {
   "cell_type": "code",
   "execution_count": 6,
   "metadata": {
    "collapsed": true
   },
   "outputs": [],
   "source": [
    "StockList=['INFY', 'ICICIBANK'] "
   ]
  },
  {
   "cell_type": "markdown",
   "metadata": {},
   "source": [
    "### Fetching data using Yahoo API,  Setting up Pandas Dataframe in the dictionary 'data' with key as Stock name and Value as DataFrame\n"
   ]
  },
  {
   "cell_type": "code",
   "execution_count": 7,
   "metadata": {},
   "outputs": [
    {
     "name": "stdout",
     "output_type": "stream",
     "text": [
      "[*********************100%***********************]  1 of 1 downloaded"
     ]
    }
   ],
   "source": [
    "start='2016-1-1'\n",
    "for stock in StockList:\n",
    "    data[stock]=pdr.get_data_yahoo(stock+'.NS', start)"
   ]
  },
  {
   "cell_type": "markdown",
   "metadata": {},
   "source": [
    "#### Sometimes due to rate limiting factor, Yahoo api when called yeilds no data. Below cell helps us out in figuring whether we need to ping the api again. "
   ]
  },
  {
   "cell_type": "code",
   "execution_count": 8,
   "metadata": {
    "collapsed": true
   },
   "outputs": [],
   "source": [
    "for stock in data:\n",
    "    if data[stock].empty:\n",
    "        print stock"
   ]
  },
  {
   "cell_type": "code",
   "execution_count": 9,
   "metadata": {
    "scrolled": true
   },
   "outputs": [
    {
     "name": "stdout",
     "output_type": "stream",
     "text": [
      "ICICIBANK                   Open        High         Low       Close   Adj Close  \\\n",
      "Date                                                                     \n",
      "2016-01-01  237.544998  239.636002  234.544998  239.091003  229.999863   \n",
      "2016-01-04  237.272995  237.591003  231.500000  232.317993  223.484390   \n",
      "2016-01-05  232.955002  234.091003  228.817993  233.363998  224.490616   \n",
      "2016-01-06  232.182007  233.408997  226.544998  227.363998  218.718781   \n",
      "2016-01-07  224.000000  225.182007  221.000000  224.317993  215.788589   \n",
      "\n",
      "              Volume  \n",
      "Date                  \n",
      "2016-01-01   5998097  \n",
      "2016-01-04   9435792  \n",
      "2016-01-05   8966978  \n",
      "2016-01-06  17416181  \n",
      "2016-01-07  18240713  \n",
      "INFY                    Open         High          Low        Close    Adj Close  \\\n",
      "Date                                                                          \n",
      "2016-01-01  1100.000000  1108.949951  1093.199951  1105.250000  1049.958252   \n",
      "2016-01-04  1099.949951  1102.449951  1076.050049  1078.900024  1024.926392   \n",
      "2016-01-05  1085.500000  1085.500000  1062.250000  1074.050049  1020.319031   \n",
      "2016-01-06  1074.650024  1074.650024  1058.900024  1069.349976  1015.854126   \n",
      "2016-01-07  1060.050049  1067.900024  1047.900024  1050.800049   998.232239   \n",
      "\n",
      "             Volume  \n",
      "Date                 \n",
      "2016-01-01   903275  \n",
      "2016-01-04  1987681  \n",
      "2016-01-05  2474893  \n",
      "2016-01-06  2794164  \n",
      "2016-01-07  2647044  \n"
     ]
    }
   ],
   "source": [
    "for stock in data:\n",
    "    print stock, data[stock].head()"
   ]
  },
  {
   "cell_type": "markdown",
   "metadata": {},
   "source": [
    "###  Data Cleaning, Column renaming, etc"
   ]
  },
  {
   "cell_type": "code",
   "execution_count": 10,
   "metadata": {
    "collapsed": true
   },
   "outputs": [],
   "source": [
    "for stock in data:\n",
    "    data[stock].drop(data[stock][data[stock].Volume == 0].index, inplace=True) # Data Cleaning\n",
    "    data[stock]=data[stock][['Open','High','Low','Close']] # Removing unwanted columns"
   ]
  },
  {
   "cell_type": "markdown",
   "metadata": {},
   "source": [
    "### Creating  Heiken Ashi candles "
   ]
  },
  {
   "cell_type": "code",
   "execution_count": 11,
   "metadata": {
    "collapsed": true
   },
   "outputs": [],
   "source": [
    "for stock in data:    \n",
    "    HA(data[stock])\n",
    "    data[stock]=data[stock][['HA_Open','HA_High','HA_Low','HA_Close']] # Removing unwanted columns\n",
    "    data[stock]=data[stock].round(2)"
   ]
  },
  {
   "cell_type": "code",
   "execution_count": 12,
   "metadata": {},
   "outputs": [
    {
     "data": {
      "text/html": [
       "<div>\n",
       "<table border=\"1\" class=\"dataframe\">\n",
       "  <thead>\n",
       "    <tr style=\"text-align: right;\">\n",
       "      <th></th>\n",
       "      <th>HA_Open</th>\n",
       "      <th>HA_High</th>\n",
       "      <th>HA_Low</th>\n",
       "      <th>HA_Close</th>\n",
       "    </tr>\n",
       "    <tr>\n",
       "      <th>Date</th>\n",
       "      <th></th>\n",
       "      <th></th>\n",
       "      <th></th>\n",
       "      <th></th>\n",
       "    </tr>\n",
       "  </thead>\n",
       "  <tbody>\n",
       "    <tr>\n",
       "      <th>2016-01-01</th>\n",
       "      <td>1102.62</td>\n",
       "      <td>1108.95</td>\n",
       "      <td>1093.20</td>\n",
       "      <td>1101.85</td>\n",
       "    </tr>\n",
       "    <tr>\n",
       "      <th>2016-01-04</th>\n",
       "      <td>1102.24</td>\n",
       "      <td>1102.45</td>\n",
       "      <td>1076.05</td>\n",
       "      <td>1089.34</td>\n",
       "    </tr>\n",
       "    <tr>\n",
       "      <th>2016-01-05</th>\n",
       "      <td>1095.79</td>\n",
       "      <td>1095.79</td>\n",
       "      <td>1062.25</td>\n",
       "      <td>1076.83</td>\n",
       "    </tr>\n",
       "    <tr>\n",
       "      <th>2016-01-06</th>\n",
       "      <td>1086.31</td>\n",
       "      <td>1086.31</td>\n",
       "      <td>1058.90</td>\n",
       "      <td>1069.39</td>\n",
       "    </tr>\n",
       "    <tr>\n",
       "      <th>2016-01-07</th>\n",
       "      <td>1077.85</td>\n",
       "      <td>1077.85</td>\n",
       "      <td>1047.90</td>\n",
       "      <td>1056.66</td>\n",
       "    </tr>\n",
       "  </tbody>\n",
       "</table>\n",
       "</div>"
      ],
      "text/plain": [
       "            HA_Open  HA_High   HA_Low  HA_Close\n",
       "Date                                           \n",
       "2016-01-01  1102.62  1108.95  1093.20   1101.85\n",
       "2016-01-04  1102.24  1102.45  1076.05   1089.34\n",
       "2016-01-05  1095.79  1095.79  1062.25   1076.83\n",
       "2016-01-06  1086.31  1086.31  1058.90   1069.39\n",
       "2016-01-07  1077.85  1077.85  1047.90   1056.66"
      ]
     },
     "execution_count": 12,
     "metadata": {},
     "output_type": "execute_result"
    }
   ],
   "source": [
    "data['INFY'].head()"
   ]
  },
  {
   "cell_type": "code",
   "execution_count": 13,
   "metadata": {
    "scrolled": true
   },
   "outputs": [
    {
     "data": {
      "text/html": [
       "<div>\n",
       "<table border=\"1\" class=\"dataframe\">\n",
       "  <thead>\n",
       "    <tr style=\"text-align: right;\">\n",
       "      <th></th>\n",
       "      <th>HA_Open</th>\n",
       "      <th>HA_High</th>\n",
       "      <th>HA_Low</th>\n",
       "      <th>HA_Close</th>\n",
       "    </tr>\n",
       "    <tr>\n",
       "      <th>Date</th>\n",
       "      <th></th>\n",
       "      <th></th>\n",
       "      <th></th>\n",
       "      <th></th>\n",
       "    </tr>\n",
       "  </thead>\n",
       "  <tbody>\n",
       "    <tr>\n",
       "      <th>2016-01-01</th>\n",
       "      <td>238.32</td>\n",
       "      <td>239.64</td>\n",
       "      <td>234.54</td>\n",
       "      <td>237.70</td>\n",
       "    </tr>\n",
       "    <tr>\n",
       "      <th>2016-01-04</th>\n",
       "      <td>238.01</td>\n",
       "      <td>238.01</td>\n",
       "      <td>231.50</td>\n",
       "      <td>234.67</td>\n",
       "    </tr>\n",
       "    <tr>\n",
       "      <th>2016-01-05</th>\n",
       "      <td>236.34</td>\n",
       "      <td>236.34</td>\n",
       "      <td>228.82</td>\n",
       "      <td>232.31</td>\n",
       "    </tr>\n",
       "    <tr>\n",
       "      <th>2016-01-06</th>\n",
       "      <td>234.32</td>\n",
       "      <td>234.32</td>\n",
       "      <td>226.54</td>\n",
       "      <td>229.88</td>\n",
       "    </tr>\n",
       "    <tr>\n",
       "      <th>2016-01-07</th>\n",
       "      <td>232.10</td>\n",
       "      <td>232.10</td>\n",
       "      <td>221.00</td>\n",
       "      <td>223.62</td>\n",
       "    </tr>\n",
       "    <tr>\n",
       "      <th>2016-01-08</th>\n",
       "      <td>227.86</td>\n",
       "      <td>227.86</td>\n",
       "      <td>221.32</td>\n",
       "      <td>222.91</td>\n",
       "    </tr>\n",
       "    <tr>\n",
       "      <th>2016-01-11</th>\n",
       "      <td>225.39</td>\n",
       "      <td>225.39</td>\n",
       "      <td>216.41</td>\n",
       "      <td>218.93</td>\n",
       "    </tr>\n",
       "    <tr>\n",
       "      <th>2016-01-12</th>\n",
       "      <td>222.16</td>\n",
       "      <td>222.16</td>\n",
       "      <td>214.18</td>\n",
       "      <td>217.09</td>\n",
       "    </tr>\n",
       "    <tr>\n",
       "      <th>2016-01-13</th>\n",
       "      <td>219.62</td>\n",
       "      <td>220.82</td>\n",
       "      <td>210.09</td>\n",
       "      <td>216.20</td>\n",
       "    </tr>\n",
       "    <tr>\n",
       "      <th>2016-01-14</th>\n",
       "      <td>217.91</td>\n",
       "      <td>218.00</td>\n",
       "      <td>210.73</td>\n",
       "      <td>213.99</td>\n",
       "    </tr>\n",
       "  </tbody>\n",
       "</table>\n",
       "</div>"
      ],
      "text/plain": [
       "            HA_Open  HA_High  HA_Low  HA_Close\n",
       "Date                                          \n",
       "2016-01-01   238.32   239.64  234.54    237.70\n",
       "2016-01-04   238.01   238.01  231.50    234.67\n",
       "2016-01-05   236.34   236.34  228.82    232.31\n",
       "2016-01-06   234.32   234.32  226.54    229.88\n",
       "2016-01-07   232.10   232.10  221.00    223.62\n",
       "2016-01-08   227.86   227.86  221.32    222.91\n",
       "2016-01-11   225.39   225.39  216.41    218.93\n",
       "2016-01-12   222.16   222.16  214.18    217.09\n",
       "2016-01-13   219.62   220.82  210.09    216.20\n",
       "2016-01-14   217.91   218.00  210.73    213.99"
      ]
     },
     "execution_count": 13,
     "metadata": {},
     "output_type": "execute_result"
    }
   ],
   "source": [
    "data['ICICIBANK'].head(10)"
   ]
  },
  {
   "cell_type": "markdown",
   "metadata": {
    "collapsed": true
   },
   "source": [
    "### Taking data to excel"
   ]
  },
  {
   "cell_type": "code",
   "execution_count": 14,
   "metadata": {
    "collapsed": true,
    "scrolled": false
   },
   "outputs": [],
   "source": [
    "writer = pd.ExcelWriter('Data.xlsx')\n",
    "for stock in data:\n",
    "    data[stock].to_excel(writer,stock)\n",
    "writer.save()"
   ]
  }
 ],
 "metadata": {
  "kernelspec": {
   "display_name": "Python 2",
   "language": "python",
   "name": "python2"
  },
  "language_info": {
   "codemirror_mode": {
    "name": "ipython",
    "version": 2
   },
   "file_extension": ".py",
   "mimetype": "text/x-python",
   "name": "python",
   "nbconvert_exporter": "python",
   "pygments_lexer": "ipython2",
   "version": "2.7.13"
  }
 },
 "nbformat": 4,
 "nbformat_minor": 2
}
