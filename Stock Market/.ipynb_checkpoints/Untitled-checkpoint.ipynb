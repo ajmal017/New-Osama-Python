{
 "cells": [
  {
   "cell_type": "code",
   "execution_count": null,
   "metadata": {},
   "outputs": [],
   "source": [
    "import pandas as pd\n",
    "import glob"
   ]
  },
  {
   "cell_type": "markdown",
   "metadata": {},
   "source": [
    "  \"\"\"\n",
    "            SuperTrend Algorithm :\n",
    "        \n",
    "                BASIC UPPERBAND = (HIGH + LOW) / 2 + Multiplier * ATR\n",
    "                BASIC LOWERBAND = (HIGH + LOW) / 2 - Multiplier * ATR\n",
    "        \n",
    "                FINAL UPPERBAND = IF( (Current BASICUPPERBAND < Previous FINAL UPPERBAND) or (Previous CLOSE > Previous FINAL UPPERBAND))\n",
    "                                    THEN (Current BASIC UPPERBAND) ELSE Previous FINALUPPERBAND)\n",
    "                FINAL LOWERBAND = IF( (Current BASIC LOWERBAND > Previous FINAL LOWERBAND) or (Previous CLOSE < Previous FINAL LOWERBAND)) \n",
    "                                    THEN (Current BASIC LOWERBAND) ELSE Previous FINAL LOWERBAND)\n",
    "        \n",
    "                SUPERTREND = IF((Previous SUPERTREND = Previous FINAL UPPERBAND) and (Current CLOSE <= Current FINAL UPPERBAND)) THEN\n",
    "                                Current FINAL UPPERBAND\n",
    "                            ELSE\n",
    "                                IF((Previous SUPERTREND = Previous FINAL UPPERBAND) and (Current CLOSE > Current FINAL UPPERBAND)) THEN\n",
    "                                    Current FINAL LOWERBAND\n",
    "                                ELSE\n",
    "                                    IF((Previous SUPERTREND = Previous FINAL LOWERBAND) and (Current CLOSE >= Current FINAL LOWERBAND)) THEN\n",
    "                                        Current FINAL LOWERBAND\n",
    "                                    ELSE\n",
    "                                        IF((Previous SUPERTREND = Previous FINAL LOWERBAND) and (Current CLOSE < Current FINAL LOWERBAND)) THEN\n",
    "                                            Current FINAL UPPERBAND\n",
    "            \"\"\""
   ]
  },
  {
   "cell_type": "code",
   "execution_count": null,
   "metadata": {},
   "outputs": [],
   "source": [
    "glob.glob(\"D:\\Stock Market\\Daily\\Test\\*.xls\")\n",
    "for f in glob.glob('D:\\Stock Market\\Daily\\Test\\*.xls'):\n",
    "    df = pd.read_excel(f, skiprows=[0])\n",
    "    df['H-L'] = df['HIGH'] - df['LOW']\n",
    "    df['H-PC'] = abs(df['HIGH'] - df['CLOSE'].shift(1))\n",
    "    df['L-PC'] = abs(df['LOW'] - df['CLOSE'].shift(1))\n",
    "    averag_true_range = []\n",
    "    atr = [0, 0, 0, 0, 0, 0, 0, 0, 0, 0, 0]\n",
    "    upper_band_basic = [0, 0, 0, 0, 0, 0, 0, 0, 0, 0, 0]\n",
    "    df['True Range'] = df[['H-L', 'H-PC', 'L-PC']].max(axis=1)\n",
    "    period = 10\n",
    "    for x in range(period, len(df.index)):\n",
    "        atr2 = df.loc[x-8:x+1, \"True Range\"].mean()\n",
    "        atr.append(atr2)\n",
    "    df3 = pd.DataFrame(atr, columns=['ATR'])\n",
    "    df['ATR'] = df3['ATR']\n",
    "    multiplier = 3\n",
    "    df['ubb'] = ((df['HIGH'] + df['LOW']) / 2) + (df['ATR'] * multiplier)\n",
    "    df['lbb'] = ((df['HIGH'] + df['LOW']) / 2) - (df['ATR'] * multiplier)\n",
    "    df['ubf'] = 0\n",
    "    df['lbf'] = 0\n",
    "    df['st'] = 0\n",
    "    for x in range(period+1, len(df.index)):\n",
    "        if (df.loc[x, 'ubb'] < df.loc[x - 1, 'ubf']) or (df.loc[x - 1, 'CLOSE'] > df.loc[x - 1, 'ubf']):\n",
    "            df.loc[x, 'ubf'] = df.loc[x, 'ubb']\n",
    "        else:\n",
    "            df.loc[x, 'ubf'] = df.loc[x - 1, 'ubf']\n",
    "        if (df.loc[x, 'lbb'] > df.loc[x - 1, 'lbf']) or (df.loc[x - 1, 'CLOSE'] < df.loc[x - 1, 'lbf']):\n",
    "            df.loc[x, 'lbf'] = df.loc[x, 'lbb']\n",
    "        else:\n",
    "            df.loc[x, 'lbf'] = df.loc[x - 1, 'lbf']\n",
    "        if ((df.loc[x - 1, 'st'] == df.loc[x - 1, 'ubf']) and (df.loc[x, 'CLOSE'] <= df.loc[x, 'ubf'])) \\\n",
    "                or ((df.loc[x - 1, 'st'] == df.loc[x - 1, 'lbf']) and (df.loc[x, 'CLOSE'] <= df.loc[x, 'lbf'])):\n",
    "            df.loc[x, 'st'] = df.loc[x, 'ubf']\n",
    "        else:\n",
    "            ((df.loc[x - 1, 'st'] == df.loc[x - 1, 'ubf']) and (df.loc[x, 'CLOSE'] > df.loc[x, 'ubf'])) \\\n",
    "            or ((df.loc[x - 1, 'st'] == df.loc[x - 1, 'lbf']) and (df.loc[x, 'CLOSE'] >= df.loc[x, 'lbf']))\n",
    "            df.loc[x, 'st'] = df.loc[x, 'lbf']"
   ]
  },
  {
   "cell_type": "code",
   "execution_count": null,
   "metadata": {},
   "outputs": [],
   "source": [
    "   df.round(2).to_excel(f'{f}.xlsx', sheet_name='indicator', index=False)"
   ]
  }
 ],
 "metadata": {
  "kernelspec": {
   "display_name": "Python 3",
   "language": "python",
   "name": "python3"
  },
  "language_info": {
   "codemirror_mode": {
    "name": "ipython",
    "version": 3
   },
   "file_extension": ".py",
   "mimetype": "text/x-python",
   "name": "python",
   "nbconvert_exporter": "python",
   "pygments_lexer": "ipython3",
   "version": "3.8.2"
  },
  "latex_envs": {
   "LaTeX_envs_menu_present": true,
   "autoclose": false,
   "autocomplete": true,
   "bibliofile": "biblio.bib",
   "cite_by": "apalike",
   "current_citInitial": 1,
   "eqLabelWithNumbers": true,
   "eqNumInitial": 1,
   "hotkeys": {
    "equation": "Ctrl-E",
    "itemize": "Ctrl-I"
   },
   "labels_anchors": false,
   "latex_user_defs": false,
   "report_style_numbering": false,
   "user_envs_cfg": false
  },
  "toc": {
   "base_numbering": 1,
   "nav_menu": {},
   "number_sections": true,
   "sideBar": true,
   "skip_h1_title": false,
   "title_cell": "Table of Contents",
   "title_sidebar": "Contents",
   "toc_cell": false,
   "toc_position": {},
   "toc_section_display": true,
   "toc_window_display": false
  },
  "varInspector": {
   "cols": {
    "lenName": 16,
    "lenType": 16,
    "lenVar": 40
   },
   "kernels_config": {
    "python": {
     "delete_cmd_postfix": "",
     "delete_cmd_prefix": "del ",
     "library": "var_list.py",
     "varRefreshCmd": "print(var_dic_list())"
    },
    "r": {
     "delete_cmd_postfix": ") ",
     "delete_cmd_prefix": "rm(",
     "library": "var_list.r",
     "varRefreshCmd": "cat(var_dic_list()) "
    }
   },
   "types_to_exclude": [
    "module",
    "function",
    "builtin_function_or_method",
    "instance",
    "_Feature"
   ],
   "window_display": false
  }
 },
 "nbformat": 4,
 "nbformat_minor": 4
}
