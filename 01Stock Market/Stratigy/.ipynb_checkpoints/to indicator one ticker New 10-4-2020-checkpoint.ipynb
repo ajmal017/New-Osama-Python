{
 "cells": [
  {
   "cell_type": "markdown",
   "metadata": {},
   "source": [
    "# New 10-4-2020"
   ]
  },
  {
   "cell_type": "markdown",
   "metadata": {},
   "source": [
    "## Import"
   ]
  },
  {
   "cell_type": "code",
   "execution_count": 311,
   "metadata": {},
   "outputs": [],
   "source": [
    "import talib as ta\n",
    "import pandas as pd\n",
    "import ta\n",
    "import glob\n",
    "# Import Built-Ins\n",
    "import logging\n",
    "# Import Third-Party\n",
    "import numpy as np\n",
    "# Import Homebrew\n",
    "import matplotlib.pyplot as plt\n",
    "plt.style.use('bmh')\n",
    "# Init Logging Facilities\n",
    "log = logging.getLogger(__name__)"
   ]
  },
  {
   "cell_type": "markdown",
   "metadata": {},
   "source": [
    "## Calcult Tecnical Indicators"
   ]
  },
  {
   "cell_type": "markdown",
   "metadata": {},
   "source": [
    "### all Indecators from Ta-Lib Except SuperTrend (not Found in Ta-Lib)"
   ]
  },
  {
   "cell_type": "code",
   "execution_count": 312,
   "metadata": {},
   "outputs": [
    {
     "name": "stderr",
     "output_type": "stream",
     "text": [
      "C:\\Python\\lib\\site-packages\\ta\\trend.py:567: RuntimeWarning: invalid value encountered in double_scalars\n",
      "  dip[i] = 100 * (self._dip[i]/self._trs[i])\n",
      "C:\\Python\\lib\\site-packages\\ta\\trend.py:571: RuntimeWarning: invalid value encountered in double_scalars\n",
      "  din[i] = 100 * (self._din[i]/self._trs[i])\n"
     ]
    }
   ],
   "source": [
    "# Load data\n",
    "glob.glob(\"D:\\Stock Market\\Daily\\Test\\*.xlsx\")\n",
    "for f in glob.glob('D:\\Stock Market\\Daily\\Test\\*.xlsx'):\n",
    "    df = pd.read_excel(f)\n",
    "    # Clean nan values\n",
    "    df = ta.utils.dropna(df)\n",
    "    # Add all ta features filling nans values\n",
    "    df = ta.add_all_ta_features(df, \"Open\", \"High\", \"Low\", \"Close\", \"Volume_BTC\", fillna=True)"
   ]
  },
  {
   "cell_type": "markdown",
   "metadata": {},
   "source": [
    "#### Colaction Indicators"
   ]
  },
  {
   "cell_type": "markdown",
   "metadata": {},
   "source": [
    "####  Close & SAR"
   ]
  },
  {
   "cell_type": "code",
   "execution_count": 414,
   "metadata": {},
   "outputs": [
    {
     "name": "stdout",
     "output_type": "stream",
     "text": [
      "22\n"
     ]
    },
    {
     "name": "stderr",
     "output_type": "stream",
     "text": [
      "C:\\Python\\lib\\site-packages\\pandas\\core\\indexing.py:671: SettingWithCopyWarning: \n",
      "A value is trying to be set on a copy of a slice from a DataFrame\n",
      "\n",
      "See the caveats in the documentation: https://pandas.pydata.org/pandas-docs/stable/user_guide/indexing.html#returning-a-view-versus-a-copy\n",
      "  self._setitem_with_indexer(indexer, value)\n"
     ]
    }
   ],
   "source": [
    "df['Signal'] = 0\n",
    "sell = []\n",
    "buy = []\n",
    "date_sell = []\n",
    "date_buy = []\n",
    "indecators_value=[]\n",
    "indecators=['trend_psar']\n",
    "ticker_name=[]\n",
    "for indicator in indecators:\n",
    "    for y in range(10, len(df.index)):\n",
    "        if df[indicator].iloc[y] <= df['Close'].iloc[y] and (df[indicator].iloc[y - 1] > df['Close'].iloc[y - 1]):\n",
    "            first_buy_signal = y\n",
    "            print(first_buy_signal)\n",
    "            break\n",
    "\n",
    "    for x in range(first_buy_signal-1, len(df.index)):\n",
    "        if df[indicator ].iloc[x] >= df['Close'].iloc[x] and (df[indicator ].iloc[x - 1] < df['Close'].iloc[x - 1]):\n",
    "            df['Signal'].iloc[x] = 'Sell'\n",
    "            sell.append(df['Close'].iloc[x])\n",
    "            date_sell.append(df['Date'].iloc[x])\n",
    "\n",
    "        elif df[indicator ].iloc[x] <= df['Close'].iloc[x] and (df[indicator ].iloc[x - 1] > df['Close'].iloc[x - 1]):\n",
    "            df['Signal'].iloc[x] = 'Buy'\n",
    "            buy.append(df['Close'].iloc[x])\n",
    "            date_buy.append(df['Date'].iloc[x])\n",
    "    sell.append(0)\n",
    "    date_sell.append(0)\n",
    "    profits = pd.DataFrame()\n",
    "    profits['Buy'] = buy\n",
    "    profits['Buy Date'] = date_buy\n",
    "    profits['Sell'] = sell\n",
    "    profits['Sell Date'] = date_sell\n",
    "    profits['Profits'] = ((profits['Sell'] - profits['Buy'])/profits['Sell'])*100\n",
    "    profits.drop(profits.tail(1).index,inplace=True) # drop last n rows\n",
    "    sum(profits['Profits'])\n",
    "    indecators_value.append(sum(profits['Profits']))"
   ]
  },
  {
   "cell_type": "code",
   "execution_count": 415,
   "metadata": {},
   "outputs": [
    {
     "data": {
      "text/plain": [
       "['EGX70']"
      ]
     },
     "execution_count": 415,
     "metadata": {},
     "output_type": "execute_result"
    }
   ],
   "source": [
    "tik=df.iloc[0]['TICKER']\n",
    "ticker_name.append(tik)\n",
    "ticker_name"
   ]
  },
  {
   "cell_type": "code",
   "execution_count": 416,
   "metadata": {},
   "outputs": [
    {
     "data": {
      "text/plain": [
       "{'EGX70': 162.75491123121685}"
      ]
     },
     "execution_count": 416,
     "metadata": {},
     "output_type": "execute_result"
    }
   ],
   "source": [
    "#keys=ticker_name\n",
    "#values=indecators_value\n",
    "dictionary = dict(zip(ticker_name, indecators_value))\n",
    "dictionary"
   ]
  },
  {
   "cell_type": "code",
   "execution_count": 417,
   "metadata": {},
   "outputs": [
    {
     "ename": "ValueError",
     "evalue": "If using all scalar values, you must pass an index",
     "output_type": "error",
     "traceback": [
      "\u001b[1;31m---------------------------------------------------------------------------\u001b[0m",
      "\u001b[1;31mValueError\u001b[0m                                Traceback (most recent call last)",
      "\u001b[1;32m<ipython-input-417-b933d95f46a2>\u001b[0m in \u001b[0;36m<module>\u001b[1;34m\u001b[0m\n\u001b[0;32m      1\u001b[0m \u001b[0mleft\u001b[0m \u001b[1;33m=\u001b[0m \u001b[0mpd\u001b[0m\u001b[1;33m.\u001b[0m\u001b[0mDataFrame\u001b[0m\u001b[1;33m(\u001b[0m\u001b[0mindecators\u001b[0m\u001b[1;33m,\u001b[0m\u001b[0mcolumns\u001b[0m\u001b[1;33m=\u001b[0m\u001b[1;33m[\u001b[0m\u001b[1;34m'indecators'\u001b[0m\u001b[1;33m]\u001b[0m\u001b[1;33m)\u001b[0m\u001b[1;33m\u001b[0m\u001b[1;33m\u001b[0m\u001b[0m\n\u001b[1;32m----> 2\u001b[1;33m \u001b[0mright\u001b[0m \u001b[1;33m=\u001b[0m \u001b[0mpd\u001b[0m\u001b[1;33m.\u001b[0m\u001b[0mDataFrame\u001b[0m\u001b[1;33m(\u001b[0m\u001b[0mdictionary\u001b[0m\u001b[1;33m)\u001b[0m\u001b[1;33m\u001b[0m\u001b[1;33m\u001b[0m\u001b[0m\n\u001b[0m\u001b[0;32m      3\u001b[0m \u001b[0mfinal_results\u001b[0m\u001b[1;33m=\u001b[0m\u001b[0mpd\u001b[0m\u001b[1;33m.\u001b[0m\u001b[0mmerge\u001b[0m\u001b[1;33m(\u001b[0m\u001b[0mleft\u001b[0m\u001b[1;33m,\u001b[0m\u001b[0mright\u001b[0m\u001b[1;33m)\u001b[0m\u001b[1;33m\u001b[0m\u001b[1;33m\u001b[0m\u001b[0m\n\u001b[0;32m      4\u001b[0m \u001b[1;33m\u001b[0m\u001b[0m\n\u001b[0;32m      5\u001b[0m \u001b[1;31m#final_results.index = np.arange(1, len(indecators)+1)\u001b[0m\u001b[1;33m\u001b[0m\u001b[1;33m\u001b[0m\u001b[1;33m\u001b[0m\u001b[0m\n",
      "\u001b[1;32mC:\\Python\\lib\\site-packages\\pandas\\core\\frame.py\u001b[0m in \u001b[0;36m__init__\u001b[1;34m(self, data, index, columns, dtype, copy)\u001b[0m\n\u001b[0;32m    433\u001b[0m             )\n\u001b[0;32m    434\u001b[0m         \u001b[1;32melif\u001b[0m \u001b[0misinstance\u001b[0m\u001b[1;33m(\u001b[0m\u001b[0mdata\u001b[0m\u001b[1;33m,\u001b[0m \u001b[0mdict\u001b[0m\u001b[1;33m)\u001b[0m\u001b[1;33m:\u001b[0m\u001b[1;33m\u001b[0m\u001b[1;33m\u001b[0m\u001b[0m\n\u001b[1;32m--> 435\u001b[1;33m             \u001b[0mmgr\u001b[0m \u001b[1;33m=\u001b[0m \u001b[0minit_dict\u001b[0m\u001b[1;33m(\u001b[0m\u001b[0mdata\u001b[0m\u001b[1;33m,\u001b[0m \u001b[0mindex\u001b[0m\u001b[1;33m,\u001b[0m \u001b[0mcolumns\u001b[0m\u001b[1;33m,\u001b[0m \u001b[0mdtype\u001b[0m\u001b[1;33m=\u001b[0m\u001b[0mdtype\u001b[0m\u001b[1;33m)\u001b[0m\u001b[1;33m\u001b[0m\u001b[1;33m\u001b[0m\u001b[0m\n\u001b[0m\u001b[0;32m    436\u001b[0m         \u001b[1;32melif\u001b[0m \u001b[0misinstance\u001b[0m\u001b[1;33m(\u001b[0m\u001b[0mdata\u001b[0m\u001b[1;33m,\u001b[0m \u001b[0mma\u001b[0m\u001b[1;33m.\u001b[0m\u001b[0mMaskedArray\u001b[0m\u001b[1;33m)\u001b[0m\u001b[1;33m:\u001b[0m\u001b[1;33m\u001b[0m\u001b[1;33m\u001b[0m\u001b[0m\n\u001b[0;32m    437\u001b[0m             \u001b[1;32mimport\u001b[0m \u001b[0mnumpy\u001b[0m\u001b[1;33m.\u001b[0m\u001b[0mma\u001b[0m\u001b[1;33m.\u001b[0m\u001b[0mmrecords\u001b[0m \u001b[1;32mas\u001b[0m \u001b[0mmrecords\u001b[0m\u001b[1;33m\u001b[0m\u001b[1;33m\u001b[0m\u001b[0m\n",
      "\u001b[1;32mC:\\Python\\lib\\site-packages\\pandas\\core\\internals\\construction.py\u001b[0m in \u001b[0;36minit_dict\u001b[1;34m(data, index, columns, dtype)\u001b[0m\n\u001b[0;32m    252\u001b[0m             \u001b[0marr\u001b[0m \u001b[1;32mif\u001b[0m \u001b[1;32mnot\u001b[0m \u001b[0mis_datetime64tz_dtype\u001b[0m\u001b[1;33m(\u001b[0m\u001b[0marr\u001b[0m\u001b[1;33m)\u001b[0m \u001b[1;32melse\u001b[0m \u001b[0marr\u001b[0m\u001b[1;33m.\u001b[0m\u001b[0mcopy\u001b[0m\u001b[1;33m(\u001b[0m\u001b[1;33m)\u001b[0m \u001b[1;32mfor\u001b[0m \u001b[0marr\u001b[0m \u001b[1;32min\u001b[0m \u001b[0marrays\u001b[0m\u001b[1;33m\u001b[0m\u001b[1;33m\u001b[0m\u001b[0m\n\u001b[0;32m    253\u001b[0m         ]\n\u001b[1;32m--> 254\u001b[1;33m     \u001b[1;32mreturn\u001b[0m \u001b[0marrays_to_mgr\u001b[0m\u001b[1;33m(\u001b[0m\u001b[0marrays\u001b[0m\u001b[1;33m,\u001b[0m \u001b[0mdata_names\u001b[0m\u001b[1;33m,\u001b[0m \u001b[0mindex\u001b[0m\u001b[1;33m,\u001b[0m \u001b[0mcolumns\u001b[0m\u001b[1;33m,\u001b[0m \u001b[0mdtype\u001b[0m\u001b[1;33m=\u001b[0m\u001b[0mdtype\u001b[0m\u001b[1;33m)\u001b[0m\u001b[1;33m\u001b[0m\u001b[1;33m\u001b[0m\u001b[0m\n\u001b[0m\u001b[0;32m    255\u001b[0m \u001b[1;33m\u001b[0m\u001b[0m\n\u001b[0;32m    256\u001b[0m \u001b[1;33m\u001b[0m\u001b[0m\n",
      "\u001b[1;32mC:\\Python\\lib\\site-packages\\pandas\\core\\internals\\construction.py\u001b[0m in \u001b[0;36marrays_to_mgr\u001b[1;34m(arrays, arr_names, index, columns, dtype)\u001b[0m\n\u001b[0;32m     62\u001b[0m     \u001b[1;31m# figure out the index, if necessary\u001b[0m\u001b[1;33m\u001b[0m\u001b[1;33m\u001b[0m\u001b[1;33m\u001b[0m\u001b[0m\n\u001b[0;32m     63\u001b[0m     \u001b[1;32mif\u001b[0m \u001b[0mindex\u001b[0m \u001b[1;32mis\u001b[0m \u001b[1;32mNone\u001b[0m\u001b[1;33m:\u001b[0m\u001b[1;33m\u001b[0m\u001b[1;33m\u001b[0m\u001b[0m\n\u001b[1;32m---> 64\u001b[1;33m         \u001b[0mindex\u001b[0m \u001b[1;33m=\u001b[0m \u001b[0mextract_index\u001b[0m\u001b[1;33m(\u001b[0m\u001b[0marrays\u001b[0m\u001b[1;33m)\u001b[0m\u001b[1;33m\u001b[0m\u001b[1;33m\u001b[0m\u001b[0m\n\u001b[0m\u001b[0;32m     65\u001b[0m     \u001b[1;32melse\u001b[0m\u001b[1;33m:\u001b[0m\u001b[1;33m\u001b[0m\u001b[1;33m\u001b[0m\u001b[0m\n\u001b[0;32m     66\u001b[0m         \u001b[0mindex\u001b[0m \u001b[1;33m=\u001b[0m \u001b[0mensure_index\u001b[0m\u001b[1;33m(\u001b[0m\u001b[0mindex\u001b[0m\u001b[1;33m)\u001b[0m\u001b[1;33m\u001b[0m\u001b[1;33m\u001b[0m\u001b[0m\n",
      "\u001b[1;32mC:\\Python\\lib\\site-packages\\pandas\\core\\internals\\construction.py\u001b[0m in \u001b[0;36mextract_index\u001b[1;34m(data)\u001b[0m\n\u001b[0;32m    353\u001b[0m \u001b[1;33m\u001b[0m\u001b[0m\n\u001b[0;32m    354\u001b[0m         \u001b[1;32mif\u001b[0m \u001b[1;32mnot\u001b[0m \u001b[0mindexes\u001b[0m \u001b[1;32mand\u001b[0m \u001b[1;32mnot\u001b[0m \u001b[0mraw_lengths\u001b[0m\u001b[1;33m:\u001b[0m\u001b[1;33m\u001b[0m\u001b[1;33m\u001b[0m\u001b[0m\n\u001b[1;32m--> 355\u001b[1;33m             \u001b[1;32mraise\u001b[0m \u001b[0mValueError\u001b[0m\u001b[1;33m(\u001b[0m\u001b[1;34m\"If using all scalar values, you must pass an index\"\u001b[0m\u001b[1;33m)\u001b[0m\u001b[1;33m\u001b[0m\u001b[1;33m\u001b[0m\u001b[0m\n\u001b[0m\u001b[0;32m    356\u001b[0m \u001b[1;33m\u001b[0m\u001b[0m\n\u001b[0;32m    357\u001b[0m         \u001b[1;32mif\u001b[0m \u001b[0mhave_series\u001b[0m\u001b[1;33m:\u001b[0m\u001b[1;33m\u001b[0m\u001b[1;33m\u001b[0m\u001b[0m\n",
      "\u001b[1;31mValueError\u001b[0m: If using all scalar values, you must pass an index"
     ]
    }
   ],
   "source": [
    "    left = pd.DataFrame(indecators,columns=['indecators'])\n",
    "    right = pd.DataFrame(dictionary)\n",
    "    final_results=pd.merge(left,right)\n",
    " \n",
    "    #final_results.index = np.arange(1, len(indecators)+1)"
   ]
  },
  {
   "cell_type": "code",
   "execution_count": 411,
   "metadata": {},
   "outputs": [
    {
     "data": {
      "text/html": [
       "<div>\n",
       "<style scoped>\n",
       "    .dataframe tbody tr th:only-of-type {\n",
       "        vertical-align: middle;\n",
       "    }\n",
       "\n",
       "    .dataframe tbody tr th {\n",
       "        vertical-align: top;\n",
       "    }\n",
       "\n",
       "    .dataframe thead th {\n",
       "        text-align: right;\n",
       "    }\n",
       "</style>\n",
       "<table border=\"1\" class=\"dataframe\">\n",
       "  <thead>\n",
       "    <tr style=\"text-align: right;\">\n",
       "      <th></th>\n",
       "      <th>indecators</th>\n",
       "    </tr>\n",
       "  </thead>\n",
       "  <tbody>\n",
       "    <tr>\n",
       "      <th>0</th>\n",
       "      <td>trend_psar</td>\n",
       "    </tr>\n",
       "  </tbody>\n",
       "</table>\n",
       "</div>"
      ],
      "text/plain": [
       "   indecators\n",
       "0  trend_psar"
      ]
     },
     "execution_count": 411,
     "metadata": {},
     "output_type": "execute_result"
    }
   ],
   "source": [
    "final_results"
   ]
  },
  {
   "cell_type": "markdown",
   "metadata": {},
   "source": [
    "# Final Result"
   ]
  },
  {
   "cell_type": "markdown",
   "metadata": {
    "heading_collapsed": true
   },
   "source": [
    "### Calculate SuperTrend (Becuse it is Not Found in TA-Lib)"
   ]
  },
  {
   "cell_type": "code",
   "execution_count": null,
   "metadata": {
    "hidden": true
   },
   "outputs": [],
   "source": [
    "def EMA(df, base, target, period, alpha=False):\n",
    "    \"\"\"\n",
    "    Function to compute Exponential Moving Average (EMA)\n",
    "    \n",
    "    Args :\n",
    "        df : Pandas DataFrame which contains ['date', 'open', 'high', 'low', 'close', 'volume'] columns\n",
    "        base : String indicating the column name from which the EMA needs to be computed from\n",
    "        target : String indicates the column name to which the computed data needs to be stored\n",
    "        period : Integer indicates the period of computation in terms of number of candles\n",
    "        alpha : Boolean if True indicates to use the formula for computing EMA using alpha (default is False)\n",
    "        \n",
    "    Returns :\n",
    "        df : Pandas DataFrame with new column added with name 'target'\n",
    "    \"\"\"\n",
    "\n",
    "    con = pd.concat([df[:period][base].rolling(window=period).mean(), df[period:][base]])\n",
    "\n",
    "    if (alpha == True):\n",
    "        # (1 - alpha) * previous_val + alpha * current_val where alpha = 1 / period\n",
    "        df[target] = con.ewm(alpha=1 / period, adjust=False).mean()\n",
    "    else:\n",
    "        # ((current_val - previous_val) * coeff) + previous_val where coeff = 2 / (period + 1)\n",
    "        df[target] = con.ewm(span=period, adjust=False).mean()\n",
    "\n",
    "    df[target].fillna(0, inplace=True)\n",
    "    return df\n",
    "def ATR(df, period, ohlc=['Open', 'High', 'Low', 'Close']):\n",
    "    \"\"\"\n",
    "    Function to compute Average True Range (ATR)\n",
    "    \n",
    "    Args :\n",
    "        df : Pandas DataFrame which contains ['date', 'open', 'high', 'low', 'close', 'volume'] columns\n",
    "        period : Integer indicates the period of computation in terms of number of candles\n",
    "        ohlc: List defining OHLC Column names (default ['Open', 'High', 'Low', 'Close'])\n",
    "        \n",
    "    Returns :\n",
    "        df : Pandas DataFrame with new columns added for \n",
    "            True Range (TR)\n",
    "            ATR (ATR_$period)\n",
    "    \"\"\"\n",
    "    atr = 'ATR_' + str(period)\n",
    "\n",
    "    # Compute true range only if it is not computed and stored earlier in the df\n",
    "    if not 'TR' in df.columns:\n",
    "        df['h-l'] = df[ohlc[1]] - df[ohlc[2]]\n",
    "        df['h-yc'] = abs(df[ohlc[1]] - df[ohlc[3]].shift())\n",
    "        df['l-yc'] = abs(df[ohlc[2]] - df[ohlc[3]].shift())\n",
    "\n",
    "        df['TR'] = df[['h-l', 'h-yc', 'l-yc']].max(axis=1)\n",
    "\n",
    "        df.drop(['h-l', 'h-yc', 'l-yc'], inplace=True, axis=1)\n",
    "\n",
    "    # Compute EMA of true range using ATR formula after ignoring first row\n",
    "    EMA(df, 'TR', atr, period, alpha=True)\n",
    "\n",
    "    return df\n",
    "def SuperTrend(df, period, multiplier, ohlc=['Open', 'High', 'Low', 'Close']):\n",
    "    \"\"\"\n",
    "    Function to compute SuperTrend\n",
    "    \n",
    "    Args :\n",
    "        df : Pandas DataFrame which contains ['date', 'open', 'high', 'low', 'close', 'volume'] columns\n",
    "        period : Integer indicates the period of computation in terms of number of candles\n",
    "        multiplier : Integer indicates value to multiply the ATR\n",
    "        ohlc: List defining OHLC Column names (default ['Open', 'High', 'Low', 'Close'])\n",
    "        \n",
    "    Returns :\n",
    "        df : Pandas DataFrame with new columns added for \n",
    "            True Range (TR), ATR (ATR_$period)\n",
    "            SuperTrend (ST_$period_$multiplier)\n",
    "            SuperTrend Direction (STX_$period_$multiplier)\n",
    "    \"\"\"\n",
    "\n",
    "    ATR(df, period, ohlc=ohlc)\n",
    "    atr = 'ATR_' + str(period)\n",
    "    st = 'ST_' + str(period) + '_' + str(multiplier)\n",
    "    stx = 'STX_' + str(period) + '_' + str(multiplier)\n",
    "\n",
    "    \"\"\"\n",
    "    SuperTrend Algorithm :\n",
    "    \n",
    "        BASIC UPPERBAND = (HIGH + LOW) / 2 + Multiplier * ATR\n",
    "        BASIC LOWERBAND = (HIGH + LOW) / 2 - Multiplier * ATR\n",
    "        \n",
    "        FINAL UPPERBAND = IF( (Current BASICUPPERBAND < Previous FINAL UPPERBAND) or (Previous Close > Previous FINAL UPPERBAND))\n",
    "                            THEN (Current BASIC UPPERBAND) ELSE Previous FINALUPPERBAND)\n",
    "        FINAL LOWERBAND = IF( (Current BASIC LOWERBAND > Previous FINAL LOWERBAND) or (Previous Close < Previous FINAL LOWERBAND)) \n",
    "                            THEN (Current BASIC LOWERBAND) ELSE Previous FINAL LOWERBAND)\n",
    "        \n",
    "        SUPERTREND = IF((Previous SUPERTREND = Previous FINAL UPPERBAND) and (Current Close <= Current FINAL UPPERBAND)) THEN\n",
    "                        Current FINAL UPPERBAND\n",
    "                    ELSE\n",
    "                        IF((Previous SUPERTREND = Previous FINAL UPPERBAND) and (Current Close > Current FINAL UPPERBAND)) THEN\n",
    "                            Current FINAL LOWERBAND\n",
    "                        ELSE\n",
    "                            IF((Previous SUPERTREND = Previous FINAL LOWERBAND) and (Current Close >= Current FINAL LOWERBAND)) THEN\n",
    "                                Current FINAL LOWERBAND\n",
    "                            ELSE\n",
    "                                IF((Previous SUPERTREND = Previous FINAL LOWERBAND) and (Current Close < Current FINAL LOWERBAND)) THEN\n",
    "                                    Current FINAL UPPERBAND\n",
    "    \"\"\"\n",
    "\n",
    "    # Compute basic upper and lower bands\n",
    "    df['basic_ub'] = (df[ohlc[1]] + df[ohlc[2]]) / 2 + multiplier * df[atr]\n",
    "    df['basic_lb'] = (df[ohlc[1]] + df[ohlc[2]]) / 2 - multiplier * df[atr]\n",
    "\n",
    "    # Compute final upper and lower bands\n",
    "    df['final_ub'] = 0.00\n",
    "    df['final_lb'] = 0.00\n",
    "    for i in range(period, len(df)):\n",
    "        df['final_ub'].iat[i] = df['basic_ub'].iat[i] if df['basic_ub'].iat[i] < df['final_ub'].iat[i - 1] or df[ohlc[3]].iat[i - 1] > df['final_ub'].iat[i - 1] else df['final_ub'].iat[i - 1]\n",
    "        df['final_lb'].iat[i] = df['basic_lb'].iat[i] if df['basic_lb'].iat[i] > df['final_lb'].iat[i - 1] or df[ohlc[3]].iat[i - 1] < df['final_lb'].iat[i - 1] else df['final_lb'].iat[i - 1]\n",
    "\n",
    "    # Set the Supertrend value\n",
    "    df[st] = 0.00\n",
    "    for i in range(period, len(df)):\n",
    "        df[st].iat[i] = df['final_ub'].iat[i] if df[st].iat[i - 1] == df['final_ub'].iat[i - 1] and df[ohlc[3]].iat[i] <= df['final_ub'].iat[i] else \\\n",
    "            df['final_lb'].iat[i] if df[st].iat[i - 1] == df['final_ub'].iat[i - 1] and df[ohlc[3]].iat[i] > df['final_ub'].iat[i] else \\\n",
    "                df['final_lb'].iat[i] if df[st].iat[i - 1] == df['final_lb'].iat[i - 1] and df[ohlc[3]].iat[i] >= df['final_lb'].iat[i] else \\\n",
    "                    df['final_ub'].iat[i] if df[st].iat[i - 1] == df['final_lb'].iat[i - 1] and df[ohlc[3]].iat[i] < df['final_lb'].iat[i] else 0.00\n",
    "\n",
    "        # Mark the trend direction up/down\n",
    "    df[stx] = np.where((df[st] > 0.00), np.where((df[ohlc[3]] < df[st]), 'down', 'up'), np.NaN)\n",
    "\n",
    "    # Remove basic and final bands from the columns\n",
    "    df.drop(['basic_ub', 'basic_lb', 'final_ub', 'final_lb'], inplace=True, axis=1)\n",
    "\n",
    "    df.fillna(0, inplace=True)\n",
    "\n",
    "    return df"
   ]
  }
 ],
 "metadata": {
  "kernelspec": {
   "display_name": "Python 3",
   "language": "python",
   "name": "python3"
  },
  "language_info": {
   "codemirror_mode": {
    "name": "ipython",
    "version": 3
   },
   "file_extension": ".py",
   "mimetype": "text/x-python",
   "name": "python",
   "nbconvert_exporter": "python",
   "pygments_lexer": "ipython3",
   "version": "3.8.2"
  },
  "latex_envs": {
   "LaTeX_envs_menu_present": true,
   "autoclose": false,
   "autocomplete": true,
   "bibliofile": "biblio.bib",
   "cite_by": "apalike",
   "current_citInitial": 1,
   "eqLabelWithNumbers": true,
   "eqNumInitial": 1,
   "hotkeys": {
    "equation": "Ctrl-E",
    "itemize": "Ctrl-I"
   },
   "labels_anchors": false,
   "latex_user_defs": false,
   "report_style_numbering": false,
   "user_envs_cfg": false
  },
  "toc": {
   "base_numbering": 1,
   "nav_menu": {},
   "number_sections": true,
   "sideBar": true,
   "skip_h1_title": false,
   "title_cell": "Table of Contents",
   "title_sidebar": "Contents",
   "toc_cell": false,
   "toc_position": {},
   "toc_section_display": true,
   "toc_window_display": false
  },
  "varInspector": {
   "cols": {
    "lenName": 16,
    "lenType": 16,
    "lenVar": 40
   },
   "kernels_config": {
    "python": {
     "delete_cmd_postfix": "",
     "delete_cmd_prefix": "del ",
     "library": "var_list.py",
     "varRefreshCmd": "print(var_dic_list())"
    },
    "r": {
     "delete_cmd_postfix": ") ",
     "delete_cmd_prefix": "rm(",
     "library": "var_list.r",
     "varRefreshCmd": "cat(var_dic_list()) "
    }
   },
   "types_to_exclude": [
    "module",
    "function",
    "builtin_function_or_method",
    "instance",
    "_Feature"
   ],
   "window_display": false
  }
 },
 "nbformat": 4,
 "nbformat_minor": 4
}
