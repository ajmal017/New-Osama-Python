{
 "cells": [
  {
   "cell_type": "markdown",
   "metadata": {},
   "source": [
    "# Technical Indicator"
   ]
  },
  {
   "cell_type": "markdown",
   "metadata": {},
   "source": [
    "## import & Notes\n",
    "7-4-2020\n",
    "Indicators as shown by Peter Bakker at:\n",
    "https://www.quantopian.com/posts/technical-analysis-indicators-without-talib-code\n",
    "\"\"\""
   ]
  },
  {
   "cell_type": "code",
   "execution_count": 37,
   "metadata": {},
   "outputs": [],
   "source": [
    "# Import Built-Ins\n",
    "import logging\n",
    "# Import Third-Party\n",
    "import pandas as pd\n",
    "import numpy as np\n",
    "import glob\n",
    "# Import Homebrew\n",
    "import talib\n",
    "import talib as ta\n",
    "import matplotlib.pyplot as plt\n",
    "plt.style.use('bmh')\n",
    "# Init Logging Facilities\n",
    "log = logging.getLogger(__name__)\n",
    "aapl=df"
   ]
  },
  {
   "cell_type": "markdown",
   "metadata": {},
   "source": [
    "#### Columns as added by each function specific to their computations\n",
    "    EMA(df, 'close', 'ema_5', 5)\n",
    "    ATR(df, 14)\n",
    "    SuperTrend(df, 10, 3)\n",
    "    MACD(df)"
   ]
  },
  {
   "cell_type": "markdown",
   "metadata": {},
   "source": [
    "## Important Indicators"
   ]
  },
  {
   "cell_type": "markdown",
   "metadata": {},
   "source": [
    "### SuperTrend"
   ]
  },
  {
   "cell_type": "code",
   "execution_count": 38,
   "metadata": {},
   "outputs": [],
   "source": [
    "def EMA(df, base, target, period, alpha=False):\n",
    "    \"\"\"\n",
    "    Function to compute Exponential Moving Average (EMA)\n",
    "    \n",
    "    Args :\n",
    "        df : Pandas DataFrame which contains ['date', 'open', 'high', 'low', 'close', 'volume'] columns\n",
    "        base : String indicating the column name from which the EMA needs to be computed from\n",
    "        target : String indicates the column name to which the computed data needs to be stored\n",
    "        period : Integer indicates the period of computation in terms of number of candles\n",
    "        alpha : Boolean if True indicates to use the formula for computing EMA using alpha (default is False)\n",
    "        \n",
    "    Returns :\n",
    "        df : Pandas DataFrame with new column added with name 'target'\n",
    "    \"\"\"\n",
    "\n",
    "    con = pd.concat([df[:period][base].rolling(window=period).mean(), df[period:][base]])\n",
    "\n",
    "    if (alpha == True):\n",
    "        # (1 - alpha) * previous_val + alpha * current_val where alpha = 1 / period\n",
    "        df[target] = con.ewm(alpha=1 / period, adjust=False).mean()\n",
    "    else:\n",
    "        # ((current_val - previous_val) * coeff) + previous_val where coeff = 2 / (period + 1)\n",
    "        df[target] = con.ewm(span=period, adjust=False).mean()\n",
    "\n",
    "    df[target].fillna(0, inplace=True)\n",
    "    return df\n",
    "def ATR(df, period, ohlc=['Open', 'High', 'Low', 'Close']):\n",
    "    \"\"\"\n",
    "    Function to compute Average True Range (ATR)\n",
    "    \n",
    "    Args :\n",
    "        df : Pandas DataFrame which contains ['date', 'open', 'high', 'low', 'close', 'volume'] columns\n",
    "        period : Integer indicates the period of computation in terms of number of candles\n",
    "        ohlc: List defining OHLC Column names (default ['Open', 'High', 'Low', 'Close'])\n",
    "        \n",
    "    Returns :\n",
    "        df : Pandas DataFrame with new columns added for \n",
    "            True Range (TR)\n",
    "            ATR (ATR_$period)\n",
    "    \"\"\"\n",
    "    atr = 'ATR_' + str(period)\n",
    "\n",
    "    # Compute true range only if it is not computed and stored earlier in the df\n",
    "    if not 'TR' in df.columns:\n",
    "        df['h-l'] = df[ohlc[1]] - df[ohlc[2]]\n",
    "        df['h-yc'] = abs(df[ohlc[1]] - df[ohlc[3]].shift())\n",
    "        df['l-yc'] = abs(df[ohlc[2]] - df[ohlc[3]].shift())\n",
    "\n",
    "        df['TR'] = df[['h-l', 'h-yc', 'l-yc']].max(axis=1)\n",
    "\n",
    "        df.drop(['h-l', 'h-yc', 'l-yc'], inplace=True, axis=1)\n",
    "\n",
    "    # Compute EMA of true range using ATR formula after ignoring first row\n",
    "    EMA(df, 'TR', atr, period, alpha=True)\n",
    "\n",
    "    return df\n",
    "def SuperTrend(df, period, multiplier, ohlc=['Open', 'High', 'Low', 'Close']):\n",
    "    \"\"\"\n",
    "    Function to compute SuperTrend\n",
    "    \n",
    "    Args :\n",
    "        df : Pandas DataFrame which contains ['date', 'open', 'high', 'low', 'close', 'volume'] columns\n",
    "        period : Integer indicates the period of computation in terms of number of candles\n",
    "        multiplier : Integer indicates value to multiply the ATR\n",
    "        ohlc: List defining OHLC Column names (default ['Open', 'High', 'Low', 'Close'])\n",
    "        \n",
    "    Returns :\n",
    "        df : Pandas DataFrame with new columns added for \n",
    "            True Range (TR), ATR (ATR_$period)\n",
    "            SuperTrend (ST_$period_$multiplier)\n",
    "            SuperTrend Direction (STX_$period_$multiplier)\n",
    "    \"\"\"\n",
    "\n",
    "    ATR(df, period, ohlc=ohlc)\n",
    "    atr = 'ATR_' + str(period)\n",
    "    st = 'ST_' + str(period) + '_' + str(multiplier)\n",
    "    stx = 'STX_' + str(period) + '_' + str(multiplier)\n",
    "\n",
    "    \"\"\"\n",
    "    SuperTrend Algorithm :\n",
    "    \n",
    "        BASIC UPPERBAND = (HIGH + LOW) / 2 + Multiplier * ATR\n",
    "        BASIC LOWERBAND = (HIGH + LOW) / 2 - Multiplier * ATR\n",
    "        \n",
    "        FINAL UPPERBAND = IF( (Current BASICUPPERBAND < Previous FINAL UPPERBAND) or (Previous Close > Previous FINAL UPPERBAND))\n",
    "                            THEN (Current BASIC UPPERBAND) ELSE Previous FINALUPPERBAND)\n",
    "        FINAL LOWERBAND = IF( (Current BASIC LOWERBAND > Previous FINAL LOWERBAND) or (Previous Close < Previous FINAL LOWERBAND)) \n",
    "                            THEN (Current BASIC LOWERBAND) ELSE Previous FINAL LOWERBAND)\n",
    "        \n",
    "        SUPERTREND = IF((Previous SUPERTREND = Previous FINAL UPPERBAND) and (Current Close <= Current FINAL UPPERBAND)) THEN\n",
    "                        Current FINAL UPPERBAND\n",
    "                    ELSE\n",
    "                        IF((Previous SUPERTREND = Previous FINAL UPPERBAND) and (Current Close > Current FINAL UPPERBAND)) THEN\n",
    "                            Current FINAL LOWERBAND\n",
    "                        ELSE\n",
    "                            IF((Previous SUPERTREND = Previous FINAL LOWERBAND) and (Current Close >= Current FINAL LOWERBAND)) THEN\n",
    "                                Current FINAL LOWERBAND\n",
    "                            ELSE\n",
    "                                IF((Previous SUPERTREND = Previous FINAL LOWERBAND) and (Current Close < Current FINAL LOWERBAND)) THEN\n",
    "                                    Current FINAL UPPERBAND\n",
    "    \"\"\"\n",
    "\n",
    "    # Compute basic upper and lower bands\n",
    "    df['basic_ub'] = (df[ohlc[1]] + df[ohlc[2]]) / 2 + multiplier * df[atr]\n",
    "    df['basic_lb'] = (df[ohlc[1]] + df[ohlc[2]]) / 2 - multiplier * df[atr]\n",
    "\n",
    "    # Compute final upper and lower bands\n",
    "    df['final_ub'] = 0.00\n",
    "    df['final_lb'] = 0.00\n",
    "    for i in range(period, len(df)):\n",
    "        df['final_ub'].iat[i] = df['basic_ub'].iat[i] if df['basic_ub'].iat[i] < df['final_ub'].iat[i - 1] or df[ohlc[3]].iat[i - 1] > df['final_ub'].iat[i - 1] else df['final_ub'].iat[i - 1]\n",
    "        df['final_lb'].iat[i] = df['basic_lb'].iat[i] if df['basic_lb'].iat[i] > df['final_lb'].iat[i - 1] or df[ohlc[3]].iat[i - 1] < df['final_lb'].iat[i - 1] else df['final_lb'].iat[i - 1]\n",
    "\n",
    "    # Set the Supertrend value\n",
    "    df[st] = 0.00\n",
    "    for i in range(period, len(df)):\n",
    "        df[st].iat[i] = df['final_ub'].iat[i] if df[st].iat[i - 1] == df['final_ub'].iat[i - 1] and df[ohlc[3]].iat[i] <= df['final_ub'].iat[i] else \\\n",
    "            df['final_lb'].iat[i] if df[st].iat[i - 1] == df['final_ub'].iat[i - 1] and df[ohlc[3]].iat[i] > df['final_ub'].iat[i] else \\\n",
    "                df['final_lb'].iat[i] if df[st].iat[i - 1] == df['final_lb'].iat[i - 1] and df[ohlc[3]].iat[i] >= df['final_lb'].iat[i] else \\\n",
    "                    df['final_ub'].iat[i] if df[st].iat[i - 1] == df['final_lb'].iat[i - 1] and df[ohlc[3]].iat[i] < df['final_lb'].iat[i] else 0.00\n",
    "\n",
    "        # Mark the trend direction up/down\n",
    "    df[stx] = np.where((df[st] > 0.00), np.where((df[ohlc[3]] < df[st]), 'down', 'up'), np.NaN)\n",
    "\n",
    "    # Remove basic and final bands from the columns\n",
    "    df.drop(['basic_ub', 'basic_lb', 'final_ub', 'final_lb'], inplace=True, axis=1)\n",
    "\n",
    "    df.fillna(0, inplace=True)\n",
    "\n",
    "    return df"
   ]
  },
  {
   "cell_type": "markdown",
   "metadata": {},
   "source": [
    "### Parabolic Sar"
   ]
  },
  {
   "cell_type": "code",
   "execution_count": 39,
   "metadata": {},
   "outputs": [],
   "source": [
    "def parabolicsar(df):\n",
    "    df['SAR'] = talib.SAR(df.High, df.Low, acceleration=0.02, maximum=0.2)\n",
    "    return df"
   ]
  },
  {
   "cell_type": "markdown",
   "metadata": {},
   "source": [
    "### MACD"
   ]
  },
  {
   "cell_type": "code",
   "execution_count": 40,
   "metadata": {},
   "outputs": [],
   "source": [
    "def MACD(df, fastEMA=12, slowEMA=26, signal=9, base='Close'):\n",
    "    \"\"\"\n",
    "    Function to compute Moving Average Convergence Divergence (MACD)\n",
    "    \n",
    "    Args :\n",
    "        df : Pandas DataFrame which contains ['date', 'open', 'high', 'low', 'close', 'volume'] columns\n",
    "        fastEMA : Integer indicates faster EMA\n",
    "        slowEMA : Integer indicates slower EMA\n",
    "        signal : Integer indicates the signal generator for MACD\n",
    "        base : String indicating the column name from which the MACD needs to be computed from (Default Close)\n",
    "        \n",
    "    Returns :\n",
    "        df : Pandas DataFrame with new columns added for \n",
    "            Fast EMA (ema_$fastEMA)\n",
    "            Slow EMA (ema_$slowEMA)\n",
    "            MACD (macd_$fastEMA_$slowEMA_$signal)\n",
    "            MACD Signal (signal_$fastEMA_$slowEMA_$signal)\n",
    "            MACD Histogram (MACD (hist_$fastEMA_$slowEMA_$signal)) \n",
    "    \"\"\"\n",
    "\n",
    "    fE = \"ema_\" + str(fastEMA)\n",
    "    sE = \"ema_\" + str(slowEMA)\n",
    "    macd = \"macd_\" + str(fastEMA) + \"_\" + str(slowEMA) + \"_\" + str(signal)\n",
    "    sig = \"signal_\" + str(fastEMA) + \"_\" + str(slowEMA) + \"_\" + str(signal)\n",
    "    hist = \"hist_\" + str(fastEMA) + \"_\" + str(slowEMA) + \"_\" + str(signal)\n",
    "\n",
    "    # Compute fast and slow EMA    \n",
    "    EMA(df, base, fE, fastEMA)\n",
    "    EMA(df, base, sE, slowEMA)\n",
    "\n",
    "    # Compute MACD\n",
    "    df[macd] = np.where(np.logical_and(np.logical_not(df[fE] == 0), np.logical_not(df[sE] == 0)), df[fE] - df[sE], 0)\n",
    "\n",
    "    # Compute MACD Signal\n",
    "    EMA(df, macd, sig, signal)\n",
    "\n",
    "    # Compute MACD Histogram\n",
    "    df[hist] = np.where(np.logical_and(np.logical_not(df[macd] == 0), np.logical_not(df[sig] == 0)), df[macd] - df[sig], 0)\n",
    "\n",
    "    return df"
   ]
  },
  {
   "cell_type": "markdown",
   "metadata": {},
   "source": [
    "### BBand"
   ]
  },
  {
   "cell_type": "code",
   "execution_count": 41,
   "metadata": {},
   "outputs": [],
   "source": [
    "def BBand(df, base='Close', period=20, multiplier=2):\n",
    "    \"\"\"\n",
    "    Function to compute Bollinger Band (BBand)\n",
    "    \n",
    "    Args :\n",
    "        df : Pandas DataFrame which contains ['date', 'open', 'high', 'low', 'close', 'volume'] columns\n",
    "        base : String indicating the column name from which the MACD needs to be computed from (Default Close)\n",
    "        period : Integer indicates the period of computation in terms of number of candles\n",
    "        multiplier : Integer indicates value to multiply the SD\n",
    "        \n",
    "    Returns :\n",
    "        df : Pandas DataFrame with new columns added for \n",
    "            Upper Band (UpperBB_$period_$multiplier)\n",
    "            Lower Band (LowerBB_$period_$multiplier)\n",
    "    \"\"\"\n",
    "\n",
    "    upper = 'UpperBB_' + str(period) + '_' + str(multiplier)\n",
    "    lower = 'LowerBB_' + str(period) + '_' + str(multiplier)\n",
    "\n",
    "    sma = df[base].rolling(window=period, min_periods=period - 1).mean()\n",
    "    sd = df[base].rolling(window=period).std()\n",
    "    df[upper] = sma + (multiplier * sd)\n",
    "    df[lower] = sma - (multiplier * sd)\n",
    "\n",
    "    df[upper].fillna(0, inplace=True)\n",
    "    df[lower].fillna(0, inplace=True)\n",
    "\n",
    "    return df"
   ]
  },
  {
   "cell_type": "markdown",
   "metadata": {},
   "source": [
    "### RSI"
   ]
  },
  {
   "cell_type": "code",
   "execution_count": 42,
   "metadata": {},
   "outputs": [],
   "source": [
    "def RSI(df, base=\"Close\", period=21):\n",
    "    \"\"\"\n",
    "    Function to compute Relative Strength Index (RSI)\n",
    "    \n",
    "    Args :\n",
    "        df : Pandas DataFrame which contains ['date', 'open', 'high', 'low', 'close', 'volume'] columns\n",
    "        base : String indicating the column name from which the MACD needs to be computed from (Default Close)\n",
    "        period : Integer indicates the period of computation in terms of number of candles\n",
    "        \n",
    "    Returns :\n",
    "        df : Pandas DataFrame with new columns added for \n",
    "            Relative Strength Index (RSI_$period)\n",
    "    \"\"\"\n",
    "\n",
    "    delta = df[base].diff()\n",
    "    up, down = delta.copy(), delta.copy()\n",
    "\n",
    "    up[up < 0] = 0\n",
    "    down[down > 0] = 0\n",
    "\n",
    "    rUp = up.ewm(com=period - 1, adjust=False).mean()\n",
    "    rDown = down.ewm(com=period - 1, adjust=False).mean().abs()\n",
    "\n",
    "    df['RSI_' + str(period)] = 100 - 100 / (1 + rUp / rDown)\n",
    "    df['RSI_' + str(period)].fillna(0, inplace=True)\n",
    "\n",
    "    return df"
   ]
  },
  {
   "cell_type": "markdown",
   "metadata": {},
   "source": [
    "### CCI"
   ]
  },
  {
   "cell_type": "code",
   "execution_count": 43,
   "metadata": {},
   "outputs": [],
   "source": [
    "def commodity_channel_index(df, n):\n",
    "    \"\"\"Calculate Commodity Channel Index for given data.\n",
    "    \n",
    "    :param df: pandas.DataFrame\n",
    "    :param n: \n",
    "    :return: pandas.DataFrame\n",
    "    \"\"\"\n",
    "    PP = (df['High'] + df['Low'] + df['Close']) / 3\n",
    "    CCI = pd.Series((PP - PP.rolling(n, min_periods=n).mean()) / PP.rolling(n, min_periods=n).std(),\n",
    "                    name='CCI_' + str(n))\n",
    "    df = df.join(CCI)\n",
    "    return df"
   ]
  },
  {
   "cell_type": "markdown",
   "metadata": {},
   "source": [
    "### Stochastic Oscillator_k"
   ]
  },
  {
   "cell_type": "code",
   "execution_count": 44,
   "metadata": {},
   "outputs": [],
   "source": [
    "def stochastic_oscillator_k(df):\n",
    "    \"\"\"Calculate stochastic oscillator %K for given data.\n",
    "    \n",
    "    :param df: pandas.DataFrame\n",
    "    :return: pandas.DataFrame\n",
    "    \"\"\"\n",
    "    SOk = pd.Series((df['Close'] - df['Low']) / (df['High'] - df['Low']), name='SO%k')\n",
    "    df = df.join(SOk)\n",
    "    return df"
   ]
  },
  {
   "cell_type": "markdown",
   "metadata": {},
   "source": [
    "###  Stochastic Oscillator_d"
   ]
  },
  {
   "cell_type": "code",
   "execution_count": 45,
   "metadata": {},
   "outputs": [],
   "source": [
    "def stochastic_oscillator_d(df, n):\n",
    "    \"\"\"Calculate stochastic oscillator %D for given data.\n",
    "    :param df: pandas.DataFrame\n",
    "    :param n: \n",
    "    :return: pandas.DataFrame\n",
    "    \"\"\"\n",
    "    SOk = pd.Series((df['Close'] - df['Low']) / (df['High'] - df['Low']), name='SO%k')\n",
    "    SOd = pd.Series(SOk.ewm(span=n, min_periods=n).mean(), name='SO%d_' + str(n))\n",
    "    df = df.join(SOd)\n",
    "    return df"
   ]
  },
  {
   "cell_type": "markdown",
   "metadata": {},
   "source": [
    "### Pivot Points, Supports and Resistances"
   ]
  },
  {
   "cell_type": "code",
   "execution_count": 46,
   "metadata": {},
   "outputs": [],
   "source": [
    "def ppsr(df):\n",
    "    \"\"\"Calculate Pivot Points, Supports and Resistances for given data\n",
    "    \n",
    "    :param df: pandas.DataFrame\n",
    "    :return: pandas.DataFrame\n",
    "    \"\"\"\n",
    "    PP = pd.Series((df['High'] + df['Low'] + df['Close']) / 3)\n",
    "    R1 = pd.Series(2 * PP - df['Low'])\n",
    "    S1 = pd.Series(2 * PP - df['High'])\n",
    "    R2 = pd.Series(PP + df['High'] - df['Low'])\n",
    "    S2 = pd.Series(PP - df['High'] + df['Low'])\n",
    "    R3 = pd.Series(df['High'] + 2 * (PP - df['Low']))\n",
    "    S3 = pd.Series(df['Low'] - 2 * (df['High'] - PP))\n",
    "    psr = {'PP': PP, 'R1': R1, 'S1': S1, 'R2': R2, 'S2': S2, 'R3': R3, 'S3': S3}\n",
    "    PSR = pd.DataFrame(psr)\n",
    "    df = df.join(PSR)\n",
    "    return df"
   ]
  },
  {
   "cell_type": "code",
   "execution_count": 47,
   "metadata": {},
   "outputs": [],
   "source": [
    "### SuperTraend"
   ]
  },
  {
   "cell_type": "code",
   "execution_count": null,
   "metadata": {},
   "outputs": [],
   "source": []
  },
  {
   "cell_type": "code",
   "execution_count": null,
   "metadata": {},
   "outputs": [],
   "source": []
  },
  {
   "cell_type": "markdown",
   "metadata": {
    "heading_collapsed": true
   },
   "source": [
    "## Other indicator"
   ]
  },
  {
   "cell_type": "code",
   "execution_count": 7,
   "metadata": {
    "hidden": true
   },
   "outputs": [],
   "source": [
    "def moving_average(df, n):\n",
    "    \"\"\"Calculate the moving average for the given data.\n",
    "    \n",
    "    :param df: pandas.DataFrame\n",
    "    :param n: \n",
    "    :return: pandas.DataFrame\n",
    "    \"\"\"\n",
    "    MA = pd.Series(df['Close'].rolling(n, min_periods=n).mean(), name='MA_' + str(n))\n",
    "    df = df.join(MA)\n",
    "    return df"
   ]
  },
  {
   "cell_type": "code",
   "execution_count": 8,
   "metadata": {
    "hidden": true
   },
   "outputs": [],
   "source": [
    "def exponential_moving_average(df, n):\n",
    "    \"\"\"\n",
    "    \n",
    "    :param df: pandas.DataFrame\n",
    "    :param n: \n",
    "    :return: pandas.DataFrame\n",
    "    \"\"\"\n",
    "    EMA = pd.Series(df['Close'].ewm(span=n, min_periods=n).mean(), name='EMA_' + str(n))\n",
    "    df = df.join(EMA)\n",
    "    return df"
   ]
  },
  {
   "cell_type": "code",
   "execution_count": 9,
   "metadata": {
    "hidden": true
   },
   "outputs": [],
   "source": [
    "def momentum(df, n):\n",
    "    \"\"\"\n",
    "    \n",
    "    :param df: pandas.DataFrame \n",
    "    :param n: \n",
    "    :return: pandas.DataFrame\n",
    "    \"\"\"\n",
    "    M = pd.Series(df['Close'].diff(n), name='Momentum_' + str(n))\n",
    "    df = df.join(M)\n",
    "    return df"
   ]
  },
  {
   "cell_type": "code",
   "execution_count": 10,
   "metadata": {
    "hidden": true
   },
   "outputs": [],
   "source": [
    "def rate_of_change(df, n):\n",
    "    \"\"\"\n",
    "    \n",
    "    :param df: pandas.DataFrame\n",
    "    :param n: \n",
    "    :return: pandas.DataFrame\n",
    "    \"\"\"\n",
    "    M = df['Close'].diff(n - 1)\n",
    "    N = df['Close'].shift(n - 1)\n",
    "    ROC = pd.Series(M / N, name='ROC_' + str(n))\n",
    "    df = df.join(ROC)\n",
    "    return df"
   ]
  },
  {
   "cell_type": "code",
   "execution_count": 11,
   "metadata": {
    "hidden": true
   },
   "outputs": [],
   "source": [
    "def average_true_range(df, n):\n",
    "    \"\"\"\n",
    "    \n",
    "    :param df: pandas.DataFrame\n",
    "    :param n: \n",
    "    :return: pandas.DataFrame\n",
    "    \"\"\"\n",
    "    i = 0\n",
    "    TR_l = [0]\n",
    "    while i < df.index[-1]:\n",
    "        TR = max(df.loc[i + 1, 'High'], df.loc[i, 'Close']) - min(df.loc[i + 1, 'Low'], df.loc[i, 'Close'])\n",
    "        TR_l.append(TR)\n",
    "        i = i + 1\n",
    "    TR_s = pd.Series(TR_l)\n",
    "    ATR = pd.Series(TR_s.ewm(span=n, min_periods=n).mean(), name='ATR_' + str(n))\n",
    "    df = df.join(ATR)\n",
    "    return df"
   ]
  },
  {
   "cell_type": "code",
   "execution_count": 12,
   "metadata": {
    "hidden": true
   },
   "outputs": [],
   "source": [
    "def bollinger_bands(df, n):\n",
    "    \"\"\"\n",
    "\n",
    "    :param df: pandas.DataFrame\n",
    "    :param n:\n",
    "    :return: pandas.DataFrame\n",
    "    \"\"\"\n",
    "    MA = pd.Series(df['Close'].rolling(n, min_periods=n).mean())\n",
    "    MSD = pd.Series(df['Close'].rolling(n, min_periods=n).std())\n",
    "    b1 = 4 * MSD / MA\n",
    "    B1 = pd.Series(b1, name='BollingerB_' + str(n))\n",
    "    df = df.join(B1)\n",
    "    b2 = (df['Close'] - MA + 2 * MSD) / (4 * MSD)\n",
    "    B2 = pd.Series(b2, name='Bollinger%b_' + str(n))\n",
    "    df = df.join(B2)\n",
    "    return df"
   ]
  },
  {
   "cell_type": "code",
   "execution_count": 13,
   "metadata": {
    "hidden": true
   },
   "outputs": [],
   "source": [
    "def trix(df, n):\n",
    "    \"\"\"Calculate TRIX for given data.\n",
    "    \n",
    "    :param df: pandas.DataFrame\n",
    "    :param n: \n",
    "    :return: pandas.DataFrame\n",
    "    \"\"\"\n",
    "    EX1 = df['Close'].ewm(span=n, min_periods=n).mean()\n",
    "    EX2 = EX1.ewm(span=n, min_periods=n).mean()\n",
    "    EX3 = EX2.ewm(span=n, min_periods=n).mean()\n",
    "    i = 0\n",
    "    ROC_l = [np.nan]\n",
    "    while i + 1 <= df.index[-1]:\n",
    "        ROC = (EX3[i + 1] - EX3[i]) / EX3[i]\n",
    "        ROC_l.append(ROC)\n",
    "        i = i + 1\n",
    "    Trix = pd.Series(ROC_l, name='Trix_' + str(n))\n",
    "    df = df.join(Trix)\n",
    "    return df"
   ]
  },
  {
   "cell_type": "code",
   "execution_count": 14,
   "metadata": {
    "hidden": true
   },
   "outputs": [],
   "source": [
    "def average_directional_movement_index(df, n, n_ADX):\n",
    "    \"\"\"Calculate the Average Directional Movement Index for given data.\n",
    "    \n",
    "    :param df: pandas.DataFrame\n",
    "    :param n: \n",
    "    :param n_ADX: \n",
    "    :return: pandas.DataFrame\n",
    "    \"\"\"\n",
    "    i = 0\n",
    "    UpI = []\n",
    "    DoI = []\n",
    "    while i + 1 <= df.index[-1]:\n",
    "        UpMove = df.loc[i + 1, 'High'] - df.loc[i, 'High']\n",
    "        DoMove = df.loc[i, 'Low'] - df.loc[i + 1, 'Low']\n",
    "        if UpMove > DoMove and UpMove > 0:\n",
    "            UpD = UpMove\n",
    "        else:\n",
    "            UpD = 0\n",
    "        UpI.append(UpD)\n",
    "        if DoMove > UpMove and DoMove > 0:\n",
    "            DoD = DoMove\n",
    "        else:\n",
    "            DoD = 0\n",
    "        DoI.append(DoD)\n",
    "        i = i + 1\n",
    "    i = 0\n",
    "    TR_l = [0]\n",
    "    while i < df.index[-1]:\n",
    "        TR = max(df.loc[i + 1, 'High'], df.loc[i, 'Close']) - min(df.loc[i + 1, 'Low'], df.loc[i, 'Close'])\n",
    "        TR_l.append(TR)\n",
    "        i = i + 1\n",
    "    TR_s = pd.Series(TR_l)\n",
    "    ATR = pd.Series(TR_s.ewm(span=n, min_periods=n).mean())\n",
    "    UpI = pd.Series(UpI)\n",
    "    DoI = pd.Series(DoI)\n",
    "    PosDI = pd.Series(UpI.ewm(span=n, min_periods=n).mean() / ATR)\n",
    "    NegDI = pd.Series(DoI.ewm(span=n, min_periods=n).mean() / ATR)\n",
    "    ADX = pd.Series((abs(PosDI - NegDI) / (PosDI + NegDI)).ewm(span=n_ADX, min_periods=n_ADX).mean(),\n",
    "                    name='ADX_' + str(n) + '_' + str(n_ADX))\n",
    "    df = df.join(ADX)\n",
    "    return df\n"
   ]
  },
  {
   "cell_type": "code",
   "execution_count": 15,
   "metadata": {
    "hidden": true
   },
   "outputs": [],
   "source": [
    "def macd(df, n_fast, n_slow):\n",
    "    \"\"\"Calculate MACD, MACD Signal and MACD difference\n",
    "    \n",
    "    :param df: pandas.DataFrame\n",
    "    :param n_fast: \n",
    "    :param n_slow: \n",
    "    :return: pandas.DataFrame\n",
    "    \"\"\"\n",
    "    EMAfast = pd.Series(df['Close'].ewm(span=n_fast, min_periods=n_slow).mean())\n",
    "    EMAslow = pd.Series(df['Close'].ewm(span=n_slow, min_periods=n_slow).mean())\n",
    "    MACD = pd.Series(EMAfast - EMAslow, name='MACD_' + str(n_fast) + '_' + str(n_slow))\n",
    "    MACDsign = pd.Series(MACD.ewm(span=9, min_periods=9).mean(), name='MACDsign_' + str(n_fast) + '_' + str(n_slow))\n",
    "    MACDdiff = pd.Series(MACD - MACDsign, name='MACDdiff_' + str(n_fast) + '_' + str(n_slow))\n",
    "    df = df.join(MACD)\n",
    "    df = df.join(MACDsign)\n",
    "    df = df.join(MACDdiff)\n",
    "    return df\n"
   ]
  },
  {
   "cell_type": "code",
   "execution_count": 16,
   "metadata": {
    "hidden": true
   },
   "outputs": [],
   "source": [
    "def mass_index(df):\n",
    "    \"\"\"Calculate the Mass Index for given data.\n",
    "    \n",
    "    :param df: pandas.DataFrame\n",
    "    :return: pandas.DataFrame\n",
    "    \"\"\"\n",
    "    Range = df['High'] - df['Low']\n",
    "    EX1 = Range.ewm(span=9, min_periods=9).mean()\n",
    "    EX2 = EX1.ewm(span=9, min_periods=9).mean()\n",
    "    Mass = EX1 / EX2\n",
    "    MassI = pd.Series(Mass.rolling(25).sum(), name='Mass Index')\n",
    "    df = df.join(MassI)\n",
    "    return df"
   ]
  },
  {
   "cell_type": "code",
   "execution_count": 17,
   "metadata": {
    "hidden": true
   },
   "outputs": [],
   "source": [
    "def vortex_indicator(df, n):\n",
    "    \"\"\"Calculate the Vortex Indicator for given data.\n",
    "    \n",
    "    Vortex Indicator described here:\n",
    "        http://www.vortexindicator.com/VFX_VORTEX.PDF\n",
    "    :param df: pandas.DataFrame\n",
    "    :param n: \n",
    "    :return: pandas.DataFrame\n",
    "    \"\"\"\n",
    "    i = 0\n",
    "    TR = [0]\n",
    "    while i < df.index[-1]:\n",
    "        Range = max(df.loc[i + 1, 'High'], df.loc[i, 'Close']) - min(df.loc[i + 1, 'Low'], df.loc[i, 'Close'])\n",
    "        TR.append(Range)\n",
    "        i = i + 1\n",
    "    i = 0\n",
    "    VM = [0]\n",
    "    while i < df.index[-1]:\n",
    "        Range = abs(df.loc[i + 1, 'High'] - df.loc[i, 'Low']) - abs(df.loc[i + 1, 'Low'] - df.loc[i, 'High'])\n",
    "        VM.append(Range)\n",
    "        i = i + 1\n",
    "    VI = pd.Series(pd.Series(VM).rolling(n).sum() / pd.Series(TR).rolling(n).sum(), name='Vortex_' + str(n))\n",
    "    df = df.join(VI)\n",
    "    return df"
   ]
  },
  {
   "cell_type": "code",
   "execution_count": 18,
   "metadata": {
    "hidden": true
   },
   "outputs": [],
   "source": [
    "def kst_oscillator(df, r1, r2, r3, r4, n1, n2, n3, n4):\n",
    "    \"\"\"Calculate KST Oscillator for given data.\n",
    "    \n",
    "    :param df: pandas.DataFrame\n",
    "    :param r1: \n",
    "    :param r2: \n",
    "    :param r3: \n",
    "    :param r4: \n",
    "    :param n1: \n",
    "    :param n2: \n",
    "    :param n3: \n",
    "    :param n4: \n",
    "    :return: pandas.DataFrame\n",
    "    \"\"\"\n",
    "    M = df['Close'].diff(r1 - 1)\n",
    "    N = df['Close'].shift(r1 - 1)\n",
    "    ROC1 = M / N\n",
    "    M = df['Close'].diff(r2 - 1)\n",
    "    N = df['Close'].shift(r2 - 1)\n",
    "    ROC2 = M / N\n",
    "    M = df['Close'].diff(r3 - 1)\n",
    "    N = df['Close'].shift(r3 - 1)\n",
    "    ROC3 = M / N\n",
    "    M = df['Close'].diff(r4 - 1)\n",
    "    N = df['Close'].shift(r4 - 1)\n",
    "    ROC4 = M / N\n",
    "    KST = pd.Series(\n",
    "        ROC1.rolling(n1).sum() + ROC2.rolling(n2).sum() * 2 + ROC3.rolling(n3).sum() * 3 + ROC4.rolling(n4).sum() * 4,\n",
    "        name='KST_' + str(r1) + '_' + str(r2) + '_' + str(r3) + '_' + str(r4) + '_' + str(n1) + '_' + str(\n",
    "            n2) + '_' + str(n3) + '_' + str(n4))\n",
    "    df = df.join(KST)\n",
    "    return df\n"
   ]
  },
  {
   "cell_type": "code",
   "execution_count": 19,
   "metadata": {
    "hidden": true
   },
   "outputs": [],
   "source": [
    "def relative_strength_index(df, n):\n",
    "    \"\"\"Calculate Relative Strength Index(RSI) for given data.\n",
    "    \n",
    "    :param df: pandas.DataFrame\n",
    "    :param n: \n",
    "    :return: pandas.DataFrame\n",
    "    \"\"\"\n",
    "    i = 0\n",
    "    UpI = [0]\n",
    "    DoI = [0]\n",
    "    while i + 1 <= df.index[-1]:\n",
    "        UpMove = df.loc[i + 1, 'High'] - df.loc[i, 'High']\n",
    "        DoMove = df.loc[i, 'Low'] - df.loc[i + 1, 'Low']\n",
    "        if UpMove > DoMove and UpMove > 0:\n",
    "            UpD = UpMove\n",
    "        else:\n",
    "            UpD = 0\n",
    "        UpI.append(UpD)\n",
    "        if DoMove > UpMove and DoMove > 0:\n",
    "            DoD = DoMove\n",
    "        else:\n",
    "            DoD = 0\n",
    "        DoI.append(DoD)\n",
    "        i = i + 1\n",
    "    UpI = pd.Series(UpI)\n",
    "    DoI = pd.Series(DoI)\n",
    "    PosDI = pd.Series(UpI.ewm(span=n, min_periods=n).mean())\n",
    "    NegDI = pd.Series(DoI.ewm(span=n, min_periods=n).mean())\n",
    "    RSI = pd.Series(PosDI / (PosDI + NegDI), name='RSI_' + str(n))\n",
    "    df = df.join(RSI)\n",
    "    return df"
   ]
  },
  {
   "cell_type": "code",
   "execution_count": 20,
   "metadata": {
    "hidden": true
   },
   "outputs": [],
   "source": [
    "def true_strength_index(df, r, s):\n",
    "    \"\"\"Calculate True Strength Index (TSI) for given data.\n",
    "    \n",
    "    :param df: pandas.DataFrame\n",
    "    :param r: \n",
    "    :param s: \n",
    "    :return: pandas.DataFrame\n",
    "    \"\"\"\n",
    "    M = pd.Series(df['Close'].diff(1))\n",
    "    aM = abs(M)\n",
    "    EMA1 = pd.Series(M.ewm(span=r, min_periods=r).mean())\n",
    "    aEMA1 = pd.Series(aM.ewm(span=r, min_periods=r).mean())\n",
    "    EMA2 = pd.Series(EMA1.ewm(span=s, min_periods=s).mean())\n",
    "    aEMA2 = pd.Series(aEMA1.ewm(span=s, min_periods=s).mean())\n",
    "    TSI = pd.Series(EMA2 / aEMA2, name='TSI_' + str(r) + '_' + str(s))\n",
    "    df = df.join(TSI)\n",
    "    return df"
   ]
  },
  {
   "cell_type": "code",
   "execution_count": 21,
   "metadata": {
    "hidden": true
   },
   "outputs": [],
   "source": [
    "def accumulation_distribution(df, n):\n",
    "    \"\"\"Calculate Accumulation/Distribution for given data.\n",
    "    \n",
    "    :param df: pandas.DataFrame\n",
    "    :param n: \n",
    "    :return: pandas.DataFrame\n",
    "    \"\"\"\n",
    "    ad = (2 * df['Close'] - df['High'] - df['Low']) / (df['High'] - df['Low']) * df['Volume']\n",
    "    M = ad.diff(n - 1)\n",
    "    N = ad.shift(n - 1)\n",
    "    ROC = M / N\n",
    "    AD = pd.Series(ROC, name='Acc/Dist_ROC_' + str(n))\n",
    "    df = df.join(AD)\n",
    "    return df"
   ]
  },
  {
   "cell_type": "code",
   "execution_count": 22,
   "metadata": {
    "hidden": true
   },
   "outputs": [],
   "source": [
    "def chaikin_oscillator(df):\n",
    "    \"\"\"Calculate Chaikin Oscillator for given data.\n",
    "    \n",
    "    :param df: pandas.DataFrame\n",
    "    :return: pandas.DataFrame\n",
    "    \"\"\"\n",
    "    ad = (2 * df['Close'] - df['High'] - df['Low']) / (df['High'] - df['Low']) * df['Volume']\n",
    "    Chaikin = pd.Series(ad.ewm(span=3, min_periods=3).mean() - ad.ewm(span=10, min_periods=10).mean(), name='Chaikin')\n",
    "    df = df.join(Chaikin)\n",
    "    return df"
   ]
  },
  {
   "cell_type": "code",
   "execution_count": 23,
   "metadata": {
    "hidden": true
   },
   "outputs": [],
   "source": [
    "def money_flow_index(df, n):\n",
    "    \"\"\"Calculate Money Flow Index and Ratio for given data.\n",
    "    \n",
    "    :param df: pandas.DataFrame\n",
    "    :param n: \n",
    "    :return: pandas.DataFrame\n",
    "    \"\"\"\n",
    "    PP = (df['High'] + df['Low'] + df['Close']) / 3\n",
    "    i = 0\n",
    "    PosMF = [0]\n",
    "    while i < df.index[-1]:\n",
    "        if PP[i + 1] > PP[i]:\n",
    "            PosMF.append(PP[i + 1] * df.loc[i + 1, 'Volume'])\n",
    "        else:\n",
    "            PosMF.append(0)\n",
    "        i = i + 1\n",
    "    PosMF = pd.Series(PosMF)\n",
    "    TotMF = PP * df['Volume']\n",
    "    MFR = pd.Series(PosMF / TotMF)\n",
    "    MFI = pd.Series(MFR.rolling(n, min_periods=n).mean(), name='MFI_' + str(n))\n",
    "    df = df.join(MFI)\n",
    "    return df"
   ]
  },
  {
   "cell_type": "code",
   "execution_count": 24,
   "metadata": {
    "hidden": true
   },
   "outputs": [],
   "source": [
    "def on_balance_volume(df, n):\n",
    "    \"\"\"Calculate On-Balance Volume for given data.\n",
    "    \n",
    "    :param df: pandas.DataFrame\n",
    "    :param n: \n",
    "    :return: pandas.DataFrame\n",
    "    \"\"\"\n",
    "    i = 0\n",
    "    OBV = [0]\n",
    "    while i < df.index[-1]:\n",
    "        if df.loc[i + 1, 'Close'] - df.loc[i, 'Close'] > 0:\n",
    "            OBV.append(df.loc[i + 1, 'Volume'])\n",
    "        if df.loc[i + 1, 'Close'] - df.loc[i, 'Close'] == 0:\n",
    "            OBV.append(0)\n",
    "        if df.loc[i + 1, 'Close'] - df.loc[i, 'Close'] < 0:\n",
    "            OBV.append(-df.loc[i + 1, 'Volume'])\n",
    "        i = i + 1\n",
    "    OBV = pd.Series(OBV)\n",
    "    OBV_ma = pd.Series(OBV.rolling(n, min_periods=n).mean(), name='OBV_' + str(n))\n",
    "    df = df.join(OBV_ma)\n",
    "    return df"
   ]
  },
  {
   "cell_type": "code",
   "execution_count": 25,
   "metadata": {
    "hidden": true
   },
   "outputs": [],
   "source": [
    "def force_index(df, n):\n",
    "    \"\"\"Calculate Force Index for given data.\n",
    "    \n",
    "    :param df: pandas.DataFrame\n",
    "    :param n: \n",
    "    :return: pandas.DataFrame\n",
    "    \"\"\"\n",
    "    F = pd.Series(df['Close'].diff(n) * df['Volume'].diff(n), name='Force_' + str(n))\n",
    "    df = df.join(F)\n",
    "    return df"
   ]
  },
  {
   "cell_type": "code",
   "execution_count": 26,
   "metadata": {
    "hidden": true
   },
   "outputs": [],
   "source": [
    "def ease_of_movement(df, n):\n",
    "    \"\"\"Calculate Ease of Movement for given data.\n",
    "    \n",
    "    :param df: pandas.DataFrame\n",
    "    :param n: \n",
    "    :return: pandas.DataFrame\n",
    "    \"\"\"\n",
    "    EoM = (df['High'].diff(1) + df['Low'].diff(1)) * (df['High'] - df['Low']) / (2 * df['Volume'])\n",
    "    Eom_ma = pd.Series(EoM.rolling(n, min_periods=n).mean(), name='EoM_' + str(n))\n",
    "    df = df.join(Eom_ma)\n",
    "    return df"
   ]
  },
  {
   "cell_type": "code",
   "execution_count": 27,
   "metadata": {
    "hidden": true
   },
   "outputs": [],
   "source": [
    "def coppock_curve(df, n):\n",
    "    \"\"\"Calculate Coppock Curve for given data.\n",
    "    \n",
    "    :param df: pandas.DataFrame\n",
    "    :param n: \n",
    "    :return: pandas.DataFrame\n",
    "    \"\"\"\n",
    "    M = df['Close'].diff(int(n * 11 / 10) - 1)\n",
    "    N = df['Close'].shift(int(n * 11 / 10) - 1)\n",
    "    ROC1 = M / N\n",
    "    M = df['Close'].diff(int(n * 14 / 10) - 1)\n",
    "    N = df['Close'].shift(int(n * 14 / 10) - 1)\n",
    "    ROC2 = M / N\n",
    "    Copp = pd.Series((ROC1 + ROC2).ewm(span=n, min_periods=n).mean(), name='Copp_' + str(n))\n",
    "    df = df.join(Copp)\n",
    "    return df"
   ]
  },
  {
   "cell_type": "code",
   "execution_count": 28,
   "metadata": {
    "hidden": true
   },
   "outputs": [],
   "source": [
    "def keltner_channel(df, n):\n",
    "    \"\"\"Calculate Keltner Channel for given data.\n",
    "    \n",
    "    :param df: pandas.DataFrame\n",
    "    :param n: \n",
    "    :return: pandas.DataFrame\n",
    "    \"\"\"\n",
    "    KelChM = pd.Series(((df['High'] + df['Low'] + df['Close']) / 3).rolling(n, min_periods=n).mean(),\n",
    "                       name='KelChM_' + str(n))\n",
    "    KelChU = pd.Series(((4 * df['High'] - 2 * df['Low'] + df['Close']) / 3).rolling(n, min_periods=n).mean(),\n",
    "                       name='KelChU_' + str(n))\n",
    "    KelChD = pd.Series(((-2 * df['High'] + 4 * df['Low'] + df['Close']) / 3).rolling(n, min_periods=n).mean(),\n",
    "                       name='KelChD_' + str(n))\n",
    "    df = df.join(KelChM)\n",
    "    df = df.join(KelChU)\n",
    "    df = df.join(KelChD)\n",
    "    return df"
   ]
  },
  {
   "cell_type": "code",
   "execution_count": 29,
   "metadata": {
    "hidden": true
   },
   "outputs": [],
   "source": [
    "def ultimate_oscillator(df):\n",
    "    \"\"\"Calculate Ultimate Oscillator for given data.\n",
    "    \n",
    "    :param df: pandas.DataFrame\n",
    "    :return: pandas.DataFrame\n",
    "    \"\"\"\n",
    "    i = 0\n",
    "    TR_l = [0]\n",
    "    BP_l = [0]\n",
    "    while i < df.index[-1]:\n",
    "        TR = max(df.loc[i + 1, 'High'], df.loc[i, 'Close']) - min(df.loc[i + 1, 'Low'], df.loc[i, 'Close'])\n",
    "        TR_l.append(TR)\n",
    "        BP = df.loc[i + 1, 'Close'] - min(df.loc[i + 1, 'Low'], df.loc[i, 'Close'])\n",
    "        BP_l.append(BP)\n",
    "        i = i + 1\n",
    "    UltO = pd.Series((4 * pd.Series(BP_l).rolling(7).sum() / pd.Series(TR_l).rolling(7).sum()) + (\n",
    "                2 * pd.Series(BP_l).rolling(14).sum() / pd.Series(TR_l).rolling(14).sum()) + (\n",
    "                                 pd.Series(BP_l).rolling(28).sum() / pd.Series(TR_l).rolling(28).sum()),\n",
    "                     name='Ultimate_Osc')\n",
    "    df = df.join(UltO)\n",
    "    return df"
   ]
  },
  {
   "cell_type": "code",
   "execution_count": 30,
   "metadata": {
    "hidden": true
   },
   "outputs": [],
   "source": [
    "def donchian_channel(df, n):\n",
    "    \"\"\"Calculate donchian channel of given pandas data frame.\n",
    "    :param df: pandas.DataFrame\n",
    "    :param n:\n",
    "    :return: pandas.DataFrame\n",
    "    \"\"\"\n",
    "    i = 0\n",
    "    dc_l = []\n",
    "    while i < n - 1:\n",
    "        dc_l.append(0)\n",
    "        i += 1\n",
    "\n",
    "    i = 0\n",
    "    while i + n - 1 < df.index[-1]:\n",
    "        dc = max(df['High'].ix[i:i + n - 1]) - min(df['Low'].ix[i:i + n - 1])\n",
    "        dc_l.append(dc)\n",
    "        i += 1\n",
    "\n",
    "    donchian_chan = pd.Series(dc_l, name='Donchian_' + str(n))\n",
    "    donchian_chan = donchian_chan.shift(n - 1)\n",
    "    return df.join(donchian_chan)"
   ]
  },
  {
   "cell_type": "code",
   "execution_count": 31,
   "metadata": {
    "hidden": true
   },
   "outputs": [],
   "source": [
    "def standard_deviation(df, n):\n",
    "    \"\"\"Calculate Standard Deviation for given data.\n",
    "    \n",
    "    :param df: pandas.DataFrame\n",
    "    :param n: \n",
    "    :return: pandas.DataFrame\n",
    "    \"\"\"\n",
    "    df = df.join(pd.Series(df['Close'].rolling(n, min_periods=n).std(), name='STD_' + str(n)))\n",
    "    return df"
   ]
  },
  {
   "cell_type": "markdown",
   "metadata": {},
   "source": [
    "## Output"
   ]
  },
  {
   "cell_type": "code",
   "execution_count": null,
   "metadata": {},
   "outputs": [],
   "source": []
  },
  {
   "cell_type": "code",
   "execution_count": 48,
   "metadata": {},
   "outputs": [
    {
     "name": "stdout",
     "output_type": "stream",
     "text": [
      "OK The Files Ready \n"
     ]
    }
   ],
   "source": [
    "glob.glob(\"D:\\Stock Market\\Daily\\Test\\*.xlsx\")\n",
    "for f in glob.glob('D:\\Stock Market\\Daily\\Test\\*.xlsx'):\n",
    "    df = pd.read_excel(f)\n",
    "    indicators = [SuperTrend(df, 10, 3),parabolicsar(df),MACD(df),BBand(df,period=20),RSI(df, period=14),commodity_channel_index(df, 14),\n",
    "                  stochastic_oscillator_k(df),stochastic_oscillator_d(df, 3),ppsr(df)]\n",
    "    for indicator in indicators:\n",
    "        df = pd.merge(df, indicator)\n",
    "    df.round(2).to_excel(f'{f}.xlsx', sheet_name=\"indicator Osama\", index=False)\n",
    "print('OK The Files Ready ')"
   ]
  },
  {
   "cell_type": "code",
   "execution_count": null,
   "metadata": {},
   "outputs": [],
   "source": [
    "import talib\n",
    "import pandas as pd\n",
    "import ta\n",
    "import glob\n",
    "\n",
    "# Load data\n",
    "glob.glob(\"D:\\Stock Market\\Daily\\Test\\*.xlsx\")\n",
    "for f in glob.glob('D:\\Stock Market\\Daily\\Test\\*.xlsx'):\n",
    "    df = pd.read_excel(f)\n",
    "    # Clean nan values\n",
    "    df = ta.utils.dropna(df)\n",
    "    # Add all ta features filling nans values\n",
    "    df = ta.add_all_ta_features(df, \"Open\", \"High\", \"Low\", \"Close\", \"Volume_BTC\", fillna=True)\n",
    "    df['Signal'] = 0\n",
    "    sell = []\n",
    "    buy = []\n",
    "    date_sell = []\n",
    "    date_buy = []\n",
    "    for y in range(100, len(df.index)):\n",
    "        if df['trend_psar'].iloc[y] <= df['Close'].iloc[y] and (df['trend_psar'].iloc[y - 1] > df['Close'].iloc[y - 1]):\n",
    "            first_buy_signal = y\n",
    "            print(first_buy_signal)\n",
    "            break\n",
    "\n",
    "    for x in range(first_buy_signal-1, len(df.index)):\n",
    "        if df['trend_psar'].iloc[x] >= df['Close'].iloc[x] and (df['trend_psar'].iloc[x - 1] < df['Close'].iloc[x - 1]):\n",
    "            df['Signal'].iloc[x] = 'Sell'\n",
    "            sell.append(df['Close'].iloc[x])\n",
    "            date_sell.append(df['Date'].iloc[x])\n",
    "\n",
    "        elif df['trend_psar'].iloc[x] <= df['Close'].iloc[x] and (df['trend_psar'].iloc[x - 1] > df['Close'].iloc[x - 1]):\n",
    "            df['Signal'].iloc[x] = 'Buy'\n",
    "            buy.append(df['Close'].iloc[x])\n",
    "            date_buy.append(df['Date'].iloc[x])\n",
    "    sell.append(0)\n",
    "    date_sell.append(0)\n",
    "    profits = pd.DataFrame()\n",
    "    profits['Buy'] = buy\n",
    "    profits['Buy Date'] = date_buy\n",
    "    profits['Sell'] = sell\n",
    "    profits['Sell Date'] = date_sell\n",
    "    profits['Profits'] = ((profits['Sell'] - profits['Buy'])/profits['Sell'])*100\n",
    "    profits.drop(profits.tail(1).index,inplace=True) # drop last n rows\n",
    "    #print(profits)"
   ]
  },
  {
   "cell_type": "markdown",
   "metadata": {},
   "source": [
    "## Plot Important indicator"
   ]
  },
  {
   "cell_type": "markdown",
   "metadata": {
    "heading_collapsed": true
   },
   "source": [
    "#### Parabolic SAR"
   ]
  },
  {
   "cell_type": "code",
   "execution_count": null,
   "metadata": {
    "hidden": true
   },
   "outputs": [],
   "source": [
    "aapl['SAR'] = ta.SAR(aapl['High'],aapl['Low'],14)\n",
    "aapl[['SAR','Close']].tail(365).plot(figsize=(15,15))\n",
    "plt.show()"
   ]
  },
  {
   "cell_type": "markdown",
   "metadata": {
    "heading_collapsed": true
   },
   "source": [
    "#### SuperTrand"
   ]
  },
  {
   "cell_type": "code",
   "execution_count": null,
   "metadata": {
    "hidden": true
   },
   "outputs": [],
   "source": [
    "SuperTrend(df, 10, 3, ohlc=['Open', 'High', 'Low', 'Close'])\n",
    "aapl[['ST_10_3','Close']].tail(120).plot(figsize=(15,15))\n",
    "plt.show()"
   ]
  },
  {
   "cell_type": "markdown",
   "metadata": {
    "heading_collapsed": true
   },
   "source": [
    "#### MACD"
   ]
  },
  {
   "cell_type": "code",
   "execution_count": null,
   "metadata": {
    "hidden": true
   },
   "outputs": [],
   "source": [
    "MACD(df)\n",
    "aapl[['macd_12_26_9','signal_12_26_9']].tail(120).plot(figsize=(15,15))\n",
    "plt.show()"
   ]
  },
  {
   "cell_type": "markdown",
   "metadata": {},
   "source": [
    "#### Simple Moving Average and the Exponential Moving Average"
   ]
  },
  {
   "cell_type": "code",
   "execution_count": 33,
   "metadata": {},
   "outputs": [
    {
     "ename": "NameError",
     "evalue": "name 'aapl' is not defined",
     "output_type": "error",
     "traceback": [
      "\u001b[1;31m---------------------------------------------------------------------------\u001b[0m",
      "\u001b[1;31mNameError\u001b[0m                                 Traceback (most recent call last)",
      "\u001b[1;32m<ipython-input-33-48f38f5e2e3f>\u001b[0m in \u001b[0;36m<module>\u001b[1;34m\u001b[0m\n\u001b[1;32m----> 1\u001b[1;33m \u001b[0maapl\u001b[0m\u001b[1;33m[\u001b[0m\u001b[1;34m'Simple MA'\u001b[0m\u001b[1;33m]\u001b[0m \u001b[1;33m=\u001b[0m \u001b[0mta\u001b[0m\u001b[1;33m.\u001b[0m\u001b[0mSMA\u001b[0m\u001b[1;33m(\u001b[0m\u001b[0maapl\u001b[0m\u001b[1;33m[\u001b[0m\u001b[1;34m'Close'\u001b[0m\u001b[1;33m]\u001b[0m\u001b[1;33m,\u001b[0m\u001b[1;36m14\u001b[0m\u001b[1;33m)\u001b[0m\u001b[1;33m\u001b[0m\u001b[1;33m\u001b[0m\u001b[0m\n\u001b[0m\u001b[0;32m      2\u001b[0m \u001b[0maapl\u001b[0m\u001b[1;33m[\u001b[0m\u001b[1;34m'EMA'\u001b[0m\u001b[1;33m]\u001b[0m \u001b[1;33m=\u001b[0m \u001b[0mta\u001b[0m\u001b[1;33m.\u001b[0m\u001b[0mEMA\u001b[0m\u001b[1;33m(\u001b[0m\u001b[0maapl\u001b[0m\u001b[1;33m[\u001b[0m\u001b[1;34m'Close'\u001b[0m\u001b[1;33m]\u001b[0m\u001b[1;33m,\u001b[0m \u001b[0mtimeperiod\u001b[0m \u001b[1;33m=\u001b[0m \u001b[1;36m14\u001b[0m\u001b[1;33m)\u001b[0m\u001b[1;33m\u001b[0m\u001b[1;33m\u001b[0m\u001b[0m\n\u001b[0;32m      3\u001b[0m \u001b[1;31m# Plot\u001b[0m\u001b[1;33m\u001b[0m\u001b[1;33m\u001b[0m\u001b[1;33m\u001b[0m\u001b[0m\n\u001b[0;32m      4\u001b[0m \u001b[0maapl\u001b[0m\u001b[1;33m[\u001b[0m\u001b[1;33m[\u001b[0m\u001b[1;34m'Close'\u001b[0m\u001b[1;33m,\u001b[0m\u001b[1;34m'Simple MA'\u001b[0m\u001b[1;33m,\u001b[0m\u001b[1;34m'EMA'\u001b[0m\u001b[1;33m]\u001b[0m\u001b[1;33m]\u001b[0m\u001b[1;33m.\u001b[0m\u001b[0mtail\u001b[0m\u001b[1;33m(\u001b[0m\u001b[1;36m365\u001b[0m\u001b[1;33m)\u001b[0m\u001b[1;33m.\u001b[0m\u001b[0mplot\u001b[0m\u001b[1;33m(\u001b[0m\u001b[0mfigsize\u001b[0m\u001b[1;33m=\u001b[0m\u001b[1;33m(\u001b[0m\u001b[1;36m15\u001b[0m\u001b[1;33m,\u001b[0m\u001b[1;36m15\u001b[0m\u001b[1;33m)\u001b[0m\u001b[1;33m)\u001b[0m\u001b[1;33m\u001b[0m\u001b[1;33m\u001b[0m\u001b[0m\n\u001b[0;32m      5\u001b[0m \u001b[0mplt\u001b[0m\u001b[1;33m.\u001b[0m\u001b[0mshow\u001b[0m\u001b[1;33m(\u001b[0m\u001b[1;33m)\u001b[0m\u001b[1;33m\u001b[0m\u001b[1;33m\u001b[0m\u001b[0m\n",
      "\u001b[1;31mNameError\u001b[0m: name 'aapl' is not defined"
     ]
    }
   ],
   "source": [
    "aapl['Simple MA'] = ta.SMA(aapl['Close'],14)\n",
    "aapl['EMA'] = ta.EMA(aapl['Close'], timeperiod = 14)\n",
    "# Plot\n",
    "aapl[['Close','Simple MA','EMA']].tail(365).plot(figsize=(15,15))\n",
    "plt.show()"
   ]
  },
  {
   "cell_type": "markdown",
   "metadata": {
    "heading_collapsed": true
   },
   "source": [
    "#### Bollinger Bands"
   ]
  },
  {
   "cell_type": "code",
   "execution_count": 34,
   "metadata": {
    "hidden": true
   },
   "outputs": [
    {
     "ename": "NameError",
     "evalue": "name 'aapl' is not defined",
     "output_type": "error",
     "traceback": [
      "\u001b[1;31m---------------------------------------------------------------------------\u001b[0m",
      "\u001b[1;31mNameError\u001b[0m                                 Traceback (most recent call last)",
      "\u001b[1;32m<ipython-input-34-64f04df0ea14>\u001b[0m in \u001b[0;36m<module>\u001b[1;34m\u001b[0m\n\u001b[1;32m----> 1\u001b[1;33m \u001b[0maapl\u001b[0m\u001b[1;33m[\u001b[0m\u001b[1;34m'upper_band'\u001b[0m\u001b[1;33m]\u001b[0m\u001b[1;33m,\u001b[0m \u001b[0maapl\u001b[0m\u001b[1;33m[\u001b[0m\u001b[1;34m'middle_band'\u001b[0m\u001b[1;33m]\u001b[0m\u001b[1;33m,\u001b[0m \u001b[0maapl\u001b[0m\u001b[1;33m[\u001b[0m\u001b[1;34m'lower_band'\u001b[0m\u001b[1;33m]\u001b[0m \u001b[1;33m=\u001b[0m \u001b[0mta\u001b[0m\u001b[1;33m.\u001b[0m\u001b[0mBBANDS\u001b[0m\u001b[1;33m(\u001b[0m\u001b[0maapl\u001b[0m\u001b[1;33m[\u001b[0m\u001b[1;34m'Close'\u001b[0m\u001b[1;33m]\u001b[0m\u001b[1;33m,\u001b[0m \u001b[0mtimeperiod\u001b[0m \u001b[1;33m=\u001b[0m\u001b[1;36m20\u001b[0m\u001b[1;33m)\u001b[0m\u001b[1;33m\u001b[0m\u001b[1;33m\u001b[0m\u001b[0m\n\u001b[0m\u001b[0;32m      2\u001b[0m \u001b[1;31m# Plot\u001b[0m\u001b[1;33m\u001b[0m\u001b[1;33m\u001b[0m\u001b[1;33m\u001b[0m\u001b[0m\n\u001b[0;32m      3\u001b[0m \u001b[0maapl\u001b[0m\u001b[1;33m[\u001b[0m\u001b[1;33m[\u001b[0m\u001b[1;34m'Close'\u001b[0m\u001b[1;33m,\u001b[0m\u001b[1;34m'upper_band'\u001b[0m\u001b[1;33m,\u001b[0m\u001b[1;34m'middle_band'\u001b[0m\u001b[1;33m,\u001b[0m\u001b[1;34m'lower_band'\u001b[0m\u001b[1;33m]\u001b[0m\u001b[1;33m]\u001b[0m\u001b[1;33m.\u001b[0m\u001b[0mtail\u001b[0m\u001b[1;33m(\u001b[0m\u001b[1;36m365\u001b[0m\u001b[1;33m)\u001b[0m\u001b[1;33m.\u001b[0m\u001b[0mplot\u001b[0m\u001b[1;33m(\u001b[0m\u001b[0mfigsize\u001b[0m\u001b[1;33m=\u001b[0m\u001b[1;33m(\u001b[0m\u001b[1;36m15\u001b[0m\u001b[1;33m,\u001b[0m\u001b[1;36m15\u001b[0m\u001b[1;33m)\u001b[0m\u001b[1;33m)\u001b[0m\u001b[1;33m\u001b[0m\u001b[1;33m\u001b[0m\u001b[0m\n\u001b[0;32m      4\u001b[0m \u001b[0mplt\u001b[0m\u001b[1;33m.\u001b[0m\u001b[0mshow\u001b[0m\u001b[1;33m(\u001b[0m\u001b[1;33m)\u001b[0m\u001b[1;33m\u001b[0m\u001b[1;33m\u001b[0m\u001b[0m\n",
      "\u001b[1;31mNameError\u001b[0m: name 'aapl' is not defined"
     ]
    }
   ],
   "source": [
    "aapl['upper_band'], aapl['middle_band'], aapl['lower_band'] = ta.BBANDS(aapl['Close'], timeperiod =20)\n",
    "# Plot\n",
    "aapl[['Close','upper_band','middle_band','lower_band']].tail(365).plot(figsize=(15,15))\n",
    "plt.show()"
   ]
  },
  {
   "cell_type": "markdown",
   "metadata": {
    "heading_collapsed": true
   },
   "source": [
    "#### CCI"
   ]
  },
  {
   "cell_type": "code",
   "execution_count": 35,
   "metadata": {
    "hidden": true
   },
   "outputs": [
    {
     "ename": "NameError",
     "evalue": "name 'aapl' is not defined",
     "output_type": "error",
     "traceback": [
      "\u001b[1;31m---------------------------------------------------------------------------\u001b[0m",
      "\u001b[1;31mNameError\u001b[0m                                 Traceback (most recent call last)",
      "\u001b[1;32m<ipython-input-35-fda5b717d63b>\u001b[0m in \u001b[0;36m<module>\u001b[1;34m\u001b[0m\n\u001b[1;32m----> 1\u001b[1;33m \u001b[0maapl\u001b[0m\u001b[1;33m[\u001b[0m\u001b[1;34m'CCI'\u001b[0m\u001b[1;33m]\u001b[0m \u001b[1;33m=\u001b[0m \u001b[0mta\u001b[0m\u001b[1;33m.\u001b[0m\u001b[0mCCI\u001b[0m\u001b[1;33m(\u001b[0m\u001b[0maapl\u001b[0m\u001b[1;33m[\u001b[0m\u001b[1;34m'High'\u001b[0m\u001b[1;33m]\u001b[0m\u001b[1;33m,\u001b[0m\u001b[0maapl\u001b[0m\u001b[1;33m[\u001b[0m\u001b[1;34m'Low'\u001b[0m\u001b[1;33m]\u001b[0m\u001b[1;33m,\u001b[0m\u001b[0maapl\u001b[0m\u001b[1;33m[\u001b[0m\u001b[1;34m'Close'\u001b[0m\u001b[1;33m]\u001b[0m\u001b[1;33m,\u001b[0m\u001b[1;36m14\u001b[0m\u001b[1;33m)\u001b[0m\u001b[1;33m\u001b[0m\u001b[1;33m\u001b[0m\u001b[0m\n\u001b[0m\u001b[0;32m      2\u001b[0m \u001b[0maapl\u001b[0m\u001b[1;33m[\u001b[0m\u001b[1;34m'CCI'\u001b[0m\u001b[1;33m]\u001b[0m\u001b[1;33m.\u001b[0m\u001b[0mtail\u001b[0m\u001b[1;33m(\u001b[0m\u001b[1;36m365\u001b[0m\u001b[1;33m)\u001b[0m\u001b[1;33m.\u001b[0m\u001b[0mplot\u001b[0m\u001b[1;33m(\u001b[0m\u001b[0mfigsize\u001b[0m\u001b[1;33m=\u001b[0m\u001b[1;33m(\u001b[0m\u001b[1;36m15\u001b[0m\u001b[1;33m,\u001b[0m\u001b[1;36m15\u001b[0m\u001b[1;33m)\u001b[0m\u001b[1;33m)\u001b[0m\u001b[1;33m\u001b[0m\u001b[1;33m\u001b[0m\u001b[0m\n\u001b[0;32m      3\u001b[0m \u001b[0mplt\u001b[0m\u001b[1;33m.\u001b[0m\u001b[0mshow\u001b[0m\u001b[1;33m(\u001b[0m\u001b[1;33m)\u001b[0m\u001b[1;33m\u001b[0m\u001b[1;33m\u001b[0m\u001b[0m\n",
      "\u001b[1;31mNameError\u001b[0m: name 'aapl' is not defined"
     ]
    }
   ],
   "source": [
    "aapl['CCI'] = ta.CCI(aapl['High'],aapl['Low'],aapl['Close'],14)\n",
    "aapl['CCI'].tail(365).plot(figsize=(15,15))\n",
    "plt.show()"
   ]
  },
  {
   "cell_type": "code",
   "execution_count": null,
   "metadata": {
    "hidden": true
   },
   "outputs": [],
   "source": [
    "aapl['RSI'] = ta.RSI(aapl['Close'],14)\n",
    "aapl['RSI'].tail(365).plot(figsize=(15,15))\n",
    "plt.show()"
   ]
  },
  {
   "cell_type": "markdown",
   "metadata": {},
   "source": [
    "#### Stochastic oscillators"
   ]
  },
  {
   "cell_type": "code",
   "execution_count": 36,
   "metadata": {},
   "outputs": [
    {
     "ename": "NameError",
     "evalue": "name 'aapl' is not defined",
     "output_type": "error",
     "traceback": [
      "\u001b[1;31m---------------------------------------------------------------------------\u001b[0m",
      "\u001b[1;31mNameError\u001b[0m                                 Traceback (most recent call last)",
      "\u001b[1;32m<ipython-input-36-088efa4c2698>\u001b[0m in \u001b[0;36m<module>\u001b[1;34m\u001b[0m\n\u001b[1;32m----> 1\u001b[1;33m \u001b[0maapl\u001b[0m\u001b[1;33m[\u001b[0m\u001b[1;34m'slowk'\u001b[0m\u001b[1;33m]\u001b[0m\u001b[1;33m,\u001b[0m \u001b[0maapl\u001b[0m\u001b[1;33m[\u001b[0m\u001b[1;34m'slowd'\u001b[0m\u001b[1;33m]\u001b[0m \u001b[1;33m=\u001b[0m \u001b[0mta\u001b[0m\u001b[1;33m.\u001b[0m\u001b[0mSTOCH\u001b[0m\u001b[1;33m(\u001b[0m\u001b[0maapl\u001b[0m\u001b[1;33m[\u001b[0m\u001b[1;34m'High'\u001b[0m\u001b[1;33m]\u001b[0m\u001b[1;33m,\u001b[0m \u001b[0maapl\u001b[0m\u001b[1;33m[\u001b[0m\u001b[1;34m'Low'\u001b[0m\u001b[1;33m]\u001b[0m\u001b[1;33m,\u001b[0m \u001b[0maapl\u001b[0m\u001b[1;33m[\u001b[0m\u001b[1;34m'Close'\u001b[0m\u001b[1;33m]\u001b[0m\u001b[1;33m,\u001b[0m \u001b[0mfastk_period\u001b[0m\u001b[1;33m=\u001b[0m\u001b[1;36m14\u001b[0m\u001b[1;33m,\u001b[0m \u001b[0mslowk_period\u001b[0m\u001b[1;33m=\u001b[0m\u001b[1;36m3\u001b[0m\u001b[1;33m,\u001b[0m \u001b[0mslowk_matype\u001b[0m\u001b[1;33m=\u001b[0m\u001b[1;36m0\u001b[0m\u001b[1;33m,\u001b[0m \u001b[0mslowd_period\u001b[0m\u001b[1;33m=\u001b[0m\u001b[1;36m3\u001b[0m\u001b[1;33m,\u001b[0m \u001b[0mslowd_matype\u001b[0m\u001b[1;33m=\u001b[0m\u001b[1;36m0\u001b[0m\u001b[1;33m)\u001b[0m\u001b[1;33m\u001b[0m\u001b[1;33m\u001b[0m\u001b[0m\n\u001b[0m\u001b[0;32m      2\u001b[0m \u001b[0maapl\u001b[0m\u001b[1;33m[\u001b[0m\u001b[1;33m[\u001b[0m\u001b[1;34m'slowk'\u001b[0m\u001b[1;33m,\u001b[0m\u001b[1;34m'slowd'\u001b[0m\u001b[1;33m]\u001b[0m\u001b[1;33m]\u001b[0m\u001b[1;33m.\u001b[0m\u001b[0mtail\u001b[0m\u001b[1;33m(\u001b[0m\u001b[1;36m365\u001b[0m\u001b[1;33m)\u001b[0m\u001b[1;33m.\u001b[0m\u001b[0mplot\u001b[0m\u001b[1;33m(\u001b[0m\u001b[0mfigsize\u001b[0m\u001b[1;33m=\u001b[0m\u001b[1;33m(\u001b[0m\u001b[1;36m15\u001b[0m\u001b[1;33m,\u001b[0m\u001b[1;36m15\u001b[0m\u001b[1;33m)\u001b[0m\u001b[1;33m)\u001b[0m\u001b[1;33m\u001b[0m\u001b[1;33m\u001b[0m\u001b[0m\n\u001b[0;32m      3\u001b[0m \u001b[0mplt\u001b[0m\u001b[1;33m.\u001b[0m\u001b[0mshow\u001b[0m\u001b[1;33m(\u001b[0m\u001b[1;33m)\u001b[0m\u001b[1;33m\u001b[0m\u001b[1;33m\u001b[0m\u001b[0m\n",
      "\u001b[1;31mNameError\u001b[0m: name 'aapl' is not defined"
     ]
    }
   ],
   "source": [
    "aapl['slowk'], aapl['slowd'] = ta.STOCH(aapl['High'], aapl['Low'], aapl['Close'], fastk_period=14, slowk_period=3, slowk_matype=0, slowd_period=3, slowd_matype=0)\n",
    "aapl[['slowk','slowd']].tail(365).plot(figsize=(15,15))\n",
    "plt.show()"
   ]
  },
  {
   "cell_type": "code",
   "execution_count": null,
   "metadata": {},
   "outputs": [],
   "source": []
  }
 ],
 "metadata": {
  "kernelspec": {
   "display_name": "Python 3",
   "language": "python",
   "name": "python3"
  },
  "language_info": {
   "codemirror_mode": {
    "name": "ipython",
    "version": 3
   },
   "file_extension": ".py",
   "mimetype": "text/x-python",
   "name": "python",
   "nbconvert_exporter": "python",
   "pygments_lexer": "ipython3",
   "version": "3.8.2"
  },
  "latex_envs": {
   "LaTeX_envs_menu_present": true,
   "autoclose": false,
   "autocomplete": true,
   "bibliofile": "biblio.bib",
   "cite_by": "apalike",
   "current_citInitial": 1,
   "eqLabelWithNumbers": true,
   "eqNumInitial": 1,
   "hotkeys": {
    "equation": "Ctrl-E",
    "itemize": "Ctrl-I"
   },
   "labels_anchors": false,
   "latex_user_defs": false,
   "report_style_numbering": false,
   "user_envs_cfg": false
  },
  "toc": {
   "base_numbering": 1,
   "nav_menu": {},
   "number_sections": true,
   "sideBar": true,
   "skip_h1_title": false,
   "title_cell": "Table of Contents",
   "title_sidebar": "Contents",
   "toc_cell": false,
   "toc_position": {},
   "toc_section_display": true,
   "toc_window_display": false
  },
  "varInspector": {
   "cols": {
    "lenName": 16,
    "lenType": 16,
    "lenVar": 40
   },
   "kernels_config": {
    "python": {
     "delete_cmd_postfix": "",
     "delete_cmd_prefix": "del ",
     "library": "var_list.py",
     "varRefreshCmd": "print(var_dic_list())"
    },
    "r": {
     "delete_cmd_postfix": ") ",
     "delete_cmd_prefix": "rm(",
     "library": "var_list.r",
     "varRefreshCmd": "cat(var_dic_list()) "
    }
   },
   "types_to_exclude": [
    "module",
    "function",
    "builtin_function_or_method",
    "instance",
    "_Feature"
   ],
   "window_display": false
  }
 },
 "nbformat": 4,
 "nbformat_minor": 4
}
