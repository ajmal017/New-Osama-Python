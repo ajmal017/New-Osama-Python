{
 "cells": [
  {
   "cell_type": "code",
   "execution_count": 15,
   "metadata": {},
   "outputs": [],
   "source": [
    "import pandas as pd\n",
    "import numpy as np"
   ]
  },
  {
   "cell_type": "code",
   "execution_count": 20,
   "metadata": {},
   "outputs": [
    {
     "data": {
      "text/plain": [
       "['D:\\\\Stock Market\\\\Daily\\\\Test\\\\1.XLS',\n",
       " 'D:\\\\Stock Market\\\\Daily\\\\Test\\\\2.XLS',\n",
       " 'D:\\\\Stock Market\\\\Daily\\\\Test\\\\3.XLS',\n",
       " 'D:\\\\Stock Market\\\\Daily\\\\Test\\\\4.XLS']"
      ]
     },
     "execution_count": 20,
     "metadata": {},
     "output_type": "execute_result"
    }
   ],
   "source": [
    "import glob\n",
    "glob.glob(\"D:\\Stock Market\\Daily\\Test\\*.xls\")"
   ]
  },
  {
   "cell_type": "code",
   "execution_count": 22,
   "metadata": {},
   "outputs": [
    {
     "name": "stdout",
     "output_type": "stream",
     "text": [
      "*** No CODEPAGE record, no encoding_override: will use 'ascii'\n",
      "*** No CODEPAGE record, no encoding_override: will use 'ascii'\n",
      "*** No CODEPAGE record, no encoding_override: will use 'ascii'\n",
      "*** No CODEPAGE record, no encoding_override: will use 'ascii'\n"
     ]
    }
   ],
   "source": [
    "all_data = pd.DataFrame()\n",
    "for f in glob.glob(\"D:\\Stock Market\\Daily\\Test\\*.xls\",skiprows=[0]):\n",
    "    df = pd.read_excel(f)\n",
    "    all_data = all_data.append(df,ignore_index=True)"
   ]
  },
  {
   "cell_type": "code",
   "execution_count": 23,
   "metadata": {},
   "outputs": [
    {
     "data": {
      "text/html": [
       "<div>\n",
       "<style scoped>\n",
       "    .dataframe tbody tr th:only-of-type {\n",
       "        vertical-align: middle;\n",
       "    }\n",
       "\n",
       "    .dataframe tbody tr th {\n",
       "        vertical-align: top;\n",
       "    }\n",
       "\n",
       "    .dataframe thead th {\n",
       "        text-align: right;\n",
       "    }\n",
       "</style>\n",
       "<table border=\"1\" class=\"dataframe\">\n",
       "  <thead>\n",
       "    <tr style=\"text-align: right;\">\n",
       "      <th></th>\n",
       "      <th>MetaStock(tm) data file \\\\EGX30\\</th>\n",
       "      <th>Unnamed: 1</th>\n",
       "      <th>Unnamed: 2</th>\n",
       "      <th>Unnamed: 3</th>\n",
       "      <th>Unnamed: 4</th>\n",
       "      <th>Unnamed: 5</th>\n",
       "      <th>Unnamed: 6</th>\n",
       "      <th>Unnamed: 7</th>\n",
       "      <th>Unnamed: 8</th>\n",
       "      <th>Unnamed: 9</th>\n",
       "      <th>MetaStock(tm) data file \\\\EGX50\\</th>\n",
       "      <th>MetaStock(tm) data file \\\\EGX70\\</th>\n",
       "      <th>MetaStock(tm) data file \\\\EGX100\\</th>\n",
       "    </tr>\n",
       "  </thead>\n",
       "  <tbody>\n",
       "    <tr>\n",
       "      <th>count</th>\n",
       "      <td>5425</td>\n",
       "      <td>13492</td>\n",
       "      <td>13492</td>\n",
       "      <td>13492</td>\n",
       "      <td>13492</td>\n",
       "      <td>13492</td>\n",
       "      <td>13492.00000</td>\n",
       "      <td>13492</td>\n",
       "      <td>13492</td>\n",
       "      <td>13492</td>\n",
       "      <td>1647</td>\n",
       "      <td>2961</td>\n",
       "      <td>3459</td>\n",
       "    </tr>\n",
       "    <tr>\n",
       "      <th>unique</th>\n",
       "      <td>2</td>\n",
       "      <td>2</td>\n",
       "      <td>5435</td>\n",
       "      <td>2</td>\n",
       "      <td>13098</td>\n",
       "      <td>12563</td>\n",
       "      <td>12439.00000</td>\n",
       "      <td>13108</td>\n",
       "      <td>7803</td>\n",
       "      <td>2</td>\n",
       "      <td>2</td>\n",
       "      <td>2</td>\n",
       "      <td>2</td>\n",
       "    </tr>\n",
       "    <tr>\n",
       "      <th>top</th>\n",
       "      <td>EGX30</td>\n",
       "      <td>D</td>\n",
       "      <td>07/12/2017</td>\n",
       "      <td>00:00:00</td>\n",
       "      <td>0</td>\n",
       "      <td>1911</td>\n",
       "      <td>483.23999</td>\n",
       "      <td>1985</td>\n",
       "      <td>0</td>\n",
       "      <td>0</td>\n",
       "      <td>EGX50</td>\n",
       "      <td>EGX70</td>\n",
       "      <td>EGX100</td>\n",
       "    </tr>\n",
       "    <tr>\n",
       "      <th>freq</th>\n",
       "      <td>5424</td>\n",
       "      <td>13488</td>\n",
       "      <td>4</td>\n",
       "      <td>13488</td>\n",
       "      <td>7</td>\n",
       "      <td>6</td>\n",
       "      <td>6.00000</td>\n",
       "      <td>4</td>\n",
       "      <td>1771</td>\n",
       "      <td>13488</td>\n",
       "      <td>1646</td>\n",
       "      <td>2960</td>\n",
       "      <td>3458</td>\n",
       "    </tr>\n",
       "  </tbody>\n",
       "</table>\n",
       "</div>"
      ],
      "text/plain": [
       "       MetaStock(tm) data file \\\\EGX30\\ Unnamed: 1  Unnamed: 2 Unnamed: 3  \\\n",
       "count                              5425      13492       13492      13492   \n",
       "unique                                2          2        5435          2   \n",
       "top                               EGX30          D  07/12/2017   00:00:00   \n",
       "freq                               5424      13488           4      13488   \n",
       "\n",
       "        Unnamed: 4  Unnamed: 5   Unnamed: 6  Unnamed: 7  Unnamed: 8  \\\n",
       "count        13492       13492  13492.00000       13492       13492   \n",
       "unique       13098       12563  12439.00000       13108        7803   \n",
       "top              0        1911    483.23999        1985           0   \n",
       "freq             7           6      6.00000           4        1771   \n",
       "\n",
       "        Unnamed: 9 MetaStock(tm) data file \\\\EGX50\\  \\\n",
       "count        13492                             1647   \n",
       "unique           2                                2   \n",
       "top              0                            EGX50   \n",
       "freq         13488                             1646   \n",
       "\n",
       "       MetaStock(tm) data file \\\\EGX70\\ MetaStock(tm) data file \\\\EGX100\\  \n",
       "count                              2961                              3459  \n",
       "unique                                2                                 2  \n",
       "top                               EGX70                            EGX100  \n",
       "freq                               2960                              3458  "
      ]
     },
     "execution_count": 23,
     "metadata": {},
     "output_type": "execute_result"
    }
   ],
   "source": [
    "all_data.describe()"
   ]
  },
  {
   "cell_type": "code",
   "execution_count": null,
   "metadata": {},
   "outputs": [],
   "source": []
  }
 ],
 "metadata": {
  "kernelspec": {
   "display_name": "Python 3",
   "language": "python",
   "name": "python3"
  },
  "language_info": {
   "codemirror_mode": {
    "name": "ipython",
    "version": 3
   },
   "file_extension": ".py",
   "mimetype": "text/x-python",
   "name": "python",
   "nbconvert_exporter": "python",
   "pygments_lexer": "ipython3",
   "version": "3.8.2"
  },
  "latex_envs": {
   "LaTeX_envs_menu_present": true,
   "autoclose": false,
   "autocomplete": true,
   "bibliofile": "biblio.bib",
   "cite_by": "apalike",
   "current_citInitial": 1,
   "eqLabelWithNumbers": true,
   "eqNumInitial": 1,
   "hotkeys": {
    "equation": "Ctrl-E",
    "itemize": "Ctrl-I"
   },
   "labels_anchors": false,
   "latex_user_defs": false,
   "report_style_numbering": false,
   "user_envs_cfg": false
  },
  "toc": {
   "base_numbering": 1,
   "nav_menu": {},
   "number_sections": true,
   "sideBar": true,
   "skip_h1_title": false,
   "title_cell": "Table of Contents",
   "title_sidebar": "Contents",
   "toc_cell": false,
   "toc_position": {},
   "toc_section_display": true,
   "toc_window_display": false
  },
  "varInspector": {
   "cols": {
    "lenName": 16,
    "lenType": 16,
    "lenVar": 40
   },
   "kernels_config": {
    "python": {
     "delete_cmd_postfix": "",
     "delete_cmd_prefix": "del ",
     "library": "var_list.py",
     "varRefreshCmd": "print(var_dic_list())"
    },
    "r": {
     "delete_cmd_postfix": ") ",
     "delete_cmd_prefix": "rm(",
     "library": "var_list.r",
     "varRefreshCmd": "cat(var_dic_list()) "
    }
   },
   "types_to_exclude": [
    "module",
    "function",
    "builtin_function_or_method",
    "instance",
    "_Feature"
   ],
   "window_display": false
  }
 },
 "nbformat": 4,
 "nbformat_minor": 4
}
