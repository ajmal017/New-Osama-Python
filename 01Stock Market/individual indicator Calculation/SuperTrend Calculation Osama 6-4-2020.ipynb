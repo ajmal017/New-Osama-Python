{
 "cells": [
  {
   "cell_type": "code",
   "execution_count": null,
   "metadata": {
    "lang": "en"
   },
   "outputs": [],
   "source": [
    "from pandas import Series, DataFrame\n",
    "import pandas as pd\n",
    "import numpy as np"
   ]
  },
  {
   "cell_type": "code",
   "execution_count": null,
   "metadata": {},
   "outputs": [],
   "source": [
    "df = pd.read_excel('D:\\Python\\Project\\EGX30.xlsx', sheet_name='EGX30')"
   ]
  },
  {
   "cell_type": "code",
   "execution_count": null,
   "metadata": {},
   "outputs": [],
   "source": [
    "df['H-L'] = df['HIGH'] - df['LOW']\n",
    "df['H-PC'] = abs(df['HIGH'] - df['CLOSE'].shift(1))\n",
    "df['L-PC'] = abs(df['LOW'] - df['CLOSE'].shift(1))"
   ]
  },
  {
   "cell_type": "code",
   "execution_count": null,
   "metadata": {},
   "outputs": [],
   "source": [
    "true_range = []\n",
    "averag_true_range = []\n",
    "atr = [0, 0, 0, 0, 0, 0, 0, 0, 0, 0, 0]\n",
    "upper_band_basic = [0, 0, 0, 0, 0, 0, 0, 0, 0, 0, 0]"
   ]
  },
  {
   "cell_type": "code",
   "execution_count": null,
   "metadata": {},
   "outputs": [],
   "source": [
    "for x in range(0, len(df.index)):\n",
    "    true_range2 = max(df['H-L'].iloc[x], df['H-PC'].iloc[x], df['L-PC'].iloc[x])\n",
    "    true_range.append(true_range2)"
   ]
  },
  {
   "cell_type": "code",
   "execution_count": null,
   "metadata": {},
   "outputs": [],
   "source": [
    "df2 = pd.DataFrame(true_range, columns=['True Range'])\n",
    "df['True Range'] = df2['True Range']"
   ]
  },
  {
   "cell_type": "code",
   "execution_count": null,
   "metadata": {},
   "outputs": [],
   "source": [
    "for x in range(2, len(df.index)):\n",
    "    atr2 = df.loc[x:x + 9, \"True Range\"].mean()\n",
    "    atr.append(atr2)"
   ]
  },
  {
   "cell_type": "code",
   "execution_count": null,
   "metadata": {},
   "outputs": [],
   "source": [
    "df3 = pd.DataFrame(atr, columns=['ATR'])\n",
    "df['ATR'] = df3['ATR']\n",
    "multiplier = 2\n",
    "df['ubb'] = ((df['HIGH'] + df['LOW']) / 2) + (df['ATR'] * multiplier)\n",
    "df['lbb'] = ((df['HIGH'] + df['LOW']) / 2) - (df['ATR'] * multiplier)\n",
    "df['ubf'] = 0\n",
    "df['lbf'] = 0\n",
    "df['st'] = 0"
   ]
  },
  {
   "cell_type": "code",
   "execution_count": null,
   "metadata": {},
   "outputs": [],
   "source": [
    "for x in range(0, len(df.index)):\n",
    "    true_range2 = max(df['H-L'].iloc[x],\n",
    "    df['H-PC'].iloc[x], df['L-PC'].iloc[x])\n",
    "    true_range.append(true_range2)\n",
    "    df2 = pd.DataFrame(true_range, columns=['True Range'])\n",
    "    df['True Range'] = df2['True Range']\n",
    "    for x in range(2, len(df.index)):\n",
    "        atr2 = df.loc[x:x + 9, \"True Range\"].mean()\n",
    "        atr.append(atr2)\n",
    "    df3 = pd.DataFrame(atr, columns=['ATR'])\n",
    "    df['ATR'] = df3['ATR']\n",
    "    multiplier = 2\n",
    "    df['ubb'] = ((df['HIGH'] + df['LOW']) / 2) + (df['ATR'] * multiplier)\n",
    "    df['lbb'] = ((df['HIGH'] + df['LOW']) / 2) - (df['ATR'] * multiplier)\n",
    "    df['ubf'] = 0\n",
    "    df['lbf'] = 0\n",
    "    df['st'] = 0\n",
    "    for x in range(11, len(df.index)):\n",
    "        if (df.loc[x, 'ubb'] < df.loc[x - 1, 'ubf']) or (df.loc[x - 1, 'CLOSE'] > df.loc[x - 1, 'ubf']):\n",
    "            df.loc[x, 'ubf'] = df.loc[x, 'ubb']\n",
    "        else:\n",
    "            df.loc[x, 'ubf'] = df.loc[x - 1, 'ubf']\n",
    "        if (df.loc[x, 'lbb'] > df.loc[x - 1, 'lbf']) or (df.loc[x - 1, 'CLOSE'] < df.loc[x - 1, 'lbf']):\n",
    "            df.loc[x, 'lbf'] = df.loc[x, 'lbb']\n",
    "        else:\n",
    "            df.loc[x, 'lbf'] = df.loc[x - 1, 'lbf']\n",
    "        if ((df.loc[x - 1, 'st'] == df.loc[x - 1, 'ubf']) and (df.loc[x, 'CLOSE'] <= df.loc[x, 'ubf'])) or ((df.loc[x - 1, 'st'] == df.loc[x - 1, 'lbf']) and (df.loc[x, 'CLOSE'] <= df.loc[x, 'lbf'])):\n",
    "            df.loc[x, 'st'] = df.loc[x, 'ubf']\n",
    "        else:\n",
    "            ((df.loc[x - 1, 'st'] == df.loc[x - 1, 'ubf']) and (df.loc[x, 'CLOSE'] > df.loc[x, 'ubf'])) or ((df.loc[x - 1, 'st'] == df.loc[x - 1, 'lbf']) and (df.loc[x, 'CLOSE'] >= df.loc[x, 'lbf']))\n",
    "            df.loc[x, 'st'] = df.loc[x, 'lbf']"
   ]
  },
  {
   "cell_type": "code",
   "execution_count": null,
   "metadata": {},
   "outputs": [],
   "source": [
    "df.round(2)"
   ]
  },
  {
   "cell_type": "code",
   "execution_count": null,
   "metadata": {},
   "outputs": [],
   "source": [
    "df.to_excel(r'D:\\Python\\Project\\Temp\\osama2.xlsx', index = False)"
   ]
  },
  {
   "cell_type": "code",
   "execution_count": null,
   "metadata": {},
   "outputs": [],
   "source": []
  }
 ],
 "metadata": {
  "kernelspec": {
   "display_name": "Python 3",
   "language": "python",
   "name": "python3"
  },
  "language_info": {
   "codemirror_mode": {
    "name": "ipython",
    "version": 3
   },
   "file_extension": ".py",
   "mimetype": "text/x-python",
   "name": "python",
   "nbconvert_exporter": "python",
   "pygments_lexer": "ipython3",
   "version": "3.8.2"
  },
  "latex_envs": {
   "LaTeX_envs_menu_present": true,
   "autoclose": false,
   "autocomplete": true,
   "bibliofile": "biblio.bib",
   "cite_by": "apalike",
   "current_citInitial": 1,
   "eqLabelWithNumbers": true,
   "eqNumInitial": 1,
   "hotkeys": {
    "equation": "Ctrl-E",
    "itemize": "Ctrl-I"
   },
   "labels_anchors": false,
   "latex_user_defs": false,
   "report_style_numbering": false,
   "user_envs_cfg": false
  },
  "nbTranslate": {
   "displayLangs": [
    "*"
   ],
   "hotkey": "alt-t",
   "langInMainMenu": true,
   "sourceLang": "en",
   "targetLang": "fr",
   "useGoogleTranslate": true
  },
  "toc": {
   "base_numbering": 1,
   "nav_menu": {},
   "number_sections": true,
   "sideBar": true,
   "skip_h1_title": false,
   "title_cell": "Table of Contents",
   "title_sidebar": "Contents",
   "toc_cell": false,
   "toc_position": {},
   "toc_section_display": true,
   "toc_window_display": false
  },
  "varInspector": {
   "cols": {
    "lenName": 16,
    "lenType": 16,
    "lenVar": 40
   },
   "kernels_config": {
    "python": {
     "delete_cmd_postfix": "",
     "delete_cmd_prefix": "del ",
     "library": "var_list.py",
     "varRefreshCmd": "print(var_dic_list())"
    },
    "r": {
     "delete_cmd_postfix": ") ",
     "delete_cmd_prefix": "rm(",
     "library": "var_list.r",
     "varRefreshCmd": "cat(var_dic_list()) "
    }
   },
   "types_to_exclude": [
    "module",
    "function",
    "builtin_function_or_method",
    "instance",
    "_Feature"
   ],
   "window_display": false
  }
 },
 "nbformat": 4,
 "nbformat_minor": 4
}
