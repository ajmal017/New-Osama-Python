{
 "cells": [
  {
   "cell_type": "code",
   "execution_count": 21,
   "metadata": {},
   "outputs": [
    {
     "name": "stdout",
     "output_type": "stream",
     "text": [
      "Please enter a Path of  file containing the e-mails to be sent like this 'D:\\document\\mycontact.cvs ' :D:\\Python\\Project\\OsamaPython\\contacts_file.csv\n",
      "Please Enter Your Email:osamapython@gmail.com\n",
      "Please Enter Your Password:Os01265065()\n",
      "Please Enter Subject Here:firstsub\n",
      "Please Enter No.of Attachments3\n",
      "Please Enter path for  attached No.1:D:\\Python\\Project\\OsamaPython\\image1.jpg\n",
      "Please Enter path for  attached No.2:D:\\Python\\Project\\OsamaPython\\image2.jpg\n",
      "Please Enter path for  attached No.3:D:\\Python\\Project\\OsamaPython\\image3.jpg\n",
      "Enter Your message Here:first message\n",
      "Sent ........\n"
     ]
    }
   ],
   "source": [
    "import yagmail\n",
    "import csv\n",
    "\n",
    "attachments = []\n",
    "emails = []\n",
    "names = []\n",
    "# receiver_file = input(\"Please enter a Path of  file containing the e-mails to be sent like this 'D:\\document\\mycontact.cvs ' :\")\n",
    "receiver_file = input(\"Please enter a Path of  file containing the e-mails to be sent like this 'D:\\document\\mycontact.cvs ' :\")\n",
    "with open(receiver_file) as file:\n",
    "    reader = csv.reader(file)\n",
    "    next(reader)  # Skip header row\n",
    "    for name, email, grade in reader:\n",
    "        emails.append(email)\n",
    "        names.append(name)\n",
    "your_email = input('Please Enter Your Email:')\n",
    "your_password = input('Please Enter Your Password:')\n",
    "yag_smtp_connection = yagmail.SMTP(user=your_email, password=your_password, host='smtp.gmail.com')\n",
    "subject = input(\"Please Enter Subject Here:\")\n",
    "no_of_attachments = int(input(\"Please Enter No.of Attachments\"))\n",
    "for x in range(no_of_attachments):\n",
    "    attached = input(f'Please Enter path for  attached No.{x + 1}:')\n",
    "    attachments.append(attached)\n",
    "message = input(\"Enter Your message Here:\")\n",
    "for x in range(0, len(names)):  # Loop to change the name to match the owner of the email\n",
    "    attachments.insert(0, f'Hi {names[x].capitalize()} {message.capitalize()}')\n",
    "    contents = attachments.copy()\n",
    "    attachments.pop(0)\n",
    "    yag_smtp_connection.send(emails[x], subject, contents)\n",
    "print('Sent ........')\n"
   ]
  },
  {
   "cell_type": "code",
   "execution_count": null,
   "metadata": {},
   "outputs": [],
   "source": []
  }
 ],
 "metadata": {
  "kernelspec": {
   "display_name": "Python 3",
   "language": "python",
   "name": "python3"
  },
  "language_info": {
   "codemirror_mode": {
    "name": "ipython",
    "version": 3
   },
   "file_extension": ".py",
   "mimetype": "text/x-python",
   "name": "python",
   "nbconvert_exporter": "python",
   "pygments_lexer": "ipython3",
   "version": "3.8.2"
  }
 },
 "nbformat": 4,
 "nbformat_minor": 4
}
